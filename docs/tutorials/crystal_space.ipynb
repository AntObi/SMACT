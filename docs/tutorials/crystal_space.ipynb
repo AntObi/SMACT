{
 "cells": [
  {
   "cell_type": "markdown",
   "metadata": {},
   "source": [
    "# Exploring crystal space"
   ]
  },
  {
   "cell_type": "markdown",
   "metadata": {},
   "source": [
    "Our goal is to generate, analyze, and categorize chemical compositions, making it easier to discover interesting and useful materials. This tutorial is based on a publication in [Faraday Discussions](https://pubs.rsc.org/en/content/articlelanding/2024/fd/d4fd00063c)."
   ]
  },
  {
   "cell_type": "markdown",
   "metadata": {},
   "source": [
    "## 1. Getting started\n",
    "\n",
    "In this tutorial, we'll:\n",
    "\n",
    "- Generate binary chemical compositions using the SMACT filter.\n",
    "- Explore whether these compositions exist in the Materials Project database.\n",
    "- Categorize the compositions based on whether they pass the SMACT filter and whether they are found in the database.\n",
    "\n",
    "The final phase will categorize the compositions into four distinct categories based on their properties. The categorization is based on whether a composition is allowed by the SMACT filter (smact_allowed) and whether it is present in the Materials Project database (mp). The categories are as follows:\n",
    "\n",
    "| smact_allowed | mp   | label      |\n",
    "|---------------|------|------------|\n",
    "| yes           | yes  | standard   |\n",
    "| yes           | no   | missing    |\n",
    "| no            | yes  | interesting|\n",
    "| no            | no   | unlikely   |"
   ]
  },
  {
   "cell_type": "markdown",
   "metadata": {},
   "source": [
    "## 2. Generating compositions\n",
    "\n",
    "First, we'll create binary chemical compositions using the SMACT filter. The SMACT filter is a smart tool that helps us select compositions based on important chemical rules, such as oxidation states and electronegativity.\n",
    "\n",
    "To generate these compositions, we'll use a function called [`generate_composition_with_smact`](../smact/utils/generate_composition_with_smact.py). This function allows us to enumerate all possible binary compositions and filter them based on the SMACT rules. \n",
    "\n",
    "### Key paramaters:\n",
    "- `num_elements`: Number of elements in the composition (e.g., 2 for binary).\n",
    "- `max_stoich`: The maximum ratio of each element (e.g., 8 could mean up to 8 atoms of each element).\n",
    "- `max_atomic_num`: Maximum atomic number for the elements considered\n",
    "- `num_processes`: Number of processes to run in parallel to speed up calculations.\n",
    "- `save_path`: Where to save the generated compositions."
   ]
  },
  {
   "cell_type": "code",
   "execution_count": null,
   "metadata": {},
   "outputs": [],
   "source": [
    "!pip install -q mp_api"
   ]
  },
  {
   "cell_type": "code",
   "execution_count": null,
   "metadata": {},
   "outputs": [],
   "source": [
    "from smact.utils.generate_composition_with_smact import (\n",
    "    generate_composition_with_smact,\n",
    ")"
   ]
  },
  {
   "cell_type": "code",
   "execution_count": null,
   "metadata": {},
   "outputs": [],
   "source": [
    "df_smact = generate_composition_with_smact(\n",
    "    num_elements=2,\n",
    "    max_stoich=8,\n",
    "    max_atomic_num=103,\n",
    "    num_processes=8,\n",
    "    save_path=\"data/binary/df_binary_label.pkl\",\n",
    ")"
   ]
  },
  {
   "cell_type": "code",
   "execution_count": null,
   "metadata": {},
   "outputs": [],
   "source": [
    "df_smact"
   ]
  },
  {
   "cell_type": "markdown",
   "metadata": {},
   "source": [
    "## 3. Download data from the Materials Project"
   ]
  },
  {
   "cell_type": "markdown",
   "metadata": {},
   "source": [
    "Next, we download data from the `Materials Project api` using the `download_mp_data` function. This function allows us to download data for a given number of elements and maximum stoichiometry. The data includes the chemical formula, energy, and other properties of the compounds.\n",
    "\n",
    "[`download_mp_data`](../smact/utils/download_compounds_with_mp_api.py) function takes in the following parameters:\n",
    "\n",
    "### Key paramaters:\n",
    "- `mp_api_key`: your Materials Project API key\n",
    "- `num_elements`: Number of elements in the composition (e.g., 2 for binary).\n",
    "- `max_stoich`: The maximum ratio of each element (e.g., 8 could mean up to 8 atoms of each element).\n",
    "- `save_dir`: Where to save the downloaded data"
   ]
  },
  {
   "cell_type": "code",
   "execution_count": null,
   "metadata": {},
   "outputs": [],
   "source": [
    "mp_api_key = None  # replace with your own MP API key"
   ]
  },
  {
   "cell_type": "code",
   "execution_count": null,
   "metadata": {},
   "outputs": [],
   "source": [
    "save_mp_dir = \"data/binary/mp_data\""
   ]
  },
  {
   "cell_type": "code",
   "execution_count": null,
   "metadata": {},
   "outputs": [],
   "source": [
    "from smact.utils.download_compounds_with_mp_api import download_mp_data\n",
    "\n",
    "# download data from MP for binary compounds\n",
    "docs = download_mp_data(\n",
    "    mp_api_key=mp_api_key,\n",
    "    num_elements=2,\n",
    "    max_stoich=8,\n",
    "    save_dir=save_mp_dir,\n",
    ")"
   ]
  },
  {
   "cell_type": "markdown",
   "metadata": {},
   "source": [
    "## 4. Categorise compositions"
   ]
  },
  {
   "cell_type": "markdown",
   "metadata": {},
   "source": [
    "Finally, we categorize the compositions into four lables: standard, missing, interesting, and unlikely."
   ]
  },
  {
   "cell_type": "code",
   "execution_count": null,
   "metadata": {},
   "outputs": [],
   "source": [
    "from pathlib import Path\n",
    "import pandas as pd"
   ]
  },
  {
   "cell_type": "code",
   "execution_count": null,
   "metadata": {},
   "outputs": [],
   "source": [
    "mp_data = {p.stem: True for p in Path(save_mp_dir).glob(\"*.json\")}\n",
    "df_mp = pd.DataFrame.from_dict(mp_data, orient=\"index\", columns=[\"mp\"])"
   ]
  },
  {
   "cell_type": "code",
   "execution_count": null,
   "metadata": {},
   "outputs": [],
   "source": [
    "# make category dataframe\n",
    "df_category = df_smact.join(df_mp, how=\"left\").fillna(False)\n",
    "# make label for each category\n",
    "dict_label = {\n",
    "    (True, True): \"standard\",\n",
    "    (True, False): \"missing\",\n",
    "    (False, True): \"interesting\",\n",
    "    (False, False): \"unlikely\",\n",
    "}\n",
    "df_category[\"label\"] = df_category.apply(lambda x: dict_label[(x[\"smact_allowed\"], x[\"mp\"])], axis=1)\n",
    "df_category[\"label\"].apply(dict_label.get)\n",
    "\n",
    "# count number of each label\n",
    "print(df_category[\"label\"].value_counts())\n",
    "\n",
    "# save dataframe\n",
    "df_category.to_pickle(\"data/binary/df_binary_category.pkl\")\n",
    "\n",
    "# show df_category\n",
    "df_category.head()"
   ]
  },
  {
   "cell_type": "markdown",
   "metadata": {},
   "source": [
    "# Next steps\n",
    "\n",
    "move to [`crystal_space_visualisation.ipynb`](crystal_space_visualisation.ipynb) to visualize the data and explore the chemical space."
   ]
  }
 ],
 "metadata": {
  "kernelspec": {
   "display_name": "Python 3 (ipykernel)",
   "language": "python",
   "name": "python3"
  },
  "language_info": {
   "codemirror_mode": {
    "name": "ipython",
    "version": 3
   },
   "file_extension": ".py",
   "mimetype": "text/x-python",
   "name": "python",
   "nbconvert_exporter": "python",
   "pygments_lexer": "ipython3",
   "version": "3.9.19"
  }
 },
 "nbformat": 4,
 "nbformat_minor": 4
}
