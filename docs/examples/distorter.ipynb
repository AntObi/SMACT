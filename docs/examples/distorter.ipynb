{
 "cells": [
  {
   "cell_type": "markdown",
   "metadata": {},
   "source": [
    "# Using distorter\n",
    "\n",
    "The concept of cation mutation (ion substitution) to tune the properties of compounds has been around at least since the [1950s](https://www.sciencedirect.com/science/article/pii/0022369758900507) and has proved a useful concept in more [more recent studies](https://journals.aps.org/prb/abstract/10.1103/PhysRevB.79.165211). \n",
    "\n",
    "In this notebook, we demonstrate the process of generating all possible (symmetry inequivalent) substitutions of Sr on Ba sites in the cubic perovskite BaTiO<sub>3</sub>, considering both single and double substitutions. The distorter module leverages the [ASE](https://wiki.fysik.dtu.dk/ase) Python library."
   ]
  },
  {
   "cell_type": "code",
   "execution_count": 3,
   "metadata": {},
   "outputs": [
    {
     "name": "stdout",
     "output_type": "stream",
     "text": [
      "Substitution 1: Replacing Ba with Sr at site [0.  0.  0.5]\n",
      "----------------------------------------\n",
      "Substitution 2: Replacing Ba with Sr at site [0.  0.5 0.5]\n",
      "----------------------------------------\n",
      "Substitution 3: Replacing Ba with Sr at site [0.5 0.  0. ]\n",
      "----------------------------------------\n",
      "Substitution 4: Replacing Ba with Sr at site [0.5 0.  0.5]\n",
      "----------------------------------------\n",
      "Substitution 5: Replacing Ba with Sr at site [0.5 0.5 0.5]\n",
      "----------------------------------------\n",
      "Substitutions completed\n"
     ]
    }
   ],
   "source": [
    "import smact.builder as builder\n",
    "import smact.distorter as distorter\n",
    "import numpy as np\n",
    "\n",
    "# Step 1: Build the initial cubic perovskite structure\n",
    "smact_lattice, test_case = builder.cubic_perovskite(\n",
    "    [\"Ba\", \"Ti\", \"O\"], repetitions=[2, 2, 2]\n",
    ")\n",
    "\n",
    "# Step 2: Perform a single substitution\n",
    "subs_site = [0.0, 0.0, 0.0]\n",
    "single_substitution = distorter.make_substitution(test_case, subs_site, \"Sr\")\n",
    "\n",
    "# Step 3: Build a sub-lattice for disorder\n",
    "sub_lattice = distorter.build_sub_lattice(single_substitution, \"Ba\")\n",
    "\n",
    "# Step 4: Extract the required data\n",
    "lattice_matrix = single_substitution.get_cell()  # Get the lattice matrix\n",
    "positions = (\n",
    "    single_substitution.get_scaled_positions()\n",
    ")  # Get scaled positions (fractional coordinates)\n",
    "atomic_numbers = single_substitution.get_atomic_numbers()  # Get atomic numbers\n",
    "\n",
    "# Package the data into the expected format: (lattice, positions, atomic numbers)\n",
    "lattice_data = (lattice_matrix, positions, atomic_numbers)\n",
    "\n",
    "# Step 5: Enumerate inequivalent sites using the properly formatted data\n",
    "inequivalent_sites = distorter.get_inequivalent_sites(sub_lattice, lattice_data)\n",
    "\n",
    "# Step 6: Replace Ba at inequivalent sites with Sr and store the structures\n",
    "substituted_structures = []\n",
    "\n",
    "for i, inequivalent_site in enumerate(inequivalent_sites):\n",
    "    print(\n",
    "        f\"Substitution {i + 1}: Replacing Ba with Sr at site {inequivalent_site}\"\n",
    "    )\n",
    "    distorted = distorter.make_substitution(\n",
    "        single_substitution, inequivalent_site, \"Sr\"\n",
    "    )\n",
    "    substituted_structures.append(\n",
    "        distorted\n",
    "    )  # Store the structure for visualization\n",
    "    print(\"-\" * 40)\n",
    "\n",
    "print(\"Substitutions completed\")"
   ]
  },
  {
   "cell_type": "code",
   "execution_count": null,
   "metadata": {},
   "outputs": [],
   "source": [
    "# The distorted objects are of the ase atoms class,\n",
    "# so can be written out to a crystal structure file like a cif\n",
    "distorted.write(\"example_output.cif\")"
   ]
  }
 ],
 "metadata": {
  "kernelspec": {
   "display_name": "Python 3",
   "language": "python",
   "name": "python3"
  },
  "language_info": {
   "codemirror_mode": {
    "name": "ipython",
    "version": 3
   },
   "file_extension": ".py",
   "mimetype": "text/x-python",
   "name": "python",
   "nbconvert_exporter": "python",
   "pygments_lexer": "ipython3",
   "version": "3.12.4"
  }
 },
 "nbformat": 4,
 "nbformat_minor": 2
}
