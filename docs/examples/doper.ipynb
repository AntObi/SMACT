{
 "cells": [
  {
   "cell_type": "markdown",
   "id": "dc3ab04f",
   "metadata": {},
   "source": [
    "# Using doper\n",
    "\n",
    "The Doper module includes the `get_dopants` function. This function requires an input, which is a tuple of strings representing the ionic species of the material.\n",
    "\n",
    "By default, the top five p-type and n-type candidates are reported. Use the `num_dopants` input to modify the number of outputs.\n",
    "\n",
    "### Output Format\n",
    "The output is a dictionary with keys:\n",
    "- \"n_type_cation\"\n",
    "- \"p_type_cation\"\n",
    "- \"n_type_anion\"\n",
    "- \"p_type_anion\"\n",
    "\n",
    "Each key contains a list of possible dopants, ordered by probability (Highest → Lowest). Each possible dopant is represented as a tuple: `('substituted dopant', 'original species', 'probability')`."
   ]
  },
  {
   "cell_type": "code",
   "execution_count": null,
   "id": "193682c3",
   "metadata": {
    "ExecuteTime": {
     "end_time": "2024-07-10T12:47:26.857982Z",
     "start_time": "2024-07-10T12:47:23.929640Z"
    }
   },
   "outputs": [],
   "source": [
    "from smact.dopant_prediction.doper import Doper\n",
    "\n",
    "# Define the material using its ionic species.\n",
    "# Here, we are creating a material object with titanium in the 4+ oxidation state (Ti4+) and oxygen in the 2- oxidation state (O2-).\n",
    "material = Doper((\"Ti4+\", \"O2-\"))\n",
    "\n",
    "# Use the `get_dopants` function to predict potential dopants.\n",
    "# By default, it returns the top 5 p-type and n-type dopants, but this can be adjusted with the `num_dopants` parameter.\n",
    "# The output will be a dictionary with possible n-type and p-type cation and anion dopants.\n",
    "dopants = material.get_dopants(num_dopants=5)\n",
    "\n",
    "# Print the dopant predictions.\n",
    "# Each entry in these lists is a tuple: ('substituted dopant', 'original species', 'probability').\n",
    "print(dopants)"
   ]
  },
  {
   "cell_type": "markdown",
   "id": "a8981931c712eb35",
   "metadata": {},
   "source": [
    "The results can be presented in a table format using the `to_table` attribute."
   ]
  },
  {
   "cell_type": "code",
   "execution_count": null,
   "id": "85b73f0fbcedbcf9",
   "metadata": {
    "ExecuteTime": {
     "end_time": "2024-07-10T12:47:26.889530Z",
     "start_time": "2024-07-10T12:47:26.863518Z"
    },
    "collapsed": false,
    "jupyter": {
     "outputs_hidden": false
    }
   },
   "outputs": [],
   "source": [
    "material.to_table"
   ]
  },
  {
   "cell_type": "markdown",
   "id": "11ec5825",
   "metadata": {},
   "source": [
    "Ternary and multicomponent systems can also be dealt with."
   ]
  },
  {
   "cell_type": "code",
   "execution_count": null,
   "id": "df5a5dbb",
   "metadata": {
    "ExecuteTime": {
     "end_time": "2024-07-10T12:47:29.779856Z",
     "start_time": "2024-07-10T12:47:26.893523Z"
    }
   },
   "outputs": [],
   "source": [
    "quaternary = Doper((\"Cu1+\", \"Zn2+\", \"Ge4+\", \"S2-\"))\n",
    "quaternary.get_dopants()"
   ]
  },
  {
   "cell_type": "markdown",
   "id": "f2524a92",
   "metadata": {},
   "source": [
    "If you want to plot the results in the form of heatmap, use `plot_dopants` method.\n",
    "\n",
    "The default heatmap is 'YlOrRd'. Refer to the matplotlib documentation for other options using \"cmap\" parameter."
   ]
  },
  {
   "cell_type": "code",
   "execution_count": null,
   "id": "dc29d078",
   "metadata": {
    "ExecuteTime": {
     "end_time": "2024-07-10T12:47:32.311541Z",
     "start_time": "2024-07-10T12:47:29.785864Z"
    }
   },
   "outputs": [],
   "source": [
    "quaternary.plot_dopants(cmap=\"Reds\")"
   ]
  },
  {
   "cell_type": "markdown",
   "id": "97bc99c142543c4a",
   "metadata": {},
   "source": [
    "## Alternative metrics\n",
    "\n",
    "The probability values for the dopants are calculated based on the algorithm presented in:\n",
    "        [Hautier, G., Fischer, C., Ehrlacher, V., Jain, A., and Ceder, G. (2011)\n",
    "        Data Mined Ionic Substitutions for the Discovery of New Compounds.\n",
    "        Inorganic Chemistry, 50(2), 656-663](https://pubs.acs.org/doi/10.1021/ic102031h)\n",
    "        \n",
    "In SMACT, we can also provide alternative ways for determing the possible dopants based on alternative probability or similarity metrics.\n",
    "\n",
    "For example, we have a similarity metric based on distributed representations of the ions, which we call `skipspecies`. This metric is based on the idea that similar ions should have similar embeddings. The similarity is calculated based on the cosine similarity of the embeddings of the ions."
   ]
  },
  {
   "cell_type": "code",
   "execution_count": null,
   "id": "f9d9781a",
   "metadata": {
    "ExecuteTime": {
     "start_time": "2024-07-10T12:47:32.316534Z"
    },
    "is_executing": true
   },
   "outputs": [],
   "source": [
    "doper_skipspecies = Doper((\"Ti4+\", \"O2-\"), embedding=\"skipspecies\", use_probability=False)\n",
    "doper_skipspecies.get_dopants(5)\n",
    "# Present results in a table\n",
    "doper_skipspecies.to_table"
   ]
  },
  {
   "cell_type": "markdown",
   "id": "df4ed5ade4ff40c5",
   "metadata": {},
   "source": []
  }
 ],
 "metadata": {
  "kernelspec": {
   "display_name": "Python 3 (ipykernel)",
   "language": "python",
   "name": "python3"
  },
  "language_info": {
   "codemirror_mode": {
    "name": "ipython",
    "version": 3
   },
   "file_extension": ".py",
   "mimetype": "text/x-python",
   "name": "python",
   "nbconvert_exporter": "python",
   "pygments_lexer": "ipython3",
   "version": "3.9.16"
  }
 },
 "nbformat": 4,
 "nbformat_minor": 5
}
