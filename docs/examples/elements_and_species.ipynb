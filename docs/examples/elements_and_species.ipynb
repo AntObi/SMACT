{
 "cells": [
  {
   "cell_type": "markdown",
   "id": "0",
   "metadata": {},
   "source": [
    "# Using element and species classes\n",
    "\n",
    "The element and species classes are at the heart of `smact` functionality. Elements are the elements of the periodic table. Species are elements, with some additional information; the oxidation state and the coordination environment (if known). So for example the element iron can have many oxidation states and those oxidation states can have many coordination environments."
   ]
  },
  {
   "cell_type": "code",
   "execution_count": null,
   "id": "1",
   "metadata": {
    "tags": []
   },
   "outputs": [
    {
     "name": "stdout",
     "output_type": "stream",
     "text": [
      "The element Fe has 8 oxidation states. They are [-2, -1, 1, 2, 3, 4, 5, 6].\n"
     ]
    }
   ],
   "source": [
    "import smact\n",
    "\n",
    "iron = smact.Element(\"Fe\")\n",
    "print(\n",
    "    \"The element %s has %i oxidation states. They are %s.\"\n",
    "    % (iron.symbol, len(iron.oxidation_states), iron.oxidation_states)\n",
    ")"
   ]
  },
  {
   "cell_type": "markdown",
   "id": "2",
   "metadata": {},
   "source": [
    "When an element has an oxidation state and coordination environment then it has additional features. For example, the Shannon radius of the element is useful for calculating radius ratio rules, or for training neural networks."
   ]
  },
  {
   "cell_type": "code",
   "execution_count": null,
   "id": "3",
   "metadata": {
    "tags": []
   },
   "outputs": [
    {
     "name": "stdout",
     "output_type": "stream",
     "text": [
      "Square planar iron has a Shannon radius of None Angstrom\n"
     ]
    }
   ],
   "source": [
    "iron_square_planar = smact.Species(\"Fe\", 2, \"4_n\")\n",
    "print(\"Square planar iron has a Shannon radius of %s Angstrom\" % iron_square_planar.shannon_radius)"
   ]
  }
 ],
 "metadata": {
  "kernelspec": {
   "display_name": "Python 3 (ipykernel)",
   "language": "python",
   "name": "python3"
  },
  "language_info": {
   "codemirror_mode": {
    "name": "ipython",
    "version": 3
   },
   "file_extension": ".py",
   "mimetype": "text/x-python",
   "name": "python",
   "nbconvert_exporter": "python",
   "pygments_lexer": "ipython3",
   "version": "3.9.16"
  }
 },
 "nbformat": 4,
 "nbformat_minor": 5
}
