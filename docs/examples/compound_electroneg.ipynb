{
 "cells": [
  {
   "cell_type": "markdown",
   "id": "6191a1a8-8be2-4a1f-b6a5-9bb1c50aba5a",
   "metadata": {
    "tags": []
   },
   "source": [
    "# Using compound electronegativity\n",
    "\n",
    "One property that is often used in high-throughput screening where band alignment is important is the\n",
    "compound electronegativity. Ginley and Butler showed how the simple geometric mean of the\n",
    "electronegitivities of a compound could be used to predict flat band potential. `smact` has a built\n",
    "in function to calculate this property for a given composition."
   ]
  },
  {
   "cell_type": "code",
   "execution_count": 4,
   "id": "89cc2692-f3d4-431a-9b00-abbe6358fd21",
   "metadata": {
    "tags": []
   },
   "outputs": [
    {
     "name": "stdout",
     "output_type": "stream",
     "text": [
      "[7.295419353970365, 5.2443464083242155]\n"
     ]
    }
   ],
   "source": [
    "import smact.properties\n",
    "\n",
    "allowed_combinations = [\n",
    "(['H', 'O'], [2, 1]),\n",
    "(['Ba', 'Ti', 'O'], [1, 1, 3])]\n",
    "\n",
    "compound_electronegs = [smact.properties.compound_electroneg(elements = a[0], stoichs = a[1]) for a in allowed_combinations]\n",
    "\n",
    "print(compound_electronegs)"
   ]
  }
 ],
 "metadata": {
  "kernelspec": {
   "display_name": "Python 3 (ipykernel)",
   "language": "python",
   "name": "python3"
  },
  "language_info": {
   "codemirror_mode": {
    "name": "ipython",
    "version": 3
   },
   "file_extension": ".py",
   "mimetype": "text/x-python",
   "name": "python",
   "nbconvert_exporter": "python",
   "pygments_lexer": "ipython3",
   "version": "3.9.16"
  }
 },
 "nbformat": 4,
 "nbformat_minor": 5
}
