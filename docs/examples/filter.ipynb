{
 "cells": [
  {
   "attachments": {},
   "cell_type": "markdown",
   "id": "dc3ab04f",
   "metadata": {},
   "source": [
    "# Using filter  \n",
    "\n",
    "The `smact_filter` function from the `smact.screening` module screens possible combinations of elements in a chemical system. It applies chemical rules to filter and return valid compositions.\n",
    "\n",
    "In the following example, we apply `smact_filter` to a combination of elements to find valid compositions within a stoichiometry threshold."
   ]
  },
  {
   "cell_type": "code",
   "execution_count": 7,
   "id": "11d31c06",
   "metadata": {},
   "outputs": [
    {
     "name": "stdout",
     "output_type": "stream",
     "text": [
      "'(elements), (charges), (stoichiometry)'\n",
      "[(('Ti', 'Ga', 'O'), (1, 1, -2), (1, 1, 1)),\n",
      " (('Ti', 'Ga', 'O'), (1, 1, -2), (1, 3, 2)),\n",
      " (('Ti', 'Ga', 'O'), (1, 1, -2), (3, 1, 2)),\n",
      " (('Ti', 'Ga', 'O'), (1, 1, -1), (1, 1, 2)),\n",
      " (('Ti', 'Ga', 'O'), (1, 1, -1), (1, 2, 3)),\n",
      " (('Ti', 'Ga', 'O'), (1, 1, -1), (2, 1, 3)),\n",
      " (('Ti', 'Ga', 'O'), (1, 2, -2), (2, 1, 2)),\n",
      " (('Ti', 'Ga', 'O'), (1, 2, -2), (2, 2, 3)),\n",
      " (('Ti', 'Ga', 'O'), (1, 2, -1), (1, 1, 3)),\n",
      " (('Ti', 'Ga', 'O'), (1, 3, -2), (1, 1, 2)),\n",
      " (('Ti', 'Ga', 'O'), (1, 3, -2), (3, 1, 3)),\n",
      " (('Ti', 'Ga', 'O'), (2, 1, -2), (1, 2, 2)),\n",
      " (('Ti', 'Ga', 'O'), (2, 1, -2), (2, 2, 3)),\n",
      " (('Ti', 'Ga', 'O'), (2, 1, -1), (1, 1, 3)),\n",
      " (('Ti', 'Ga', 'O'), (2, 2, -2), (1, 1, 2)),\n",
      " (('Ti', 'Ga', 'O'), (2, 2, -2), (1, 2, 3)),\n",
      " (('Ti', 'Ga', 'O'), (2, 2, -2), (2, 1, 3)),\n",
      " (('Ti', 'Ga', 'O'), (3, 1, -2), (1, 1, 2)),\n",
      " (('Ti', 'Ga', 'O'), (3, 1, -2), (1, 3, 3)),\n",
      " (('Ti', 'Ga', 'O'), (3, 3, -2), (1, 1, 3)),\n",
      " (('Ti', 'Ga', 'O'), (4, 1, -2), (1, 2, 3)),\n",
      " (('Ti', 'Ga', 'O'), (4, 2, -2), (1, 1, 3))]\n"
     ]
    }
   ],
   "source": [
    "import smact\n",
    "from smact.screening import smact_filter\n",
    "import pprint\n",
    "\n",
    "# Define a list of elements to screen\n",
    "elements = ['Ti', 'Ga', 'O']\n",
    "\n",
    "# Convert element symbols into smact.Element objects\n",
    "element_objects = [smact.Element(e) for e in elements]\n",
    "\n",
    "# Apply smact_filter to find valid compositions within a stoichiometry threshold\n",
    "allowed_combinations = smact_filter(element_objects, threshold=3)\n",
    "\n",
    "# Display the allowed combinations in a readable format\n",
    "pprint.pprint(\"(elements), (charges), (stoichiometry)\")\n",
    "pprint.pprint(allowed_combinations)"
   ]
  },
  {
   "cell_type": "code",
   "execution_count": null,
   "id": "5bb1e690",
   "metadata": {},
   "outputs": [],
   "source": []
  }
 ],
 "metadata": {
  "kernelspec": {
   "display_name": "venv",
   "language": "python",
   "name": "python3"
  },
  "language_info": {
   "codemirror_mode": {
    "name": "ipython",
    "version": 3
   },
   "file_extension": ".py",
   "mimetype": "text/x-python",
   "name": "python",
   "nbconvert_exporter": "python",
   "pygments_lexer": "ipython3",
   "version": "3.12.4"
  }
 },
 "nbformat": 4,
 "nbformat_minor": 5
}
