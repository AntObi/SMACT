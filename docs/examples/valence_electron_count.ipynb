{
 "cells": [
  {
   "cell_type": "markdown",
   "metadata": {},
   "source": [
    "# Using the valence electron concentration\n",
    "\n",
    "A property that is often used in studies of metallic compounds is the valence electron concentration (VEC). It has proven useful in determining the phase stability of intermetallic compounds and in predicting the crystal structure of metallic compounds. The VEC is defined as the number of valence electrons per atom in a compound.\n",
    "\n",
    "It's formula is given by:\n",
    "\n",
    "$$\\text{VEC} = \\sum_{i=1}^{n} c_{i}(\\text{VEC})_{i}$$\n",
    "\n",
    "\n",
    "where $c_{i}$ is the concentration of the $i$-th element in the compound and $(\\text{VEC})_{i}$ is the valence electron concentration of the $i$-th element.\n",
    "\n",
    "`smact` has a built-in function to calculate the VEC of a compound. Let's see how to use it."
   ]
  },
  {
   "cell_type": "code",
   "execution_count": null,
   "metadata": {},
   "outputs": [
    {
     "name": "stdout",
     "output_type": "stream",
     "text": [
      "Cu0.5NiAlCoCrFeSi has a VEC of 7.00\n",
      "WNbMoTa has a VEC of 5.50\n",
      "AlCoCrCu0.5FeNi3 has a VEC of 8.20\n",
      "Ca65Mg15Zn20 has a VEC of 4.00\n"
     ]
    }
   ],
   "source": [
    "import smact.properties  # Importing the SMACT properties module\n",
    "\n",
    "# List of chemical formulas for which VEC will be calculated\n",
    "formulas = [\"Cu0.5NiAlCoCrFeSi\", \"WNbMoTa\", \"AlCoCrCu0.5FeNi3\", \"Ca65Mg15Zn20\"]\n",
    "\n",
    "# Calculate VEC for each formula using a list comprehension\n",
    "valence_electron_concentrations = [smact.properties.valence_electron_count(formula) for formula in formulas]\n",
    "\n",
    "# Print the VEC for each formula\n",
    "for formula, vec in zip(formulas, valence_electron_concentrations):\n",
    "    print(f\"{formula} has a VEC of {vec:.2f}\")"
   ]
  }
 ],
 "metadata": {
  "kernelspec": {
   "display_name": "smact_dev",
   "language": "python",
   "name": "python3"
  },
  "language_info": {
   "codemirror_mode": {
    "name": "ipython",
    "version": 3
   },
   "file_extension": ".py",
   "mimetype": "text/x-python",
   "name": "python",
   "nbconvert_exporter": "python",
   "pygments_lexer": "ipython3",
   "version": "3.10.14"
  }
 },
 "nbformat": 4,
 "nbformat_minor": 2
}
