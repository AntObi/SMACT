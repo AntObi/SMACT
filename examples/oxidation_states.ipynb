{
 "cells": [
  {
   "cell_type": "markdown",
   "metadata": {},
   "source": [
    "# Using oxidation states\n",
    "\n",
    "Here, we demonstrate the main functionalities of the `smact.oxidation_states` submodule. The main class is `Oxidation_state_probability_finder`."
   ]
  },
  {
   "cell_type": "code",
   "execution_count": 1,
   "metadata": {},
   "outputs": [],
   "source": [
    "from smact import Species\n",
    "from smact.oxidation_states import Oxidation_state_probability_finder\n",
    "\n",
    "# Instantiate the oxidation state probability finder\n",
    "ox_prob_finder = Oxidation_state_probability_finder()"
   ]
  },
  {
   "cell_type": "markdown",
   "metadata": {},
   "source": [
    "We can examine what species are included in the probability table through the `get_included_species` method."
   ]
  },
  {
   "cell_type": "code",
   "execution_count": 3,
   "metadata": {},
   "outputs": [
    {
     "name": "stdout",
     "output_type": "stream",
     "text": [
      "The species included in the probability table are: \n",
      "['O-2', 'Br-1', 'Cl-1', 'Se-2', 'I-1', 'Te-2', 'S-2', 'F-1', 'Nb2', 'Ce2', 'Hf2', 'Cr4', 'Ni2', 'Be2', 'Ho2', 'Bi1', 'Zn2', 'Fe2', 'Lu3', 'Ga3', 'Yb3', 'Rh3', 'In2', 'U5', 'In1', 'Li1', 'Eu2', 'Ta4', 'Ga1', 'Co3', 'K1', 'Ge2', 'Pr3', 'Tl3', 'Y3', 'Nd3', 'Nb5', 'Fe4', 'Re4', 'Ti3', 'Pd2', 'Ru3', 'Hg2', 'Mn2', 'Ba2', 'Tm2', 'Cu2', 'Sr2', 'La2', 'Co1', 'Ag1', 'Fe3', 'Cr3', 'Cr5', 'Ni1', 'W5', 'Nb3', 'Ca2', 'Bi2', 'Re2', 'Bi3', 'Al3', 'Re3', 'In3', 'Cr6', 'Sn2', 'Eu3', 'Ta1', 'Ta5', 'Hf4', 'Pb4', 'Ti4', 'Fe1', 'Ho3', 'Cu3', 'Sc3', 'Bi5', 'Tb2', 'Rh1', 'Th3', 'Mn5', 'Ag2', 'Zr3', 'Mo5', 'Ce3', 'Pb2', 'Ge3', 'Pd4', 'Ni3', 'Tb1', 'Ir3', 'Gd2', 'Zr4', 'W4', 'Mo4', 'Th4', 'Sb3', 'Y1', 'Ta3', 'Ru2', 'Re5', 'V2', 'Zr1', 'Ce4', 'Gd3', 'Pr2', 'Tm3', 'U3', 'Sn4', 'Cu1', 'Mn4', 'Ru4', 'Ni4', 'Sc2', 'W6', 'Dy3', 'Zr2', 'La3', 'Ir6', 'Re7', 'Tb4', 'W2', 'Mo6', 'Na1', 'Y2', 'Re6', 'Ru6', 'V3', 'Co4', 'Mg2', 'Sc1', 'Sb5', 'Nb4', 'Ru5', 'Sb4', 'Mn7', 'Pd3', 'Mo2', 'U4', 'Ga2', 'Er3', 'Mn1', 'Rb1', 'Nb1', 'Yb2', 'Ir4', 'Hg1', 'Ti2', 'Co2', 'Mo3', 'Cs1', 'Tl1', 'V4', 'Cr2', 'Dy2', 'La1', 'U6', 'Sm3', 'Ge4', 'V5', 'Tb3', 'Cd2', 'W3', 'Mn3', 'Ir5', 'Nd2', 'U2', 'Sn3', 'Mn6', 'Ta2', 'Sm2', 'Ag3', 'Rh4']\n"
     ]
    }
   ],
   "source": [
    "included_species = ox_prob_finder.get_included_species()\n",
    "\n",
    "print(\n",
    "    f\"The species included in the probability table are \\n{included_species}\"\n",
    ")"
   ]
  },
  {
   "cell_type": "markdown",
   "metadata": {},
   "source": [
    "The probability of a cation-anion pair appearing together is computed using the method `pair_probability` as demonstrated below for Al<sup>3+</sup> and O<sup>2-</sup>. The pair probability for a species-anion pair ($P_{SA}$) is given by:\n",
    "\n",
    "$P_{SA} = \\frac{N_{SX}}{N_{MX}}$\n",
    "\n",
    "where $N_{MX}$ is the total number of compounds containing the metal element M, and X is the most electronegative anion."
   ]
  },
  {
   "cell_type": "code",
   "execution_count": 4,
   "metadata": {},
   "outputs": [
    {
     "name": "stdout",
     "output_type": "stream",
     "text": [
      " The probability of Al 3+ with O 2- is: 1.0\n"
     ]
    }
   ],
   "source": [
    "Al = Species(\"Al\", oxidation=3, coordination=6)\n",
    "O = Species(\"O\", oxidation=-2, coordination=6)\n",
    "\n",
    "print(\n",
    "    f\" The probability of Al 3+ with O 2- is {ox_prob_finder.pair_probability(Al,O)}\"\n",
    ")"
   ]
  },
  {
   "cell_type": "markdown",
   "metadata": {},
   "source": [
    "We can also compute the compound probability which for a ternary compound, A<sub>a</sub>B<sub>b</sub>X<sub>x</sub>, is given by:\n",
    "\n",
    "$P_{A_{a}B_{b}X_{x}} = P_{AX}P_{BX} = \\frac{N_{AX}}{N_{M_{A}X}} \\times \\frac{N_{BX}}{N_{M_{B}X}}$\n",
    "\n",
    "We will calculate $P_{CaAl_{2}O_{4}}$."
   ]
  },
  {
   "cell_type": "code",
   "execution_count": 6,
   "metadata": {},
   "outputs": [
    {
     "name": "stdout",
     "output_type": "stream",
     "text": [
      "The compound probability for CaAl2O4 is 1.0.\n"
     ]
    }
   ],
   "source": [
    "# Create a list of species for our compound of interest\n",
    "CaAl2O4 = [Species(\"Ca\", 2), Species(\"Al\", 3), Species(\"O\", -2)]\n",
    "\n",
    "prob_compound = ox_prob_finder.compound_probability(CaAl2O4)\n",
    "\n",
    "print(f\"The compound probability for CaAl2O4 is {prob_compound}.\")"
   ]
  },
  {
   "cell_type": "markdown",
   "metadata": {},
   "source": [
    "We can also compute this compound probability for a pymatgen structure."
   ]
  },
  {
   "cell_type": "code",
   "execution_count": 7,
   "metadata": {},
   "outputs": [
    {
     "name": "stdout",
     "output_type": "stream",
     "text": [
      "The structure of mp-540839 CsPbI3:\n",
      "\n",
      "Full Formula (Cs4 Pb4 I12)\n",
      "Reduced Formula: CsPbI3\n",
      "abc   :   4.847142  10.650447  18.031199\n",
      "angles:  90.000000  90.000000  90.000000\n",
      "pbc   :       True       True       True\n",
      "Sites (20)\n",
      "  #  SP       a         b         c\n",
      "---  ----  ----  --------  --------\n",
      "  0  Cs+   0.75  0.581276  0.17212\n",
      "  1  Cs+   0.25  0.418724  0.82788\n",
      "  2  Cs+   0.75  0.081276  0.32788\n",
      "  3  Cs+   0.25  0.918724  0.67212\n",
      "  4  Pb2+  0.25  0.661849  0.439217\n",
      "  5  Pb2+  0.75  0.338151  0.560783\n",
      "  6  Pb2+  0.25  0.161849  0.060783\n",
      "  7  Pb2+  0.75  0.838151  0.939217\n",
      "  8  I-    0.75  0.837211  0.502045\n",
      "  9  I-    0.25  0.162789  0.497955\n",
      " 10  I-    0.75  0.337211  0.997955\n",
      " 11  I-    0.25  0.662789  0.002045\n",
      " 12  I-    0.25  0.529272  0.612308\n",
      " 13  I-    0.75  0.470728  0.387692\n",
      " 14  I-    0.25  0.029272  0.887692\n",
      " 15  I-    0.75  0.970728  0.112308\n",
      " 16  I-    0.25  0.796317  0.287306\n",
      " 17  I-    0.75  0.203683  0.712694\n",
      " 18  I-    0.25  0.296317  0.212694\n",
      " 19  I-    0.75  0.703683  0.787306\n",
      "\n",
      "The compound probability for CsPbI3 is 1.0\n"
     ]
    }
   ],
   "source": [
    "from pymatgen.core import Structure\n",
    "\n",
    "struct = Structure.from_file(\"cspbi3.cif\")\n",
    "print(\"The structure of mp-540839 CsPbI3:\\n\")\n",
    "print(struct)\n",
    "\n",
    "prob_compound = ox_prob_finder.compound_probability(struct)\n",
    "\n",
    "print(f\"\\nThe compound probability for CsPbI3 is {prob_compound}\")"
   ]
  }
 ],
 "metadata": {
  "kernelspec": {
   "display_name": "Python 3.8.13 ('smact_tests')",
   "language": "python",
   "name": "python3"
  },
  "language_info": {
   "codemirror_mode": {
    "name": "ipython",
    "version": 3
   },
   "file_extension": ".py",
   "mimetype": "text/x-python",
   "name": "python",
   "nbconvert_exporter": "python",
   "pygments_lexer": "ipython3",
   "version": "3.12.4"
  },
  "orig_nbformat": 4,
  "vscode": {
   "interpreter": {
    "hash": "9f89bce96645c075fd87ba4308874c26726cf41cb3962e47a97b7697a60dd355"
   }
  }
 },
 "nbformat": 4,
 "nbformat_minor": 2
}
