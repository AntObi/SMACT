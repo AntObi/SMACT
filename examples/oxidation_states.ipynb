{
 "cells": [
  {
   "cell_type": "markdown",
   "metadata": {},
   "source": [
    "# Using oxidation states\n",
    "\n",
    "Here, we will demonstrate the main functionalities of the `oxidation_states` submodule of SMACT."
   ]
  },
  {
   "cell_type": "code",
   "execution_count": 4,
   "metadata": {},
   "outputs": [],
   "source": [
    "# Imports\n",
    "\n",
    "from pymatgen.core import Structure\n",
    "from smact import Species\n",
    "from smact.oxidation_states import Oxidation_state_probability_finder"
   ]
  },
  {
   "cell_type": "markdown",
   "metadata": {},
   "source": [
    "## Getting started with the oxidation_states submodule\n",
    "\n",
    "The main class of the `smact.oxidation_states` submodule is `Oxidation_state_probability_finder`. We will demonstrate the usage of the methods of this class below."
   ]
  },
  {
   "cell_type": "code",
   "execution_count": 5,
   "metadata": {},
   "outputs": [],
   "source": [
    "# Instantiate the oxidation state probability finder class with the default table\n",
    "ox_prob_finder = Oxidation_state_probability_finder()"
   ]
  },
  {
   "cell_type": "markdown",
   "metadata": {},
   "source": [
    "After instantiating the class, we can examine what species are included in the probability table through the `get_included_species` method."
   ]
  },
  {
   "cell_type": "code",
   "execution_count": 6,
   "metadata": {},
   "outputs": [
    {
     "name": "stdout",
     "output_type": "stream",
     "text": [
      "The species included in the probability table for the oxidation states model are show below \n",
      "['O-2', 'Cl-1', 'Se-2', 'F-1', 'I-1', 'S-2', 'Te-2', 'Br-1', 'Ag2', 'Re4', 'Sc3', 'Mn2', 'Ag3', 'Re3', 'Ir5', 'La2', 'Bi5', 'Ge2', 'Ir4', 'Tm2', 'W5', 'Hg1', 'W2', 'Eu2', 'Ta4', 'In3', 'Hg2', 'Cu3', 'Cr2', 'K1', 'Ir3', 'Hf2', 'Sc1', 'Er3', 'Mo2', 'Co2', 'Yb2', 'Fe2', 'Re2', 'Ni2', 'Bi3', 'U4', 'Co3', 'Eu3', 'Fe3', 'Ru3', 'Ge4', 'Pd4', 'Mg2', 'Nd3', 'Cd2', 'Rh1', 'Fe4', 'Ho2', 'Ta2', 'Ru5', 'Tl3', 'Co1', 'Ti4', 'La1', 'Mn6', 'Ru4', 'Tl1', 'In1', 'Nb3', 'Ta3', 'Ga3', 'Re6', 'U6', 'Sr2', 'Zr4', 'Pr3', 'W3', 'U5', 'Al3', 'Cr3', 'Sn2', 'Ag1', 'Cu2', 'Zr1', 'Re7', 'Ti2', 'Re5', 'Pr2', 'Cr6', 'Mn3', 'Co4', 'Ni1', 'V3', 'Zn2', 'Sm3', 'Sn3', 'Tb1', 'Ru6', 'Y2', 'Tm3', 'Tb4', 'Cs1', 'Nb1', 'Th4', 'Cr5', 'Ni4', 'Rh4', 'W4', 'Sb5', 'Dy2', 'Pb2', 'Ni3', 'Ce3', 'Bi1', 'Sb3', 'Mn7', 'Nb5', 'Ti3', 'Ho3', 'Ga2', 'Th3', 'Rb1', 'V2', 'V4', 'Mo4', 'Ce4', 'Ta5', 'Na1', 'Gd2', 'Hf4', 'Ge3', 'Mn4', 'Mn1', 'Ta1', 'Y3', 'Bi2', 'Ga1', 'Nd2', 'Mo6', 'U3', 'Zr3', 'Pd2', 'Tb3', 'W6', 'Pb4', 'Mn5', 'Ba2', 'Mo3', 'Ir6', 'Gd3', 'In2', 'Sb4', 'Rh3', 'Ca2', 'Zr2', 'Sm2', 'Sc2', 'Be2', 'La3', 'V5', 'Lu3', 'U2', 'Cr4', 'Dy3', 'Y1', 'Ru2', 'Tb2', 'Cu1', 'Nb2', 'Pd3', 'Yb3', 'Mo5', 'Ce2', 'Fe1', 'Li1', 'Nb4', 'Sn4']\n"
     ]
    }
   ],
   "source": [
    "included_species = ox_prob_finder.get_included_species()\n",
    "\n",
    "print(\n",
    "    f\"The species included in the probability table for the oxidation states model are show below \\n{included_species}\"\n",
    ")"
   ]
  },
  {
   "cell_type": "markdown",
   "metadata": {},
   "source": [
    "We can compute the probability of a cation-anion pair appearing together using the method `pair_probability` as demonstrated below for Al<sup>3+</sup> and O<sup>2-</sup>. The pair probability for a species-anion pair ($P_{SA}$) is given by:\n",
    "\n",
    "$P_{SA} = \\frac{N_{SX}}{N_{MX}}$\n",
    "\n",
    "where $N_{MX}$ is the total number of compounds containing the metal element M, and X is the most electronegative anion."
   ]
  },
  {
   "cell_type": "code",
   "execution_count": 7,
   "metadata": {},
   "outputs": [
    {
     "name": "stdout",
     "output_type": "stream",
     "text": [
      " The probability of Al existing in 3+ oxidation states with O in a 2- oxidation state is 1.0\n"
     ]
    }
   ],
   "source": [
    "Al = Species(\"Al\", oxidation=3, coordination=6)\n",
    "O = Species(\"O\", oxidation=-2, coordination=6)\n",
    "\n",
    "print(\n",
    "    f\" The probability of Al existing in 3+ oxidation states with O in a 2- oxidation state is {ox_prob_finder.pair_probability(Al,O)}\"\n",
    ")"
   ]
  },
  {
   "cell_type": "markdown",
   "metadata": {},
   "source": [
    "We can also compute the compound probability which for a ternary compound, A<sub>a</sub>B<sub>b</sub>X<sub>x</sub>, is given by:\n",
    "\n",
    "$P_{A_{a}B_{b}X_{x}} = P_{AX}P_{BX} = \\frac{N_{AX}}{N_{M_{A}X}} \\times \\frac{N_{BX}}{N_{M_{B}X}}$\n",
    "\n",
    "We will calculate $P_{CaAl_{2}O_{4}}$."
   ]
  },
  {
   "cell_type": "code",
   "execution_count": 8,
   "metadata": {},
   "outputs": [
    {
     "name": "stdout",
     "output_type": "stream",
     "text": [
      "The compound probability for CaAl2O4 is 1.0.\n"
     ]
    }
   ],
   "source": [
    "# Create a list of species for our compound of interest\n",
    "CaAl2O4 = [Species(\"Ca\", 2), Species(\"Al\", 3), Species(\"O\", -2)]\n",
    "\n",
    "prob_compound = ox_prob_finder.compound_probability(CaAl2O4)\n",
    "\n",
    "print(f\"The compound probability for CaAl2O4 is {prob_compound}.\")"
   ]
  },
  {
   "cell_type": "markdown",
   "metadata": {},
   "source": [
    "We can compute this compound probability for a pymatgen Structure as well."
   ]
  },
  {
   "cell_type": "code",
   "execution_count": 9,
   "metadata": {},
   "outputs": [
    {
     "name": "stdout",
     "output_type": "stream",
     "text": [
      "The structure of mp-540839 CsPbI3:\n",
      "\n",
      "Full Formula (Cs4 Pb4 I12)\n",
      "Reduced Formula: CsPbI3\n",
      "abc   :   4.847142  10.650447  18.031199\n",
      "angles:  90.000000  90.000000  90.000000\n",
      "pbc   :       True       True       True\n",
      "Sites (20)\n",
      "  #  SP       a         b         c\n",
      "---  ----  ----  --------  --------\n",
      "  0  Cs+   0.75  0.581276  0.17212\n",
      "  1  Cs+   0.25  0.418724  0.82788\n",
      "  2  Cs+   0.75  0.081276  0.32788\n",
      "  3  Cs+   0.25  0.918724  0.67212\n",
      "  4  Pb2+  0.25  0.661849  0.439217\n",
      "  5  Pb2+  0.75  0.338151  0.560783\n",
      "  6  Pb2+  0.25  0.161849  0.060783\n",
      "  7  Pb2+  0.75  0.838151  0.939217\n",
      "  8  I-    0.75  0.837211  0.502045\n",
      "  9  I-    0.25  0.162789  0.497955\n",
      " 10  I-    0.75  0.337211  0.997955\n",
      " 11  I-    0.25  0.662789  0.002045\n",
      " 12  I-    0.25  0.529272  0.612308\n",
      " 13  I-    0.75  0.470728  0.387692\n",
      " 14  I-    0.25  0.029272  0.887692\n",
      " 15  I-    0.75  0.970728  0.112308\n",
      " 16  I-    0.25  0.796317  0.287306\n",
      " 17  I-    0.75  0.203683  0.712694\n",
      " 18  I-    0.25  0.296317  0.212694\n",
      " 19  I-    0.75  0.703683  0.787306\n",
      "\n",
      "The compound probability for CsPbI3 is 1.0.\n"
     ]
    }
   ],
   "source": [
    "# Load the structure file\n",
    "\n",
    "struct = Structure.from_file(\"cspbi3.cif\")\n",
    "print(\"The structure of mp-540839 CsPbI3:\\n\")\n",
    "print(struct)\n",
    "\n",
    "\n",
    "# Get the compound probability for CsPbI3\n",
    "prob = ox_prob_finder.compound_probability(struct)\n",
    "\n",
    "print(f\"\\nThe compound probability for CsPbI3 is {prob_compound}.\")"
   ]
  },
  {
   "cell_type": "code",
   "execution_count": null,
   "metadata": {},
   "outputs": [],
   "source": []
  }
 ],
 "metadata": {
  "kernelspec": {
   "display_name": "Python 3.8.13 ('smact_tests')",
   "language": "python",
   "name": "python3"
  },
  "language_info": {
   "codemirror_mode": {
    "name": "ipython",
    "version": 3
   },
   "file_extension": ".py",
   "mimetype": "text/x-python",
   "name": "python",
   "nbconvert_exporter": "python",
   "pygments_lexer": "ipython3",
   "version": "3.11.5"
  },
  "orig_nbformat": 4,
  "vscode": {
   "interpreter": {
    "hash": "9f89bce96645c075fd87ba4308874c26726cf41cb3962e47a97b7697a60dd355"
   }
  }
 },
 "nbformat": 4,
 "nbformat_minor": 2
}
