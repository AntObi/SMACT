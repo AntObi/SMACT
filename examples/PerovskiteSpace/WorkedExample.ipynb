{
 "cells": [
  {
   "cell_type": "markdown",
   "metadata": {},
   "source": [
    "# Perovskite search space\n",
    "\n",
    "In this example using SMACT we search the compositional space of possible perovskite (ABX$_3$) structures. The space is limited by chemical and crystallographic criteria.\n",
    "\n",
    "* We search only for materials with O, S, Se, F, Cl, Br, or I as the X site.\n",
    "* We search only for materials with a B site which is known to have octahedral coordination, taken from the [data of Shannon.](http://scripts.iucr.org/cgi-bin/paper?a12967)\n",
    "* We classify the potential structures of the resultant charge neutral combinations based on the ratios of the Shannon radii and the [Goldschmidt tolerance factor.](http://link.springer.com/article/10.1007%2FBF01507527)"
   ]
  },
  {
   "cell_type": "code",
   "execution_count": 2,
   "metadata": {
    "collapsed": false
   },
   "outputs": [],
   "source": [
    "import matplotlib\n",
    "%matplotlib inline\n",
    "import smact\n",
    "import smact.lattice as lattice\n",
    "from os import path\n",
    "import csv\n",
    "import numpy as np\n",
    "import matplotlib.pyplot as plt\n",
    "import matplotlib as mpl\n",
    "import itertools \n",
    "\n",
    "label_size = 16\n",
    "mpl.rcParams['xtick.labelsize'] = label_size\n",
    "mpl.rcParams['ytick.labelsize'] = label_size\n",
    "mpl.rcParams['axes.color_cycle'] = ['#0C8080','#D66C14', '#1762B0']"
   ]
  },
  {
   "cell_type": "markdown",
   "metadata": {},
   "source": [
    "## Setting up the perovskite lattice\n",
    "SMACT lattice is an object which contains information about the positions of the lattice sites, the oxiation states of the potential species at those sites and the spacegroup of the lattice. It can be used to quickly build atomistic models of the results of a screening."
   ]
  },
  {
   "cell_type": "code",
   "execution_count": 3,
   "metadata": {
    "collapsed": false
   },
   "outputs": [],
   "source": [
    "site_A = lattice.Site([0,0,0],[+1,+2,+3])\n",
    "site_B = lattice.Site([0.5,0.5,0.5],[+5,+4,+3,+2])\n",
    "site_C = lattice.Site([0.5,0.5,0.5],[-2,-1])\n",
    "perovskite = lattice.Lattice([site_A,site_B,site_C],space_group=221)"
   ]
  },
  {
   "cell_type": "markdown",
   "metadata": {},
   "source": [
    "## Set up the chemical space for the search\n",
    "Initially we search through the first 100 elements blindly. The total number of possible combinations is returned."
   ]
  },
  {
   "cell_type": "code",
   "execution_count": 4,
   "metadata": {
    "collapsed": false
   },
   "outputs": [],
   "source": [
    "search = smact.ordered_elements(1,100)\n",
    "initial_total = len(list(itertools.combinations(search, 3)))"
   ]
  },
  {
   "cell_type": "markdown",
   "metadata": {},
   "source": [
    "## Applying chemical restrictions\n",
    "We now narrow the search space by applying some chemical criteria. \n",
    "1. The X site is either O, S, Se, Cl, Br, or I.\n",
    "2. The B site is known to have octahedral coordination from the [data of Shannon.](http://scripts.iucr.org/cgi-bin/paper?a12967)"
   ]
  },
  {
   "cell_type": "code",
   "execution_count": 5,
   "metadata": {
    "collapsed": false
   },
   "outputs": [],
   "source": [
    "A_list = []\n",
    "B_list = []\n",
    "C_list = [['O',-2,1.35],['S',-2,1.84],['Se',-2,1.98],['F',-1,1.29],['Cl',-1,1.81],['Br',-1,1.96],['I',-1,2.2]]\n",
    "for element in search:\n",
    "    with open(path.join(smact.data_directory, 'shannon_radii.csv'), 'rU') as f:\n",
    "        reader = csv.reader(f)\n",
    "        r_shannon=False\n",
    "        for row in reader:\n",
    "            if row[0]==element and int(row[1]) in site_A.oxidation_states:\n",
    "                A_list.append([row[0], float(row[1]), float(row[4])])\n",
    "            if row[2]==\"6_n\" and row[0]==element and int(row[1]) in site_B.oxidation_states:\n",
    "                B_list.append([row[0], float(row[1]), float(row[4])])"
   ]
  },
  {
   "cell_type": "markdown",
   "metadata": {},
   "source": [
    "## Iterative search\n",
    "Having constructed potential element lists for each of the sites we now do an iterative search through all poaaible combinations, applying different levels of screening.\n",
    "1. A =/= B.\n",
    "2. Charge neutrality.\n",
    "3. Goldschmidt tolerance factors.\n",
    "4. Environmental screening (greater HHI resource than CZTS)."
   ]
  },
  {
   "cell_type": "code",
   "execution_count": 6,
   "metadata": {
    "collapsed": false
   },
   "outputs": [],
   "source": [
    "elements_dict = {}\n",
    "for symbol, _, __ in A_list + B_list + C_list:\n",
    "    if symbol not in elements_dict:\n",
    "        elements_dict.update({symbol: smact.Element(symbol)})"
   ]
  },
  {
   "cell_type": "code",
   "execution_count": 26,
   "metadata": {
    "collapsed": false
   },
   "outputs": [],
   "source": [
    "charge_balanced = []\n",
    "goldschmidt_cubic = []\n",
    "goldschmidt_ortho = []\n",
    "a_too_large = []\n",
    "A_B_similar = []\n",
    "pauling_perov = []\n",
    "anion_stats = []\n",
    "hhi_czts = 1312\n",
    "enviro_perovskites = 0\n",
    "total = 0\n",
    "for C_sym, C_ox, C_r in C_list:\n",
    "    C_el = elements_dict[C_sym]\n",
    "    anion_hex = 0\n",
    "    anion_cub = 0\n",
    "    anion_ort = 0\n",
    "    anion_env = 0\n",
    "    for B_sym, B_ox, B_r in B_list:\n",
    "        B_el = elements_dict[B_sym]\n",
    "        for A_sym, A_ox, A_r in A_list:\n",
    "            A_el = elements_dict[A_sym]\n",
    "            # Require different element on each site\n",
    "            if B_sym != A_sym:        \n",
    "                if C_sym != A_sym and C_sym != B_sym:\n",
    "                    total = total + 1\n",
    "                    if A_ox + B_ox + 3*C_ox == 0:\n",
    "                        charge_balanced.append([A_el, B_el, C_el])\n",
    "                        # Try to calculate weighted average HHI. If data is missing,\n",
    "                        # notice the error type and \n",
    "                        try:\n",
    "                            hhi_material = (A_el.HHI_R + \n",
    "                                            B_el.HHI_R +\n",
    "                                            3*C_el.HHI_R)/5\n",
    "                        except TypeError:\n",
    "                            hhi_material = None\n",
    "                         \n",
    "                        tol = (A_r + C_r)/(np.sqrt(2)*(B_r)+C_r)\n",
    "                        if tol > 1.0:\n",
    "                            a_too_large.append([A_el,B_el,C_el])\n",
    "                            anion_hex = anion_hex+1\n",
    "                        elif 0.9 < tol <= 1.0:\n",
    "                            goldschmidt_cubic.append([A_el, B_el, C_el])\n",
    "                            anion_cub = anion_cub + 1\n",
    "                            if hhi_material and (hhi_material < hhi_czts):\n",
    "                                enviro_perovskites = enviro_perovskites + 1\n",
    "                                anion_env = anion_env + 1\n",
    "                        elif 0.71 <= tol <= 0.9:\n",
    "                            if hhi_material and (hhi_material < hhi_czts):\n",
    "                                enviro_perovskites = enviro_perovskites + 1\n",
    "                                anion_env = anion_env + 1\n",
    "                            goldschmidt_ortho.append([A_el, B_el, C_el])\n",
    "                            anion_ort = anion_ort + 1\n",
    "                        else:\n",
    "                            A_B_similar.append([A_el, B_el, C_el])\n",
    "    anion_stats.append([anion_hex,anion_cub,anion_ort,anion_env]) "
   ]
  },
  {
   "cell_type": "code",
   "execution_count": 28,
   "metadata": {
    "collapsed": false
   },
   "outputs": [],
   "source": [
    "number_of_perovskites = 0\n",
    "for i in 0, 1, 2, 3, 4, 5:\n",
    "    for j in 1, 2:\n",
    "        number_of_perovskites = anion_stats[i][j] + number_of_perovskites\n",
    "        \n",
    "number_hex = 0\n",
    "for i in 0, 1, 2, 3, 4, 5:\n",
    "    number_hex = number_hex + anion_stats[i][0]\n",
    "    \n",
    "number_cubic = 0\n",
    "for i in 0, 1, 2, 3, 4, 5:\n",
    "    number_cubic = number_cubic + anion_stats[i][1]\n",
    "    \n",
    "number_ortho = 0\n",
    "for i in 0, 1, 2, 3, 4, 5:\n",
    "    number_ortho = number_ortho + anion_stats[i][2]"
   ]
  },
  {
   "cell_type": "markdown",
   "metadata": {},
   "source": [
    "## Look at the results"
   ]
  },
  {
   "cell_type": "code",
   "execution_count": 29,
   "metadata": {
    "collapsed": false
   },
   "outputs": [
    {
     "name": "stdout",
     "output_type": "stream",
     "text": [
      "Total number before any screening: \t\t\t\t  161700\n",
      "Total number after initial selection of chemical criteria:\t  285215\n",
      "Total number after charge neutrality:\t\t\t\t   41397\n",
      "Total number after Goldschmidt allowed combinations:\t\t   21457\n",
      "Total number after environmental factors:\t\t\t    1497\n"
     ]
    }
   ],
   "source": [
    "print \"Total number before any screening: \\t\\t\\t\\t{0:8d}\".format(initial_total)\n",
    "print \"Total number after initial selection of chemical criteria:\\t{0:8d}\".format(len(list(itertools.product(A_list,B_list,C_list))))\n",
    "print \"Total number after charge neutrality:\\t\\t\\t\\t{0:8d}\".format(len(charge_balanced))\n",
    "#print \"Total number after electronegativity criterion applied: \", len(pauling_perov)\n",
    "print \"Total number after Goldschmidt allowed combinations:\\t\\t{0:8d}\".format(number_of_perovskites)\n",
    "print \"Total number after environmental factors:\\t\\t\\t{0:8d}\".format(enviro_perovskites)"
   ]
  },
  {
   "cell_type": "markdown",
   "metadata": {},
   "source": [
    "## Structure\n",
    "\n",
    "Plot pie charts of the percentages of different structure types based on anion. There is a clear trend towards decreasing percentage of hexagonal structures (predicted from the Goldschmidt factor) as the anion radius increases."
   ]
  },
  {
   "cell_type": "code",
   "execution_count": 31,
   "metadata": {
    "collapsed": false
   },
   "outputs": [
    {
     "data": {
      "image/png": "[encoded data removed]",
      "text/plain": [
       "<matplotlib.figure.Figure at 0x11113d950>"
      ]
     },
     "metadata": {},
     "output_type": "display_data"
    }
   ],
   "source": [
    "f, ax = plt.subplots(1, 2, sharex=False)\n",
    "f.set_size_inches(16,7)\n",
    "\n",
    "totals = [initial_total,len(list(itertools.product(A_list,B_list,C_list))),len(charge_balanced),number_of_perovskites,enviro_perovskites]\n",
    "labels = ['Elemental','Ionic','Charge Neutral','Perovskites','Sustainable']\n",
    "ind = np.arange(5)\n",
    "ax[0].bar(ind,totals,color='#1762B0')\n",
    "ax[0].set_xticks([0,1,2,3,4,5])\n",
    "ax[0].set_xticklabels(labels, rotation=45)\n",
    "ax[0].set_xlim(-0.2, 5)\n",
    "ax[0].grid(True)\n",
    "ax[0].set_ylabel('Number of materials')\n",
    "\n",
    "tots = []\n",
    "for i in np.arange(7):\n",
    "    tots.append(anion_stats[i][2]+anion_stats[i][3])\n",
    "\n",
    "enviros = (anion_stats[0][3],anion_stats[1][3],anion_stats[2][3],anion_stats[3][3],anion_stats[4][3],anion_stats[5][3],anion_stats[6][3])\n",
    "ind = np.arange(7)\n",
    "p1 = ax[1].bar(ind,tots,color='#0C8080')\n",
    "p2 = ax[1].bar(ind,enviros,color='#D66C14')\n",
    "ax[1].set_xticks([0.4,1.4,2.4,3.4,4.4,5.4,6.4])\n",
    "ax[1].set_xticklabels(['O', 'S', 'Se', 'F', 'Cl','Br','I'],fontsize=18)\n",
    "ax[1].legend((p1[0],p2[0]),('Perovskites','Sustainable'),fontsize=18)\n",
    "ax[1].set_xlim(-0.2, 7)\n",
    "ax[1].grid(True)\n",
    "plt.tight_layout()\n",
    "plt.savefig('BarCharts.png')"
   ]
  },
  {
   "cell_type": "code",
   "execution_count": 32,
   "metadata": {
    "collapsed": false
   },
   "outputs": [
    {
     "name": "stdout",
     "output_type": "stream",
     "text": [
      "[4980, 3978, 3482, 290, 296, 262, 261]\n"
     ]
    }
   ],
   "source": [
    "print tots"
   ]
  },
  {
   "cell_type": "code",
   "execution_count": 33,
   "metadata": {
    "collapsed": false
   },
   "outputs": [
    {
     "name": "stdout",
     "output_type": "stream",
     "text": [
      "(1085, 354, 0, 29, 29, 0, 0)\n",
      "0.217871485944\n",
      "0.0889894419306\n",
      "0.0\n",
      "0.1\n",
      "0.097972972973\n",
      "0.0\n",
      "0.0\n"
     ]
    }
   ],
   "source": [
    "print enviros\n",
    "for i, a in enumerate(enviros):\n",
    "    print float(a)/float(tots[i])"
   ]
  },
  {
   "cell_type": "code",
   "execution_count": 34,
   "metadata": {
    "collapsed": false
   },
   "outputs": [
    {
     "data": {
      "image/png": "[encoded data removed]",
      "text/plain": [
       "<matplotlib.figure.Figure at 0x10f3d6b90>"
      ]
     },
     "metadata": {},
     "output_type": "display_data"
    }
   ],
   "source": [
    "ICSD = [34367, 67347, 44388]\n",
    "SMACT = [11887,3329381,10561582]\n",
    "x = [2,3,4]\n",
    "y = [1e-6,1e-6,1e-6]\n",
    "plt.semilogy(x,SMACT)\n",
    "plt.semilogy(x,ICSD)\n",
    "plt.xticks([2,3,4])\n",
    "#plt.fill(y,SMACT,'#0C8080',alpha=0.6)\n",
    "plt.grid(True)"
   ]
  }
 ],
 "metadata": {
  "kernelspec": {
   "display_name": "Python 2",
   "language": "python",
   "name": "python2"
  },
  "language_info": {
   "codemirror_mode": {
    "name": "ipython",
    "version": 2
   },
   "file_extension": ".py",
   "mimetype": "text/x-python",
   "name": "python",
   "nbconvert_exporter": "python",
   "pygments_lexer": "ipython2",
   "version": "2.7.2"
  }
 },
 "nbformat": 4,
 "nbformat_minor": 0
}
