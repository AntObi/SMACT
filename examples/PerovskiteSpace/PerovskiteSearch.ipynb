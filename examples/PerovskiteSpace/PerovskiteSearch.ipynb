{
 "cells": [
  {
   "cell_type": "code",
   "execution_count": 80,
   "metadata": {
    "collapsed": true
   },
   "outputs": [],
   "source": [
    "import smact.lattice as lattice\n",
    "import smact.builder as builder\n",
    "import smact.core as core\n",
    "import copy\n",
    "import os\n",
    "import csv\n",
    "import numpy as np"
   ]
  },
  {
   "cell_type": "code",
   "execution_count": 31,
   "metadata": {
    "collapsed": false
   },
   "outputs": [],
   "source": [
    "# get correct path for datafiles when called from another directory\n",
    "smact_directory = '../../smact'\n",
    "# Append a trailing slash to make coherent directory name - this would select the\n",
    "# root directory in the case of no prefix, so we need to check\n",
    "if smact_directory:\n",
    "    smact_directory = smact_directory + '/'"
   ]
  },
  {
   "cell_type": "markdown",
   "metadata": {},
   "source": [
    "### Set up a lattice object"
   ]
  },
  {
   "cell_type": "code",
   "execution_count": 62,
   "metadata": {
    "collapsed": true
   },
   "outputs": [],
   "source": [
    "site_A = lattice.Site([0,0,0],[+1,+2,+3])\n",
    "site_B = lattice.Site([0.5,0.5,0.5],[+5,+4,+3,+2])\n",
    "site_C = lattice.Site([0.5,0.5,0.5],[-2,-1])\n",
    "perovskite = lattice.Lattice([site_A,site_B,site_C],space_group=221)"
   ]
  },
  {
   "cell_type": "markdown",
   "metadata": {},
   "source": [
    "### Set up a search space with Josh's command"
   ]
  },
  {
   "cell_type": "code",
   "execution_count": 63,
   "metadata": {
    "collapsed": true
   },
   "outputs": [],
   "source": [
    "search = core.ordered_elements(3,37)"
   ]
  },
  {
   "cell_type": "markdown",
   "metadata": {},
   "source": [
    "###Assign potential elements to each site, based on known coordination environments\n",
    "* A site : 12 coordinated\n",
    "* B site : 8 coordinated\n",
    "* The third item in the list for each species is the Shannon radius for that charge state"
   ]
  },
  {
   "cell_type": "code",
   "execution_count": 76,
   "metadata": {
    "collapsed": false
   },
   "outputs": [],
   "source": [
    "A_list = []\n",
    "B_list = []\n",
    "C_list = [['O',-2,1.35],['S',-2,1.84],['Se',-2,1.98],['F',-1,1.285],['Br',-1,1.96],['I',-1,2.2]]\n",
    "for element in search:\n",
    "    with open(smact_directory + 'data/shannon_radii.csv','rU') as f:\n",
    "        reader = csv.reader(f)\n",
    "        r_shannon=False\n",
    "        for row in reader:\n",
    "            if row[2]==\"12_n\" and row[0]==element and int(row[1]) in site_A.oxidation_states:\n",
    "                A_list.append([row[0],row[1],row[4]])\n",
    "            if row[2]==\"8_n\" and row[0]==element and int(row[1]) in site_B.oxidation_states:\n",
    "                B_list.append([row[0],row[1],row[4]])"
   ]
  },
  {
   "cell_type": "code",
   "execution_count": null,
   "metadata": {
    "collapsed": true
   },
   "outputs": [],
   "source": []
  },
  {
   "cell_type": "code",
   "execution_count": 85,
   "metadata": {
    "collapsed": false
   },
   "outputs": [],
   "source": [
    "charge_balanced = []\n",
    "goldschmidt_cubic = []\n",
    "goldschmidt_ortho = []\n",
    "a_too_large = []\n",
    "A_B_similar = []\n",
    "\n",
    "for A in A_list:\n",
    "    for B in B_list:\n",
    "        for C in C_list:\n",
    "            if int(A[1])+int(B[1])+3*int(C[1]) == 0:\n",
    "                charge_balanced.append([A[0],B[0],C[0]])\n",
    "                tol = (float(A[2]) + C[2])/(np.sqrt(2)*(float(B[2])+C[2]))\n",
    "                if tol > 1.0:\n",
    "                    a_too_large.append([A[0],B[0],C[0]])\n",
    "                if tol > 0.9 and tol <= 1.0:\n",
    "                    goldschmidt_cubic.append([A[0],B[0],C[0]])\n",
    "                if tol >= 0.71 and tol < 0.9:\n",
    "                    goldschmidt_ortho.append([A[0],B[0],C[0]])\n",
    "                if tol < 0.71:\n",
    "                    A_B_similar.append([A[0],B[0],C[0]])\n",
    "                    "
   ]
  },
  {
   "cell_type": "code",
   "execution_count": 86,
   "metadata": {
    "collapsed": false
   },
   "outputs": [
    {
     "name": "stdout",
     "output_type": "stream",
     "text": [
      "Number of possible charge neutral perovskites from Li to Kr = 48\n",
      "Number of possible cubic perovskites from Li to Kr = 9\n",
      "Number of possible ortho perovskites from Li to Kr = 35\n",
      "Number of possible hexagonal perovskites from Li to Kr = 4\n",
      "Number of possible non-perovskites from Li to Kr = 0\n"
     ]
    }
   ],
   "source": [
    "print 'Number of possible charge neutral perovskites from', search[0], 'to', search[len(search)-1], '=', len(charge_balanced)\n",
    "print 'Number of possible cubic perovskites from', search[0], 'to', search[len(search)-1], '=', len(goldschmidt_cubic)\n",
    "print 'Number of possible ortho perovskites from', search[0], 'to', search[len(search)-1], '=', len(goldschmidt_ortho)\n",
    "print 'Number of possible hexagonal perovskites from', search[0], 'to', search[len(search)-1], '=', len(a_too_large)\n",
    "print 'Number of possible non-perovskites from', search[0], 'to', search[len(search)-1], '=', len(A_B_similar)"
   ]
  },
  {
   "cell_type": "code",
   "execution_count": 83,
   "metadata": {
    "collapsed": false
   },
   "outputs": [
    {
     "name": "stdout",
     "output_type": "stream",
     "text": [
      "[['Na', 'Mg', 'F'], ['Na', 'Mg', 'Br'], ['Na', 'Mg', 'I'], ['Na', 'Ca', 'F'], ['Na', 'Ca', 'Br'], ['Na', 'Ca', 'I'], ['Na', 'Cr', 'O'], ['Na', 'Cr', 'S'], ['Na', 'Cr', 'Se'], ['Na', 'Mn', 'F'], ['Na', 'Mn', 'Br'], ['Na', 'Mn', 'I'], ['Na', 'Fe', 'F'], ['Na', 'Fe', 'Br'], ['Na', 'Fe', 'I'], ['Na', 'Co', 'F'], ['Na', 'Co', 'Br'], ['Na', 'Co', 'I'], ['Na', 'Zn', 'F'], ['Na', 'Zn', 'Br'], ['Na', 'Zn', 'I'], ['K', 'Mg', 'F'], ['K', 'Mg', 'Br'], ['K', 'Mg', 'I'], ['K', 'Ca', 'F'], ['K', 'Ca', 'Br'], ['K', 'Ca', 'I'], ['K', 'Cr', 'O'], ['K', 'Cr', 'S'], ['K', 'Cr', 'Se'], ['K', 'Mn', 'F'], ['K', 'Mn', 'Br'], ['K', 'Mn', 'I'], ['K', 'Fe', 'F'], ['K', 'Fe', 'Br'], ['K', 'Fe', 'I'], ['K', 'Co', 'F'], ['K', 'Co', 'Br'], ['K', 'Co', 'I'], ['K', 'Zn', 'F'], ['K', 'Zn', 'Br'], ['K', 'Zn', 'I'], ['Ca', 'Ti', 'O'], ['Ca', 'Ti', 'S'], ['Ca', 'Ti', 'Se'], ['Ca', 'V', 'O'], ['Ca', 'V', 'S'], ['Ca', 'V', 'Se']]\n"
     ]
    }
   ],
   "source": [
    "print charge_balanced\n"
   ]
  },
  {
   "cell_type": "code",
   "execution_count": null,
   "metadata": {
    "collapsed": true
   },
   "outputs": [],
   "source": []
  }
 ],
 "metadata": {
  "kernelspec": {
   "display_name": "Python 2",
   "language": "python",
   "name": "python2"
  },
  "language_info": {
   "codemirror_mode": {
    "name": "ipython",
    "version": 2
   },
   "file_extension": ".py",
   "mimetype": "text/x-python",
   "name": "python",
   "nbconvert_exporter": "python",
   "pygments_lexer": "ipython2",
   "version": "2.7.9"
  }
 },
 "nbformat": 4,
 "nbformat_minor": 0
}
