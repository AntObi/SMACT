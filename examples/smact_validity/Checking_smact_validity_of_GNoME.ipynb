{
 "cells": [
  {
   "cell_type": "markdown",
   "source": [
    "# Testing charge-neutrality of the compositions in the GNoME database\n",
    "\n",
    " In this notebook, we will check the charge-neutrality of the compositions in the GNoME database (https://www.nature.com/articles/s41586-023-06735-9)."
   ],
   "metadata": {
    "collapsed": false
   },
   "id": "3ae5a7b818ea5dd5"
  },
  {
   "cell_type": "code",
   "outputs": [],
   "source": [
    "# Install the required packages\n",
    "!pip install pandarallel --quiet"
   ],
   "metadata": {
    "collapsed": false,
    "ExecuteTime": {
     "end_time": "2024-05-30T13:22:07.723663Z",
     "start_time": "2024-05-30T13:22:03.124889Z"
    }
   },
   "id": "3ade9be4d87b9cd8",
   "execution_count": 1
  },
  {
   "cell_type": "code",
   "outputs": [
    {
     "name": "stdout",
     "output_type": "stream",
     "text": [
      "INFO: Pandarallel will run on 8 workers.\n",
      "INFO: Pandarallel will use standard multiprocessing data transfer (pipe) to transfer data between the main process and workers.\n",
      "\n",
      "WARNING: You are on Windows. If you detect any issue with pandarallel, be sure you checked out the Troubleshooting page:\n",
      "https://nalepae.github.io/pandarallel/troubleshooting/\n"
     ]
    }
   ],
   "source": [
    "# Imports\n",
    "from smact.screening import smact_validity\n",
    "import matplotlib.pyplot as plt\n",
    "import pandas as pd\n",
    "from pandarallel import pandarallel\n",
    "\n",
    "# Initialise pandarallel\n",
    "pandarallel.initialize(progress_bar=True)"
   ],
   "metadata": {
    "collapsed": false,
    "ExecuteTime": {
     "end_time": "2024-05-30T13:22:10.827197Z",
     "start_time": "2024-05-30T13:22:07.726658Z"
    }
   },
   "id": "b6ce9202349e502a",
   "execution_count": 2
  },
  {
   "cell_type": "markdown",
   "source": [],
   "metadata": {
    "collapsed": false
   },
   "id": "d2326df320aeb386"
  },
  {
   "cell_type": "code",
   "outputs": [
    {
     "name": "stdout",
     "output_type": "stream",
     "text": [
      "<class 'pandas.core.frame.DataFrame'>\n",
      "RangeIndex: 384871 entries, 0 to 384870\n",
      "Data columns (total 4 columns):\n",
      " #   Column                     Non-Null Count   Dtype  \n",
      "---  ------                     --------------   -----  \n",
      " 0   Unnamed: 0                 384871 non-null  int64  \n",
      " 1   Composition                384871 non-null  object \n",
      " 2   Formation Energy Per Atom  384871 non-null  float64\n",
      " 3   Corrected Energy           384871 non-null  float64\n",
      "dtypes: float64(2), int64(1), object(1)\n",
      "memory usage: 11.7+ MB\n",
      "None\n"
     ]
    },
    {
     "data": {
      "text/plain": "   Unnamed: 0       Composition  Formation Energy Per Atom  Corrected Energy\n0           0          Cs1S6Zr3                    -1.9058          -70.4155\n1           1      Nd7Os1Pr3Si5                    -0.5004          -94.0804\n2           2    Ce2La3Pt16Tm15                    -1.2960         -237.6016\n3           3  Mn1Ni1Os2Sb12Yb1                    -0.3064          -93.6931\n4           4    Er8Ge4Si12Zr12                    -0.8718         -254.0953",
      "text/html": "<div>\n<style scoped>\n    .dataframe tbody tr th:only-of-type {\n        vertical-align: middle;\n    }\n\n    .dataframe tbody tr th {\n        vertical-align: top;\n    }\n\n    .dataframe thead th {\n        text-align: right;\n    }\n</style>\n<table border=\"1\" class=\"dataframe\">\n  <thead>\n    <tr style=\"text-align: right;\">\n      <th></th>\n      <th>Unnamed: 0</th>\n      <th>Composition</th>\n      <th>Formation Energy Per Atom</th>\n      <th>Corrected Energy</th>\n    </tr>\n  </thead>\n  <tbody>\n    <tr>\n      <th>0</th>\n      <td>0</td>\n      <td>Cs1S6Zr3</td>\n      <td>-1.9058</td>\n      <td>-70.4155</td>\n    </tr>\n    <tr>\n      <th>1</th>\n      <td>1</td>\n      <td>Nd7Os1Pr3Si5</td>\n      <td>-0.5004</td>\n      <td>-94.0804</td>\n    </tr>\n    <tr>\n      <th>2</th>\n      <td>2</td>\n      <td>Ce2La3Pt16Tm15</td>\n      <td>-1.2960</td>\n      <td>-237.6016</td>\n    </tr>\n    <tr>\n      <th>3</th>\n      <td>3</td>\n      <td>Mn1Ni1Os2Sb12Yb1</td>\n      <td>-0.3064</td>\n      <td>-93.6931</td>\n    </tr>\n    <tr>\n      <th>4</th>\n      <td>4</td>\n      <td>Er8Ge4Si12Zr12</td>\n      <td>-0.8718</td>\n      <td>-254.0953</td>\n    </tr>\n  </tbody>\n</table>\n</div>"
     },
     "execution_count": 3,
     "metadata": {},
     "output_type": "execute_result"
    }
   ],
   "source": [
    "# Load the data\n",
    "# Load the data into a dataframe\n",
    "\n",
    "data_path = \"stable_materials_hull.csv\"\n",
    "df = pd.read_csv(data_path)\n",
    "\n",
    "# Get quick info about the data\n",
    "print(df.info())\n",
    "\n",
    "# Show first five entries\n",
    "df.head()"
   ],
   "metadata": {
    "collapsed": false,
    "ExecuteTime": {
     "end_time": "2024-05-30T13:22:11.187935Z",
     "start_time": "2024-05-30T13:22:10.830198Z"
    }
   },
   "id": "36f20728ab945627",
   "execution_count": 3
  },
  {
   "cell_type": "markdown",
   "source": [
    "`smact_validity` uses the python package `SMACT` to test for charge neutrality, but it is a rather simple function which cannot account for elements with mixed valency in a compound. The working principle behind this function is to systematically trial all the possible oxidation states of the elements in a given material and return True if a charge-balanced set of oxidation states can be found."
   ],
   "metadata": {
    "collapsed": false
   },
   "id": "cb2241cbcb9d36e8"
  },
  {
   "cell_type": "code",
   "outputs": [
    {
     "data": {
      "text/plain": "VBox(children=(HBox(children=(IntProgress(value=0, description='0.00%', max=48109), Label(value='0 / 48109')))…",
      "application/vnd.jupyter.widget-view+json": {
       "version_major": 2,
       "version_minor": 0,
       "model_id": "c4ea03dd8cf647d2aa5bbefdc38a4540"
      }
     },
     "metadata": {},
     "output_type": "display_data"
    },
    {
     "data": {
      "text/plain": "   Unnamed: 0       Composition  Formation Energy Per Atom  Corrected Energy  \\\n0           0          Cs1S6Zr3                    -1.9058          -70.4155   \n1           1      Nd7Os1Pr3Si5                    -0.5004          -94.0804   \n2           2    Ce2La3Pt16Tm15                    -1.2960         -237.6016   \n3           3  Mn1Ni1Os2Sb12Yb1                    -0.3064          -93.6931   \n4           4    Er8Ge4Si12Zr12                    -0.8718         -254.0953   \n\n   smact_valid  \n0        False  \n1        False  \n2         True  \n3         True  \n4         True  ",
      "text/html": "<div>\n<style scoped>\n    .dataframe tbody tr th:only-of-type {\n        vertical-align: middle;\n    }\n\n    .dataframe tbody tr th {\n        vertical-align: top;\n    }\n\n    .dataframe thead th {\n        text-align: right;\n    }\n</style>\n<table border=\"1\" class=\"dataframe\">\n  <thead>\n    <tr style=\"text-align: right;\">\n      <th></th>\n      <th>Unnamed: 0</th>\n      <th>Composition</th>\n      <th>Formation Energy Per Atom</th>\n      <th>Corrected Energy</th>\n      <th>smact_valid</th>\n    </tr>\n  </thead>\n  <tbody>\n    <tr>\n      <th>0</th>\n      <td>0</td>\n      <td>Cs1S6Zr3</td>\n      <td>-1.9058</td>\n      <td>-70.4155</td>\n      <td>False</td>\n    </tr>\n    <tr>\n      <th>1</th>\n      <td>1</td>\n      <td>Nd7Os1Pr3Si5</td>\n      <td>-0.5004</td>\n      <td>-94.0804</td>\n      <td>False</td>\n    </tr>\n    <tr>\n      <th>2</th>\n      <td>2</td>\n      <td>Ce2La3Pt16Tm15</td>\n      <td>-1.2960</td>\n      <td>-237.6016</td>\n      <td>True</td>\n    </tr>\n    <tr>\n      <th>3</th>\n      <td>3</td>\n      <td>Mn1Ni1Os2Sb12Yb1</td>\n      <td>-0.3064</td>\n      <td>-93.6931</td>\n      <td>True</td>\n    </tr>\n    <tr>\n      <th>4</th>\n      <td>4</td>\n      <td>Er8Ge4Si12Zr12</td>\n      <td>-0.8718</td>\n      <td>-254.0953</td>\n      <td>True</td>\n    </tr>\n  </tbody>\n</table>\n</div>"
     },
     "execution_count": 4,
     "metadata": {},
     "output_type": "execute_result"
    }
   ],
   "source": [
    "# Run the SMACT validity test on the GNoME materials\n",
    "df[\"smact_valid\"] = df[\"Composition\"].parallel_apply(\n",
    "    smact_validity\n",
    ")  # Alloys will pass the test\n",
    "df.head()"
   ],
   "metadata": {
    "collapsed": false,
    "ExecuteTime": {
     "end_time": "2024-05-30T13:24:45.790251Z",
     "start_time": "2024-05-30T13:22:11.190940Z"
    }
   },
   "id": "5317666a5b0ce875",
   "execution_count": 4
  },
  {
   "cell_type": "markdown",
   "source": [
    "## Plotting the results\n",
    "\n",
    "Let's plot the number of materials that pass the SMACT validity test and the total number of materials in the GNoME database."
   ],
   "metadata": {
    "collapsed": false
   },
   "id": "c2b47eae2d3babce"
  },
  {
   "cell_type": "code",
   "outputs": [
    {
     "data": {
      "text/plain": "<Figure size 800x600 with 1 Axes>",
      "image/png": "[encoded data removed]"
     },
     "metadata": {},
     "output_type": "display_data"
    }
   ],
   "source": [
    "# Make a bar plot of the GNoME data\n",
    "bar_labels = [\"GNoME stable materials\", \"GNoME - SMACT valid\"]\n",
    "counts = [len(df), df[\"smact_valid\"].sum()]\n",
    "\n",
    "\n",
    "fig, ax = plt.subplots(figsize=(8, 6))\n",
    "\n",
    "bars = ax.barh(bar_labels, counts)\n",
    "ax.bar_label(bars)\n",
    "ax.set_xlabel(\"Number of materials\")\n",
    "ax.set_title(\"GNoME analysis\")\n",
    "plt.xticks(rotation=45)\n",
    "ax.set_xlim(right=450000)\n",
    "plt.tight_layout()\n",
    "plt.show()"
   ],
   "metadata": {
    "collapsed": false,
    "ExecuteTime": {
     "end_time": "2024-05-30T13:24:46.086896Z",
     "start_time": "2024-05-30T13:24:45.794252Z"
    }
   },
   "id": "6a7c9b0b2074d22e",
   "execution_count": 5
  },
  {
   "cell_type": "markdown",
   "source": [
    "## Conclusion\n",
    "The SMACT validity test is a simple test that can be used to check the charge-neutrality of a material. However, it is not perfect and cannot account for elements with mixed valency in a compound. In this notebook, we have used the SMACT validity test to check the charge-neutrality of the compositions in the GNoME database. We found around 81% the materials in the GNoME database can be charged-balanced using SMACT."
   ],
   "metadata": {
    "collapsed": false
   },
   "id": "ea70b68f565edab"
  }
 ],
 "metadata": {
  "kernelspec": {
   "display_name": "Python 3",
   "language": "python",
   "name": "python3"
  },
  "language_info": {
   "codemirror_mode": {
    "name": "ipython",
    "version": 2
   },
   "file_extension": ".py",
   "mimetype": "text/x-python",
   "name": "python",
   "nbconvert_exporter": "python",
   "pygments_lexer": "ipython2",
   "version": "2.7.6"
  }
 },
 "nbformat": 4,
 "nbformat_minor": 5
}
