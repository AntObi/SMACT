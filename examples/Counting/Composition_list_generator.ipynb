{
 "cells": [
  {
   "cell_type": "markdown",
   "metadata": {
    "deletable": true,
    "editable": true
   },
   "source": [
    "### Generate a list of all SMACT allowed compositions\n",
    "This notebook provides a simple demo of how to use `SMACT` to generate a list of element compositions that could later be used as input for a machine learned or other heuristic screening model.\n",
    "\n",
    "This example generates a list of allowed ternary oxides."
   ]
  },
  {
   "cell_type": "code",
   "execution_count": 41,
   "metadata": {
    "collapsed": true,
    "deletable": true,
    "editable": true
   },
   "outputs": [],
   "source": [
    "### Imports\n",
    "\n",
    "import smact\n",
    "import smact.screening as screening\n",
    "from datetime import datetime\n",
    "import itertools\n",
    "import multiprocessing"
   ]
  },
  {
   "cell_type": "code",
   "execution_count": 49,
   "metadata": {
    "collapsed": false,
    "deletable": true,
    "editable": true
   },
   "outputs": [],
   "source": [
    "### Define the elements we are interested in\n",
    "\n",
    "all_el = smact.element_dictionary()   # A dictionary of all element objects\n",
    "symbol_list = [k for k,i in all_el.items()]   # A list of all element symbols\n",
    "\n",
    "# Decide which elements you want to exclude (e.g. based on radioactivity, toxicity etc..)\n",
    "do_not_want = ['H', 'He', 'B', 'C', 'O', 'Ne', 'Ar', 'Kr', 'Tc', 'Xe', 'Rn',\n",
    "              'Ac', 'Th', 'Pa', 'U', 'Np', 'Pu', 'Am', 'Cm', 'Bk', 'Cf', 'Es', 'Fm', 'Md', 'No', 'Lr',\n",
    "              'Ra', 'Fr', 'At', 'Po', 'Pm', 'Eu', 'Tb', 'Yb']\n",
    "symbols = [x for x in symbol_list if x not in do_not_want]\n",
    "used_elements = [all_el[x] for x in symbols]"
   ]
  },
  {
   "cell_type": "code",
   "execution_count": 51,
   "metadata": {
    "collapsed": true,
    "deletable": true,
    "editable": true
   },
   "outputs": [],
   "source": [
    "### Define a function to perform the SMACT test\n",
    "\n",
    "def smact_test(els):\n",
    "    all_compounds = []\n",
    "    elements = [e.symbol for e in els] + ['O']    # We tack O on because we want oxides\n",
    "    paul_a, paul_b = els[0].pauling_eneg, els[1].pauling_eneg\n",
    "    electronegativities = [paul_a, paul_b, all_el['O'].pauling_eneg]\n",
    "    \n",
    "    for ox_a, ox_b in itertools.product(els[0].oxidation_states, els[1].oxidation_states):\n",
    "        ox_states = [ox_a, ox_b, -2]   # We hard code the oxidation state of O we want\n",
    "        # Charge balance test\n",
    "        cn_e, cn_r = smact.neutral_ratios(ox_states, threshold = 8)\n",
    "        if cn_e:\n",
    "            # Electronegativity test\n",
    "            electroneg_OK = screening.pauling_test(ox_states, electronegativities)\n",
    "            if electroneg_OK:\n",
    "                compound = tuple([elements,cn_r[0]])\n",
    "                all_compounds.append(compound)\n",
    "    return all_compounds"
   ]
  },
  {
   "cell_type": "code",
   "execution_count": 62,
   "metadata": {
    "collapsed": false,
    "deletable": true,
    "editable": true
   },
   "outputs": [
    {
     "name": "stdout",
     "output_type": "stream",
     "text": [
      "Time taken to generate list:  0:00:05.612067\n"
     ]
    }
   ],
   "source": [
    "### Generate the list of element compositions\n",
    "\n",
    "# Use itertools combinations to generate all the ternary oxide chemical systems\n",
    "all_el_combos = itertools.combinations(used_elements, 2)\n",
    "\n",
    "# Use multiprocessing to generate our list\n",
    "start = datetime.now()\n",
    "p = multiprocessing.Pool()\n",
    "result = p.map(smact_test, all_el_combos)\n",
    "print('Time taken to generate list:  {0}'.format(datetime.now()-start))"
   ]
  },
  {
   "cell_type": "code",
   "execution_count": 72,
   "metadata": {
    "collapsed": false,
    "deletable": true,
    "editable": true
   },
   "outputs": [
    {
     "name": "stdout",
     "output_type": "stream",
     "text": [
      "Number of compositions:  38922\n",
      "Each list entry looks like this, with elements followed by stoichiometries of each: \n",
      "(['Li', 'Be', 'O'], (1, 1, 1))\n",
      "(['Li', 'Be', 'O'], (2, 1, 2))\n",
      "(['Li', 'N', 'O'], (5, 1, 1))\n",
      "(['Li', 'N', 'O'], (4, 1, 1))\n",
      "(['Li', 'N', 'O'], (3, 1, 1))\n"
     ]
    }
   ],
   "source": [
    "# Flatten the list of lists\n",
    "flat_list = [item for sublist in result for item in sublist]\n",
    "print('Number of compositions:  {0}'.format(len(flat_list)))\n",
    "print('Each list entry looks like this, with elements followed by stoichiometries of each: ')\n",
    "for i in flat_list[:5]:\n",
    "    print(i)"
   ]
  },
  {
   "cell_type": "code",
   "execution_count": null,
   "metadata": {
    "collapsed": true
   },
   "outputs": [],
   "source": [
    "### You could pickle this list for later use\n",
    "\n",
    "import pickle\n",
    "with open('Ternary_oxides.pkl', 'wb') as f:\n",
    "    pickle.dump(pretty_formulas, f)"
   ]
  },
  {
   "cell_type": "code",
   "execution_count": 68,
   "metadata": {
    "collapsed": false,
    "deletable": true,
    "editable": true
   },
   "outputs": [],
   "source": [
    "### You could turn the compositions into reduced formula using pymatgen\n",
    "\n",
    "from pymatgen import Composition\n",
    "def comp_maker(comp):\n",
    "    form = []\n",
    "    for el, ammt in zip(comp[0], comp[1]):\n",
    "        form.append(el)\n",
    "        form.append(ammt)\n",
    "    form = ''.join(str(e) for e in form)\n",
    "    pmg_form = Composition(form).reduced_formula\n",
    "    return pmg_form\n",
    "\n",
    "pretty_formulas = p.map(comp_maker, flat_list)\n",
    "print('Each list entry now looks like this: ')\n",
    "for i in pretty_formulas[:5]:\n",
    "    print(i)"
   ]
  },
  {
   "cell_type": "code",
   "execution_count": 80,
   "metadata": {
    "collapsed": false,
    "scrolled": true
   },
   "outputs": [
    {
     "data": {
      "text/html": [
       "<div>\n",
       "<table border=\"1\" class=\"dataframe\">\n",
       "  <thead>\n",
       "    <tr style=\"text-align: right;\">\n",
       "      <th></th>\n",
       "      <th>pretty_formula</th>\n",
       "    </tr>\n",
       "  </thead>\n",
       "  <tbody>\n",
       "    <tr>\n",
       "      <th>count</th>\n",
       "      <td>27412</td>\n",
       "    </tr>\n",
       "    <tr>\n",
       "      <th>unique</th>\n",
       "      <td>27412</td>\n",
       "    </tr>\n",
       "    <tr>\n",
       "      <th>top</th>\n",
       "      <td>Sn(BrO2)2</td>\n",
       "    </tr>\n",
       "    <tr>\n",
       "      <th>freq</th>\n",
       "      <td>1</td>\n",
       "    </tr>\n",
       "  </tbody>\n",
       "</table>\n",
       "</div>"
      ],
      "text/plain": [
       "       pretty_formula\n",
       "count           27412\n",
       "unique          27412\n",
       "top         Sn(BrO2)2\n",
       "freq                1"
      ]
     },
     "execution_count": 80,
     "metadata": {},
     "output_type": "execute_result"
    }
   ],
   "source": [
    "### Finally, you could put this into a pandas DataFrame\n",
    "import pandas as pd\n",
    "new_data = pd.DataFrame({'pretty_formula': pretty_formulas})\n",
    "# Drop any duplicate compositions\n",
    "new_data = new_data.drop_duplicates(subset = 'pretty_formula')\n",
    "new_data.describe()"
   ]
  },
  {
   "cell_type": "markdown",
   "metadata": {},
   "source": [
    "_D. W. Davies_"
   ]
  },
  {
   "cell_type": "markdown",
   "metadata": {
    "deletable": true,
    "editable": true
   },
   "source": [
    "___"
   ]
  },
  {
   "cell_type": "markdown",
   "metadata": {
    "deletable": true,
    "editable": true
   },
   "source": [
    "As an alternative to multithreading, you could use the cell below to do the SMACT test within nested for-loops. However, this can result in quaternary combinations taking many hours."
   ]
  },
  {
   "cell_type": "code",
   "execution_count": 84,
   "metadata": {
    "collapsed": false,
    "deletable": true,
    "editable": true
   },
   "outputs": [
    {
     "name": "stdout",
     "output_type": "stream",
     "text": [
      "Time taken to generate list:  0:00:19.048249\n"
     ]
    }
   ],
   "source": [
    "# Without multiprocessing option\n",
    "all_compounds = []\n",
    "start = datetime.now()\n",
    "for els in itertools.combinations(used_elements, 2):\n",
    "    elements = [e.symbol for e in els] + ['O']\n",
    "    paul_a, paul_b= els[0].pauling_eneg, els[1].pauling_eneg\n",
    "    electronegativities = [paul_a, paul_b, 3.44]\n",
    "    for ox_a, ox_b in itertools.product(els[0].oxidation_states, els[1].oxidation_states):\n",
    "        \n",
    "        ox_states = [ox_a, ox_b, -2]\n",
    "        # Test for charge balance\n",
    "        cn_e, cn_r = smact.neutral_ratios(ox_states,threshold = 8)\n",
    "        if cn_e:\n",
    "            # Electronegativity test\n",
    "            electroneg_OK = screening.pauling_test(ox_states, electronegativities)\n",
    "            if electroneg_OK:\n",
    "                compound = tuple([elements,cn_r[0]])\n",
    "                all_compounds.append(compound)\n",
    "print('Time taken to generate list:  {0}'.format(datetime.now() - start))"
   ]
  }
 ],
 "metadata": {
  "kernelspec": {
   "display_name": "Python 3",
   "language": "python",
   "name": "python3"
  },
  "language_info": {
   "codemirror_mode": {
    "name": "ipython",
    "version": 3
   },
   "file_extension": ".py",
   "mimetype": "text/x-python",
   "name": "python",
   "nbconvert_exporter": "python",
   "pygments_lexer": "ipython3",
   "version": "3.6.0"
  }
 },
 "nbformat": 4,
 "nbformat_minor": 2
}
