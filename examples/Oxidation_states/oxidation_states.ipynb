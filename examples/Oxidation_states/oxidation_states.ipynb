{
 "cells": [
  {
   "cell_type": "markdown",
   "metadata": {},
   "source": [
    "# Oxidation states\n",
    "Here, we will demonstrate the main functionalities of the `oxidation_states` submodule of SMACT.\n",
    "\n",
    "TO-DO\n",
    "* Modify composition generation by SMACT to reproduce exact results from the paper"
   ]
  },
  {
   "cell_type": "code",
   "execution_count": 1,
   "metadata": {},
   "outputs": [],
   "source": [
    "# Imports\n",
    "import smact\n",
    "from smact import Species, Element, screening\n",
    "from smact.oxidation_states import Oxidation_state_probability_finder\n",
    "from itertools import combinations, product\n",
    "import multiprocess"
   ]
  },
  {
   "cell_type": "code",
   "execution_count": 2,
   "metadata": {},
   "outputs": [],
   "source": [
    "# Instantiate the oxidation state probability finder class with the default table\n",
    "ox_prob_finder = Oxidation_state_probability_finder()"
   ]
  },
  {
   "cell_type": "markdown",
   "metadata": {},
   "source": [
    "After instantiating the class, we can examine what species are included in the probability table through the `get_included_species` method."
   ]
  },
  {
   "cell_type": "code",
   "execution_count": 3,
   "metadata": {},
   "outputs": [
    {
     "name": "stdout",
     "output_type": "stream",
     "text": [
      "['Te-2', 'Se-2', 'Br-1', 'O-2', 'S-2', 'F-1', 'Cl-1', 'I-1', 'V5', 'Bi1', 'Hg2', 'Eu2', 'Ta1', 'Zr1', 'Pb2', 'Th4', 'Cr4', 'Ti2', 'Be2', 'Sb4', 'Re5', 'Sb3', 'Mo6', 'Ni3', 'Ga2', 'Nd3', 'Ni1', 'Cr6', 'Mn6', 'In3', 'V3', 'La3', 'W3', 'Ho2', 'Ta4', 'Cu1', 'W5', 'Cr3', 'Fe1', 'Re6', 'Rb1', 'Sm3', 'Pd2', 'Ce3', 'Sc2', 'Cr5', 'Tm3', 'W4', 'Pr3', 'Mo2', 'Ag3', 'Ir3', 'Li1', 'Cs1', 'Mn4', 'Al3', 'V4', 'Mn1', 'Rh1', 'Ru5', 'La1', 'Bi5', 'Cd2', 'Ce2', 'Yb3', 'Ru2', 'Ru3', 'Cr2', 'Co3', 'Na1', 'Ru4', 'Ag1', 'Zn2', 'Pb4', 'Mn2', 'Ir6', 'Ta3', 'Tb1', 'K1', 'Ti4', 'Rh3', 'Nb1', 'Ti3', 'Sr2', 'Y3', 'Gd3', 'Ta2', 'Zr2', 'Gd2', 'Th3', 'Lu3', 'Tm2', 'Sn3', 'Ca2', 'Nb3', 'Re3', 'Cu2', 'Er3', 'Bi3', 'V2', 'Fe2', 'Sb5', 'Mg2', 'Ce4', 'Ta5', 'U6', 'Nb2', 'Ag2', 'Re4', 'Yb2', 'In2', 'Ga1', 'Tb3', 'Mn7', 'La2', 'Tl1', 'Bi2', 'Mn3', 'Ho3', 'Rh4', 'Tl3', 'U2', 'Fe4', 'Ge2', 'Mo3', 'Pr2', 'U3', 'W6', 'Ni4', 'Fe3', 'Ga3', 'Ba2', 'In1', 'Re2', 'Sn4', 'Ir4', 'Sn2', 'U4', 'U5', 'Zr3', 'Nb4', 'Zr4', 'Eu3', 'Pd4', 'Y1', 'Hf4', 'Nd2', 'Y2', 'W2', 'Re7', 'Ni2', 'Co1', 'Tb2', 'Dy2', 'Hf2', 'Tb4', 'Mn5', 'Cu3', 'Ir5', 'Sc3', 'Mo4', 'Dy3', 'Co4', 'Ge3', 'Sm2', 'Hg1', 'Nb5', 'Ru6', 'Ge4', 'Sc1', 'Pd3', 'Co2', 'Mo5']\n"
     ]
    }
   ],
   "source": [
    "print(ox_prob_finder.get_included_species())"
   ]
  },
  {
   "cell_type": "markdown",
   "metadata": {},
   "source": [
    "We can compute the probability of a cation-anion pair appearing together using the method `pair_probability` as demonstrated below for Al<sup>3+</sup> and O<sup>2-</sup>."
   ]
  },
  {
   "cell_type": "code",
   "execution_count": 4,
   "metadata": {},
   "outputs": [
    {
     "data": {
      "text/plain": [
       "1.0"
      ]
     },
     "execution_count": 4,
     "metadata": {},
     "output_type": "execute_result"
    }
   ],
   "source": [
    "Al=Species('Al', oxidation = 3, coordination=6)\n",
    "O=Species('O', oxidation=-2, coordination=6)\n",
    "ox_prob_finder.pair_probability(Al,O)"
   ]
  },
  {
   "cell_type": "markdown",
   "metadata": {},
   "source": [
    "Let's reproduce the results from the publication.\n",
    "First we will generate the input compositions from the paper."
   ]
  },
  {
   "cell_type": "code",
   "execution_count": 5,
   "metadata": {},
   "outputs": [],
   "source": [
    "# Get the elements\n",
    "\n",
    "all_el = smact.element_dictionary()\n",
    "symbol_list = [k for k,i in all_el.items()]\n",
    "\n",
    "d_block_symbols = smact.ordered_elements(21,30) + smact.ordered_elements(39,48) + smact.ordered_elements(71,80)\n",
    "\n",
    "d_block_elements = [all_el[x] for x in symbol_list if x in d_block_symbols]\n",
    "\n",
    "d_block_combos = combinations(d_block_elements,2)\n",
    "\n",
    "def smact_filter(els):\n",
    "    all_compounds = []\n",
    "    halide_symbols = ['F','Cl','Br','I']\n",
    "\n",
    "    for halide in halide_symbols:\n",
    "        elements = [e.symbol for e in els] +[halide]\n",
    "\n",
    "        # Get the Pauling electronegativities\n",
    "        paul_a, paul_b, paul_x = els[0].pauling_eneg, els[1].pauling_eneg, Element(halide).pauling_eneg\n",
    "        electronegativities = [paul_a, paul_b, paul_x]\n",
    "    \n",
    "        # For each set of species (in oxidation states) apply both SMACT tests\n",
    "        for ox_a, ox_b in product(els[0].oxidation_states, \n",
    "                        els[1].oxidation_states):      \n",
    "            ox_states = [ox_a, ox_b, -1]\n",
    "            # Test for charge balance\n",
    "            cn_e, cn_r = smact.neutral_ratios(ox_states, threshold = 8)\n",
    "            if cn_e:\n",
    "                # Electronegativity test\n",
    "                electroneg_OK = screening.pauling_test(ox_states, electronegativities)\n",
    "                if electroneg_OK:\n",
    "                    compound = tuple([elements,(ox_a,ox_b,-1),cn_r[0]])\n",
    "                    all_compounds.append(compound)\n",
    "    return all_compounds\n"
   ]
  },
  {
   "cell_type": "code",
   "execution_count": 6,
   "metadata": {},
   "outputs": [
    {
     "name": "stdout",
     "output_type": "stream",
     "text": [
      "Number of compositions: 38788\n",
      "Each list entry looks like this:\n",
      "  elements, oxidation states, stoichiometries\n",
      "(['Sc', 'Ti', 'F'], (1, -1, -1), (2, 1, 1))\n",
      "(['Sc', 'Ti', 'F'], (1, 1, -1), (1, 1, 2))\n",
      "(['Sc', 'Ti', 'F'], (1, 2, -1), (1, 1, 3))\n",
      "(['Sc', 'Ti', 'F'], (1, 3, -1), (1, 1, 4))\n",
      "(['Sc', 'Ti', 'F'], (1, 4, -1), (1, 1, 5))\n"
     ]
    }
   ],
   "source": [
    "with multiprocess.Pool(3) as p:\n",
    "    result = p.map(smact_filter, d_block_combos)\n",
    "    \n",
    "flat_list = [item for sublist in result for item in sublist]\n",
    "print(\"Number of compositions: {0}\".format(len(flat_list)))\n",
    "print('Each list entry looks like this:\\n  elements, oxidation states, stoichiometries')\n",
    "for i in flat_list[:5]:\n",
    "    print(i)\n"
   ]
  },
  {
   "cell_type": "code",
   "execution_count": 7,
   "metadata": {},
   "outputs": [
    {
     "name": "stdout",
     "output_type": "stream",
     "text": [
      "Each list entry now looks like this: \n",
      "Sc2TiF\n",
      "ScTiF2\n",
      "ScTiF3\n",
      "ScTiF4\n",
      "ScTiF5\n"
     ]
    }
   ],
   "source": [
    "from pymatgen.core import Composition\n",
    "def comp_maker(comp):\n",
    "    form = []\n",
    "    for el, ammt in zip(comp[0], comp[2]):\n",
    "        form.append(el)\n",
    "        form.append(ammt)\n",
    "    form = ''.join(str(e) for e in form)\n",
    "    pmg_form = Composition(form).reduced_formula\n",
    "    return pmg_form\n",
    "\n",
    "if __name__ == '__main__':  \n",
    "    with multiprocess.Pool(3) as p:\n",
    "        pretty_formulas = p.map(comp_maker, flat_list)\n",
    "\n",
    "print('Each list entry now looks like this: ')\n",
    "for i in pretty_formulas[:5]:\n",
    "    print(i)"
   ]
  },
  {
   "cell_type": "markdown",
   "metadata": {},
   "source": [
    "Below, we convert our list of elements, oxidation_states, stoichiometries into a list of lists of `smact.Species`."
   ]
  },
  {
   "cell_type": "code",
   "execution_count": 8,
   "metadata": {},
   "outputs": [],
   "source": [
    "import pandas as pd\n",
    "def species_maker(comp):\n",
    "    species_list=[]\n",
    "    for el, ox in zip(comp[0], comp[1]):\n",
    "        species_list.append(Species(el,oxidation=ox))\n",
    "    return species_list\n",
    "if __name__ == '__main__':  \n",
    "    with multiprocess.Pool(3) as p:\n",
    "        list_of_species = p.map(species_maker, flat_list)"
   ]
  },
  {
   "cell_type": "markdown",
   "metadata": {},
   "source": [
    "The method `compound_probability` of the `Oxidation_state_probability_finder` class enables us to compute the likelihood of the metal species existing in the presence of particular anions. We will apply this to all the compounds generated by `smact`"
   ]
  },
  {
   "cell_type": "code",
   "execution_count": 9,
   "metadata": {},
   "outputs": [],
   "source": [
    "\n",
    "def compute_compound_probability(species_list):\n",
    "    try:\n",
    "       return ox_prob_finder.compound_probability(species_list)\n",
    "    except NameError:\n",
    "        return None\n",
    "\n",
    "# Compute the compound probabilities \n",
    "compound_probabilities = [compute_compound_probability(spec) for spec in list_of_species]"
   ]
  },
  {
   "cell_type": "code",
   "execution_count": 10,
   "metadata": {},
   "outputs": [
    {
     "data": {
      "text/html": [
       "<div>\n",
       "<style scoped>\n",
       "    .dataframe tbody tr th:only-of-type {\n",
       "        vertical-align: middle;\n",
       "    }\n",
       "\n",
       "    .dataframe tbody tr th {\n",
       "        vertical-align: top;\n",
       "    }\n",
       "\n",
       "    .dataframe thead th {\n",
       "        text-align: right;\n",
       "    }\n",
       "</style>\n",
       "<table border=\"1\" class=\"dataframe\">\n",
       "  <thead>\n",
       "    <tr style=\"text-align: right;\">\n",
       "      <th></th>\n",
       "      <th>formula_pretty</th>\n",
       "      <th>prob</th>\n",
       "    </tr>\n",
       "  </thead>\n",
       "  <tbody>\n",
       "    <tr>\n",
       "      <th>0</th>\n",
       "      <td>Sc2TiF</td>\n",
       "      <td>0.000000</td>\n",
       "    </tr>\n",
       "    <tr>\n",
       "      <th>1</th>\n",
       "      <td>ScTiF2</td>\n",
       "      <td>NaN</td>\n",
       "    </tr>\n",
       "    <tr>\n",
       "      <th>2</th>\n",
       "      <td>ScTiF3</td>\n",
       "      <td>0.019608</td>\n",
       "    </tr>\n",
       "    <tr>\n",
       "      <th>3</th>\n",
       "      <td>ScTiF4</td>\n",
       "      <td>0.176471</td>\n",
       "    </tr>\n",
       "    <tr>\n",
       "      <th>4</th>\n",
       "      <td>ScTiF5</td>\n",
       "      <td>0.303922</td>\n",
       "    </tr>\n",
       "  </tbody>\n",
       "</table>\n",
       "</div>"
      ],
      "text/plain": [
       "  formula_pretty      prob\n",
       "0         Sc2TiF  0.000000\n",
       "1         ScTiF2       NaN\n",
       "2         ScTiF3  0.019608\n",
       "3         ScTiF4  0.176471\n",
       "4         ScTiF5  0.303922"
      ]
     },
     "execution_count": 10,
     "metadata": {},
     "output_type": "execute_result"
    }
   ],
   "source": [
    "# Create a dataframe\n",
    "data = {'formula_pretty':pretty_formulas, 'prob': compound_probabilities}\n",
    "\n",
    "df = pd.DataFrame(data)\n",
    "df.head()"
   ]
  },
  {
   "cell_type": "code",
   "execution_count": 11,
   "metadata": {},
   "outputs": [
    {
     "name": "stdout",
     "output_type": "stream",
     "text": [
      "Our original smact query generated 38788 compositions. \n",
      "We could compute compute compound probabilities for 20360 compositions. \n",
      "Finally, there are 15884 compositions which have a non-zero compound probability.\n"
     ]
    }
   ],
   "source": [
    "# Get the dataframe without the None probabilities\n",
    "notNone_df=df.dropna(axis=0).reset_index(drop=True)\n",
    "\n",
    "# Get the dataframe with the non-zero probabilities\n",
    "nonZero_df= notNone_df.loc[notNone_df.prob>0].reset_index(drop=True)\n",
    "\n",
    "print(f'Our original smact query generated {len(pretty_formulas)} compositions. \\nWe could compute compute compound probabilities for {notNone_df.shape[0]} compositions. \\nFinally, there are {nonZero_df.shape[0]} compositions which have a non-zero compound probability.')"
   ]
  },
  {
   "cell_type": "markdown",
   "metadata": {},
   "source": [
    "We will know plot the number of compounds as a function of the probability threshold."
   ]
  },
  {
   "cell_type": "code",
   "execution_count": 12,
   "metadata": {},
   "outputs": [
    {
     "data": {
      "image/png": "[encoded data removed]",
      "text/plain": [
       "<Figure size 640x480 with 1 Axes>"
      ]
     },
     "metadata": {},
     "output_type": "display_data"
    }
   ],
   "source": [
    "import numpy as np\n",
    "import matplotlib.pyplot as plt\n",
    "\n",
    "thresh = np.linspace(0.0,1.0,50)\n",
    "probs = notNone_df.prob.to_numpy()\n",
    "condition = (probs>0.5)\n",
    "filtered_probs = probs[condition]\n",
    "num_compounds = [len(probs[(probs>t)]) for t in thresh]\n",
    "\n",
    "fig,ax = plt.subplots()\n",
    "\n",
    "ax.scatter(x=thresh, y=num_compounds, marker='x')\n",
    "plt.xlabel('Threshold')\n",
    "plt.ylabel('Number of compounds')\n",
    "ax.axvline()\n",
    "plt.show()"
   ]
  }
 ],
 "metadata": {
  "kernelspec": {
   "display_name": "Python 3.9.13 ('m3gnet')",
   "language": "python",
   "name": "python3"
  },
  "language_info": {
   "codemirror_mode": {
    "name": "ipython",
    "version": 3
   },
   "file_extension": ".py",
   "mimetype": "text/x-python",
   "name": "python",
   "nbconvert_exporter": "python",
   "pygments_lexer": "ipython3",
   "version": "3.9.13"
  },
  "orig_nbformat": 4,
  "vscode": {
   "interpreter": {
    "hash": "12ffb9a1fc55ed07279e7dd77ad285a3497c27b3c474e4f9eb992cd6013b4b31"
   }
  }
 },
 "nbformat": 4,
 "nbformat_minor": 2
}
