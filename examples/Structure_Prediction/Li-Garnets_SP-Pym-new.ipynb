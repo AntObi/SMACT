{
 "cells": [
  {
   "cell_type": "code",
   "execution_count": 1,
   "metadata": {},
   "outputs": [],
   "source": [
    "import itertools\n",
    "import json\n",
    "import logging\n",
    "import multiprocessing\n",
    "import os\n",
    "import pickle\n",
    "import unittest\n",
    "from contextlib import contextmanager\n",
    "from datetime import datetime\n",
    "from operator import itemgetter\n",
    "from random import sample\n",
    "\n",
    "import numpy as np\n",
    "import pandas as pd\n",
    "import pymatgen\n",
    "from pandas.testing import assert_frame_equal, assert_series_equal\n",
    "from pymatgen.analysis.structure_prediction.substitution_probability import \\\n",
    "    SubstitutionProbability\n",
    "\n",
    "import smact\n",
    "from smact import Species\n",
    "from smact.structure_prediction.database import StructureDB\n",
    "from smact.structure_prediction.mutation import CationMutator\n",
    "from smact.structure_prediction.prediction import StructurePredictor\n",
    "from smact.structure_prediction.structure import SmactStructure\n",
    "from smact.structure_prediction.utilities import parse_spec, unparse_spec"
   ]
  },
  {
   "cell_type": "markdown",
   "metadata": {},
   "source": [
    "# Structure Prediction\n",
    "\n",
    "In this notebook, we aim to do a test of the structure substitution algorithm implemented in SMACT\n",
    "\n",
    "Before we can do predictions, we need to create our cation mutator, database and a table, and a list of hypothetical compositions\n",
    "\n",
    "## Procedure\n",
    "* Create a list of hypothetical compositions\n",
    "* Create a database of structures\n",
    "* Create Cation Mutator\n",
    "* Predict structures"
   ]
  },
  {
   "cell_type": "markdown",
   "metadata": {},
   "source": [
    "## Part 1: Compositions\n",
    "These compositions have generated in a different notebook and the results have been loaded in"
   ]
  },
  {
   "cell_type": "code",
   "execution_count": 5,
   "metadata": {},
   "outputs": [
    {
     "data": {
      "text/html": [
       "<div>\n",
       "<style scoped>\n",
       "    .dataframe tbody tr th:only-of-type {\n",
       "        vertical-align: middle;\n",
       "    }\n",
       "\n",
       "    .dataframe tbody tr th {\n",
       "        vertical-align: top;\n",
       "    }\n",
       "\n",
       "    .dataframe thead th {\n",
       "        text-align: right;\n",
       "    }\n",
       "</style>\n",
       "<table border=\"1\" class=\"dataframe\">\n",
       "  <thead>\n",
       "    <tr style=\"text-align: right;\">\n",
       "      <th></th>\n",
       "      <th>Pretty Formula</th>\n",
       "      <th>A</th>\n",
       "      <th>B</th>\n",
       "      <th>C</th>\n",
       "      <th>D</th>\n",
       "      <th>sus_factor</th>\n",
       "    </tr>\n",
       "  </thead>\n",
       "  <tbody>\n",
       "    <tr>\n",
       "      <th>0</th>\n",
       "      <td>Li3Mg3(NO6)2</td>\n",
       "      <td>Mg1+</td>\n",
       "      <td>N3+</td>\n",
       "      <td>Li1+</td>\n",
       "      <td>O1-</td>\n",
       "      <td>745.566611</td>\n",
       "    </tr>\n",
       "    <tr>\n",
       "      <th>1</th>\n",
       "      <td>Na3Li3(NO6)2</td>\n",
       "      <td>Na1+</td>\n",
       "      <td>N3+</td>\n",
       "      <td>Li1+</td>\n",
       "      <td>O1-</td>\n",
       "      <td>748.694226</td>\n",
       "    </tr>\n",
       "    <tr>\n",
       "      <th>2</th>\n",
       "      <td>Li3Mg3(CO6)2</td>\n",
       "      <td>Mg1+</td>\n",
       "      <td>C3+</td>\n",
       "      <td>Li1+</td>\n",
       "      <td>O1-</td>\n",
       "      <td>748.731405</td>\n",
       "    </tr>\n",
       "    <tr>\n",
       "      <th>3</th>\n",
       "      <td>Na3Li3(CO6)2</td>\n",
       "      <td>Na1+</td>\n",
       "      <td>C3+</td>\n",
       "      <td>Li1+</td>\n",
       "      <td>O1-</td>\n",
       "      <td>751.940682</td>\n",
       "    </tr>\n",
       "    <tr>\n",
       "      <th>4</th>\n",
       "      <td>Li3Mg3Al2O12</td>\n",
       "      <td>Mg1+</td>\n",
       "      <td>Al3+</td>\n",
       "      <td>Li1+</td>\n",
       "      <td>O1-</td>\n",
       "      <td>806.236425</td>\n",
       "    </tr>\n",
       "  </tbody>\n",
       "</table>\n",
       "</div>"
      ],
      "text/plain": [
       "  Pretty Formula     A     B     C    D  sus_factor\n",
       "0   Li3Mg3(NO6)2  Mg1+   N3+  Li1+  O1-  745.566611\n",
       "1   Na3Li3(NO6)2  Na1+   N3+  Li1+  O1-  748.694226\n",
       "2   Li3Mg3(CO6)2  Mg1+   C3+  Li1+  O1-  748.731405\n",
       "3   Na3Li3(CO6)2  Na1+   C3+  Li1+  O1-  751.940682\n",
       "4   Li3Mg3Al2O12  Mg1+  Al3+  Li1+  O1-  806.236425"
      ]
     },
     "execution_count": 5,
     "metadata": {},
     "output_type": "execute_result"
    }
   ],
   "source": [
    "comps = pd.read_csv(\"Li-Garnet_Comps_sus.csv\")\n",
    "comps.head()"
   ]
  },
  {
   "cell_type": "code",
   "execution_count": null,
   "metadata": {},
   "outputs": [],
   "source": []
  },
  {
   "cell_type": "markdown",
   "metadata": {},
   "source": [
    "## Part 2: Database\n",
    "\n",
    "\n",
    "Let's follow this procedure\n",
    "1. Create a SMACT database and add a table which contains the result of our query\n",
    "\n"
   ]
  },
  {
   "cell_type": "code",
   "execution_count": 4,
   "metadata": {},
   "outputs": [],
   "source": [
    "DB = StructureDB(\"Test.db\")\n",
    "SP = StructurePredictor(CM, DB, \"Garnets\")"
   ]
  },
  {
   "cell_type": "markdown",
   "metadata": {},
   "source": [
    "## Part 3: Cation Mutator\n",
    "\n",
    "In order to set up the cation mutator, we must do the following:\n",
    "1. Generate a dataframe of lambda values for all species we which to consider\n",
    "2. Instantiate the CationMutator class with the lambda dataframe\n",
    "\n"
   ]
  },
  {
   "cell_type": "code",
   "execution_count": 2,
   "metadata": {},
   "outputs": [],
   "source": [
    "# Create the CationMutator class\n",
    "\n",
    "# Here we use the default lambda table\n",
    "CM = CationMutator.from_json()"
   ]
  },
  {
   "cell_type": "markdown",
   "metadata": {},
   "source": [
    "## Part 4: Structure Prediction\n",
    "\n",
    "#### Prerequisites: Part 1, Part 2 & Part 3\n",
    "\n",
    "Procedure:\n",
    "1. Instantiate the StructurePredictor class with the cation mutator (part 1), database (part 2) and table (part 2)\n",
    "2. Predict Structures\n",
    "3. Compare predicted structures with Database"
   ]
  },
  {
   "cell_type": "code",
   "execution_count": 6,
   "metadata": {},
   "outputs": [],
   "source": [
    "# Corrections\n",
    "cond_df = CM.complete_cond_probs()\n",
    "species = list(cond_df.columns)\n",
    "\n",
    "comps_copy = comps[[\"A\", \"B\", \"C\", \"D\"]]\n",
    "\n",
    "df_copy_bool = comps_copy.isin(species)"
   ]
  },
  {
   "cell_type": "code",
   "execution_count": 7,
   "metadata": {},
   "outputs": [
    {
     "data": {
      "text/html": [
       "<div>\n",
       "<style scoped>\n",
       "    .dataframe tbody tr th:only-of-type {\n",
       "        vertical-align: middle;\n",
       "    }\n",
       "\n",
       "    .dataframe tbody tr th {\n",
       "        vertical-align: top;\n",
       "    }\n",
       "\n",
       "    .dataframe thead th {\n",
       "        text-align: right;\n",
       "    }\n",
       "</style>\n",
       "<table border=\"1\" class=\"dataframe\">\n",
       "  <thead>\n",
       "    <tr style=\"text-align: right;\">\n",
       "      <th></th>\n",
       "      <th>A</th>\n",
       "      <th>B</th>\n",
       "      <th>C</th>\n",
       "      <th>D</th>\n",
       "    </tr>\n",
       "  </thead>\n",
       "  <tbody>\n",
       "    <tr>\n",
       "      <th>0</th>\n",
       "      <td>Fe5+</td>\n",
       "      <td>Au3+</td>\n",
       "      <td>Li1+</td>\n",
       "      <td>O2-</td>\n",
       "    </tr>\n",
       "    <tr>\n",
       "      <th>1</th>\n",
       "      <td>Fe5+</td>\n",
       "      <td>N3+</td>\n",
       "      <td>Li1+</td>\n",
       "      <td>O2-</td>\n",
       "    </tr>\n",
       "    <tr>\n",
       "      <th>2</th>\n",
       "      <td>Fe5+</td>\n",
       "      <td>C3+</td>\n",
       "      <td>Li1+</td>\n",
       "      <td>O2-</td>\n",
       "    </tr>\n",
       "    <tr>\n",
       "      <th>3</th>\n",
       "      <td>Fe3+</td>\n",
       "      <td>S6+</td>\n",
       "      <td>Li1+</td>\n",
       "      <td>O2-</td>\n",
       "    </tr>\n",
       "    <tr>\n",
       "      <th>4</th>\n",
       "      <td>Fe5+</td>\n",
       "      <td>Al3+</td>\n",
       "      <td>Li1+</td>\n",
       "      <td>O2-</td>\n",
       "    </tr>\n",
       "  </tbody>\n",
       "</table>\n",
       "</div>"
      ],
      "text/plain": [
       "      A     B     C    D\n",
       "0  Fe5+  Au3+  Li1+  O2-\n",
       "1  Fe5+   N3+  Li1+  O2-\n",
       "2  Fe5+   C3+  Li1+  O2-\n",
       "3  Fe3+   S6+  Li1+  O2-\n",
       "4  Fe5+  Al3+  Li1+  O2-"
      ]
     },
     "execution_count": 7,
     "metadata": {},
     "output_type": "execute_result"
    }
   ],
   "source": [
    "x = comps_copy[df_copy_bool].fillna(0)\n",
    "x = x[x.A != 0]\n",
    "x = x[x.B != 0]\n",
    "x = x[x.C != 0]\n",
    "x = x[x.D != 0]\n",
    "x = x.reset_index(drop=True)\n",
    "\n",
    "# x.to_csv(\"./Garnet_Comps_Corrected_Pym.csv\", index=False)\n",
    "x.head()"
   ]
  },
  {
   "cell_type": "code",
   "execution_count": 8,
   "metadata": {},
   "outputs": [
    {
     "data": {
      "text/html": [
       "<div>\n",
       "<style scoped>\n",
       "    .dataframe tbody tr th:only-of-type {\n",
       "        vertical-align: middle;\n",
       "    }\n",
       "\n",
       "    .dataframe tbody tr th {\n",
       "        vertical-align: top;\n",
       "    }\n",
       "\n",
       "    .dataframe thead th {\n",
       "        text-align: right;\n",
       "    }\n",
       "</style>\n",
       "<table border=\"1\" class=\"dataframe\">\n",
       "  <thead>\n",
       "    <tr style=\"text-align: right;\">\n",
       "      <th></th>\n",
       "      <th>A</th>\n",
       "      <th>B</th>\n",
       "      <th>C</th>\n",
       "      <th>D</th>\n",
       "      <th>Pretty Formula</th>\n",
       "      <th>sus_factor</th>\n",
       "    </tr>\n",
       "  </thead>\n",
       "  <tbody>\n",
       "    <tr>\n",
       "      <th>0</th>\n",
       "      <td>Fe5+</td>\n",
       "      <td>Au3+</td>\n",
       "      <td>Li1+</td>\n",
       "      <td>O2-</td>\n",
       "      <td>Li3Fe3(AuO6)2</td>\n",
       "      <td>1048.627123</td>\n",
       "    </tr>\n",
       "    <tr>\n",
       "      <th>1</th>\n",
       "      <td>Fe5+</td>\n",
       "      <td>N3+</td>\n",
       "      <td>Li1+</td>\n",
       "      <td>O2-</td>\n",
       "      <td>Li3Fe3(NO6)2</td>\n",
       "      <td>1057.900521</td>\n",
       "    </tr>\n",
       "    <tr>\n",
       "      <th>2</th>\n",
       "      <td>Fe5+</td>\n",
       "      <td>C3+</td>\n",
       "      <td>Li1+</td>\n",
       "      <td>O2-</td>\n",
       "      <td>Li3Fe3(CO6)2</td>\n",
       "      <td>1063.408167</td>\n",
       "    </tr>\n",
       "    <tr>\n",
       "      <th>3</th>\n",
       "      <td>Fe3+</td>\n",
       "      <td>S6+</td>\n",
       "      <td>Li1+</td>\n",
       "      <td>O2-</td>\n",
       "      <td>Li3Fe3(SO6)2</td>\n",
       "      <td>1084.708271</td>\n",
       "    </tr>\n",
       "    <tr>\n",
       "      <th>4</th>\n",
       "      <td>Fe5+</td>\n",
       "      <td>Al3+</td>\n",
       "      <td>Li1+</td>\n",
       "      <td>O2-</td>\n",
       "      <td>Li3Al2(FeO4)3</td>\n",
       "      <td>1086.691220</td>\n",
       "    </tr>\n",
       "  </tbody>\n",
       "</table>\n",
       "</div>"
      ],
      "text/plain": [
       "      A     B     C    D Pretty Formula   sus_factor\n",
       "0  Fe5+  Au3+  Li1+  O2-  Li3Fe3(AuO6)2  1048.627123\n",
       "1  Fe5+   N3+  Li1+  O2-   Li3Fe3(NO6)2  1057.900521\n",
       "2  Fe5+   C3+  Li1+  O2-   Li3Fe3(CO6)2  1063.408167\n",
       "3  Fe3+   S6+  Li1+  O2-   Li3Fe3(SO6)2  1084.708271\n",
       "4  Fe5+  Al3+  Li1+  O2-  Li3Al2(FeO4)3  1086.691220"
      ]
     },
     "execution_count": 8,
     "metadata": {},
     "output_type": "execute_result"
    }
   ],
   "source": [
    "inner_merged = pd.merge(x, comps)\n",
    "inner_merged.to_csv(\"./Li-Garnet_Comps_Corrected_Pym.csv\", index=False)\n",
    "inner_merged.head()"
   ]
  },
  {
   "cell_type": "code",
   "execution_count": 9,
   "metadata": {},
   "outputs": [
    {
     "name": "stdout",
     "output_type": "stream",
     "text": [
      "      A     B     C    D Pretty Formula   sus_factor\n",
      "0  Fe5+  Au3+  Li1+  O2-  Li3Fe3(AuO6)2  1048.627123\n",
      "1  Fe5+   N3+  Li1+  O2-   Li3Fe3(NO6)2  1057.900521\n",
      "2  Fe5+   C3+  Li1+  O2-   Li3Fe3(CO6)2  1063.408167\n",
      "3  Fe3+   S6+  Li1+  O2-   Li3Fe3(SO6)2  1084.708271\n",
      "4  Fe5+  Al3+  Li1+  O2-  Li3Al2(FeO4)3  1086.691220\n",
      "\n",
      "We have reduced our search space from 2504 to 691\n"
     ]
    }
   ],
   "source": [
    "print(inner_merged.head())\n",
    "print(\"\")\n",
    "print(\n",
    "    f\"We have reduced our search space from {comps.shape[0]} to {inner_merged.shape[0]}\"\n",
    ")"
   ]
  },
  {
   "cell_type": "code",
   "execution_count": 10,
   "metadata": {},
   "outputs": [],
   "source": [
    "# x=x[:100]"
   ]
  },
  {
   "cell_type": "code",
   "execution_count": 11,
   "metadata": {},
   "outputs": [
    {
     "name": "stdout",
     "output_type": "stream",
     "text": [
      "Time taken to predict the crystal structures of our search space of 691 with a threshold of 0.0001 is 0:01:28.345660 \n",
      "\n"
     ]
    }
   ],
   "source": [
    "# Create a list of test species\n",
    "test_specs_list = [\n",
    "    [\n",
    "        parse_spec(inner_merged[\"A\"][i]),\n",
    "        parse_spec(inner_merged[\"B\"][i]),\n",
    "        parse_spec(inner_merged[\"C\"][i]),\n",
    "        parse_spec(inner_merged[\"D\"][i]),\n",
    "    ]\n",
    "    for i in range(inner_merged.shape[0])\n",
    "]\n",
    "\n",
    "# Set up a for loop to store\n",
    "from datetime import datetime\n",
    "\n",
    "start = datetime.now()\n",
    "from operator import itemgetter\n",
    "\n",
    "preds = []\n",
    "parents_list = []\n",
    "probs_list = []\n",
    "for test_specs in test_specs_list:\n",
    "    predictions = list(SP.predict_structs(test_specs, thresh=10e-4, include_same=False))\n",
    "    predictions.sort(key=itemgetter(1), reverse=True)\n",
    "    parents = [x[2].composition() for x in predictions]\n",
    "    probs = [x[1] for x in predictions]\n",
    "    preds.append(predictions)\n",
    "    parents_list.append(parents)\n",
    "    probs_list.append(probs)\n",
    "print(\n",
    "    f\"Time taken to predict the crystal structures of our search space of {inner_merged.shape[0]} with a threshold of 0.0001 is {datetime.now()-start} \"\n",
    ")\n",
    "# print(parents_list)\n",
    "print(\"\")\n",
    "# print(probs_list)"
   ]
  },
  {
   "cell_type": "markdown",
   "metadata": {},
   "source": [
    "## Part 5: Storing the results"
   ]
  },
  {
   "cell_type": "code",
   "execution_count": 50,
   "metadata": {},
   "outputs": [],
   "source": [
    "# Add predictions to dataframe\n",
    "import pymatgen as mg\n",
    "\n",
    "pred_structs = []\n",
    "probs = []\n",
    "parent_structs = []\n",
    "parent_pretty_formula = []\n",
    "for i in preds:\n",
    "    if len(i) == 0:\n",
    "        pred_structs.append(None)\n",
    "        probs.append(None)\n",
    "        parent_structs.append(None)\n",
    "        parent_pretty_formula.append(None)\n",
    "    else:\n",
    "        pred_structs.append(i[0][0].as_poscar())\n",
    "        probs.append(i[0][1])\n",
    "        parent_structs.append(i[0][2].as_poscar())\n",
    "        parent_pretty_formula.append(\n",
    "            mg.Structure.from_str(\n",
    "                i[0][2].as_poscar(), fmt=\"poscar\"\n",
    "            ).composition.reduced_formula\n",
    "        )"
   ]
  },
  {
   "cell_type": "code",
   "execution_count": 57,
   "metadata": {},
   "outputs": [
    {
     "data": {
      "text/html": [
       "<div>\n",
       "<style scoped>\n",
       "    .dataframe tbody tr th:only-of-type {\n",
       "        vertical-align: middle;\n",
       "    }\n",
       "\n",
       "    .dataframe tbody tr th {\n",
       "        vertical-align: top;\n",
       "    }\n",
       "\n",
       "    .dataframe thead th {\n",
       "        text-align: right;\n",
       "    }\n",
       "</style>\n",
       "<table border=\"1\" class=\"dataframe\">\n",
       "  <thead>\n",
       "    <tr style=\"text-align: right;\">\n",
       "      <th></th>\n",
       "      <th>A</th>\n",
       "      <th>B</th>\n",
       "      <th>C</th>\n",
       "      <th>D</th>\n",
       "      <th>Pretty Formula</th>\n",
       "      <th>sus_factor</th>\n",
       "      <th>predicted_structure</th>\n",
       "      <th>probability</th>\n",
       "      <th>Parent formula</th>\n",
       "      <th>parent_structure</th>\n",
       "    </tr>\n",
       "  </thead>\n",
       "  <tbody>\n",
       "    <tr>\n",
       "      <th>35</th>\n",
       "      <td>Fe3+</td>\n",
       "      <td>Se6+</td>\n",
       "      <td>Li1+</td>\n",
       "      <td>O2-</td>\n",
       "      <td>Li3Fe3(SeO6)2</td>\n",
       "      <td>1333.993967</td>\n",
       "      <td>None</td>\n",
       "      <td>NaN</td>\n",
       "      <td>None</td>\n",
       "      <td>None</td>\n",
       "    </tr>\n",
       "    <tr>\n",
       "      <th>36</th>\n",
       "      <td>Mn5+</td>\n",
       "      <td>Ti3+</td>\n",
       "      <td>Li1+</td>\n",
       "      <td>O2-</td>\n",
       "      <td>Li3Ti2Mn3O12</td>\n",
       "      <td>1337.856132</td>\n",
       "      <td>Li1+ Mn5+ O2- Ti3+\\n1.0\\n-5.961372 5.961372 5....</td>\n",
       "      <td>0.003172</td>\n",
       "      <td>Li3Ti2(PO4)3</td>\n",
       "      <td>Li1+ O2- P5+ Ti3+\\n1.0\\n-5.961372 5.961372 5.9...</td>\n",
       "    </tr>\n",
       "    <tr>\n",
       "      <th>37</th>\n",
       "      <td>Ag3+</td>\n",
       "      <td>Se6+</td>\n",
       "      <td>Li1+</td>\n",
       "      <td>O2-</td>\n",
       "      <td>Li3Ag3(SeO6)2</td>\n",
       "      <td>1348.830401</td>\n",
       "      <td>None</td>\n",
       "      <td>NaN</td>\n",
       "      <td>None</td>\n",
       "      <td>None</td>\n",
       "    </tr>\n",
       "    <tr>\n",
       "      <th>38</th>\n",
       "      <td>Ti3+</td>\n",
       "      <td>Se6+</td>\n",
       "      <td>Li1+</td>\n",
       "      <td>O2-</td>\n",
       "      <td>Li3Ti3(SeO6)2</td>\n",
       "      <td>1386.761748</td>\n",
       "      <td>None</td>\n",
       "      <td>NaN</td>\n",
       "      <td>None</td>\n",
       "      <td>None</td>\n",
       "    </tr>\n",
       "    <tr>\n",
       "      <th>39</th>\n",
       "      <td>Mn3+</td>\n",
       "      <td>Mn6+</td>\n",
       "      <td>Li1+</td>\n",
       "      <td>O2-</td>\n",
       "      <td>Li3Mn5O12</td>\n",
       "      <td>1390.537491</td>\n",
       "      <td>None</td>\n",
       "      <td>NaN</td>\n",
       "      <td>None</td>\n",
       "      <td>None</td>\n",
       "    </tr>\n",
       "  </tbody>\n",
       "</table>\n",
       "</div>"
      ],
      "text/plain": [
       "       A     B     C    D Pretty Formula   sus_factor  \\\n",
       "35  Fe3+  Se6+  Li1+  O2-  Li3Fe3(SeO6)2  1333.993967   \n",
       "36  Mn5+  Ti3+  Li1+  O2-   Li3Ti2Mn3O12  1337.856132   \n",
       "37  Ag3+  Se6+  Li1+  O2-  Li3Ag3(SeO6)2  1348.830401   \n",
       "38  Ti3+  Se6+  Li1+  O2-  Li3Ti3(SeO6)2  1386.761748   \n",
       "39  Mn3+  Mn6+  Li1+  O2-      Li3Mn5O12  1390.537491   \n",
       "\n",
       "                                  predicted_structure  probability  \\\n",
       "35                                               None          NaN   \n",
       "36  Li1+ Mn5+ O2- Ti3+\\n1.0\\n-5.961372 5.961372 5....     0.003172   \n",
       "37                                               None          NaN   \n",
       "38                                               None          NaN   \n",
       "39                                               None          NaN   \n",
       "\n",
       "   Parent formula                                   parent_structure  \n",
       "35           None                                               None  \n",
       "36   Li3Ti2(PO4)3  Li1+ O2- P5+ Ti3+\\n1.0\\n-5.961372 5.961372 5.9...  \n",
       "37           None                                               None  \n",
       "38           None                                               None  \n",
       "39           None                                               None  "
      ]
     },
     "execution_count": 57,
     "metadata": {},
     "output_type": "execute_result"
    }
   ],
   "source": [
    "# Add prediction results to dataframe\n",
    "inner_merged[\"predicted_structure\"] = pred_structs\n",
    "inner_merged[\"probability\"] = probs\n",
    "inner_merged[\"Parent formula\"] = parent_pretty_formula\n",
    "inner_merged[\"parent_structure\"] = parent_structs\n",
    "\n",
    "inner_merged[35:40]"
   ]
  },
  {
   "cell_type": "code",
   "execution_count": 59,
   "metadata": {},
   "outputs": [],
   "source": [
    "# output the intermediary results into a dataframe\n",
    "outdir = \"./Li-SP_results\"\n",
    "if not os.path.exists(outdir):\n",
    "    os.mkdir(outdir)\n",
    "fullpath = os.path.join(outdir, \"pred_results.csv\")\n",
    "inner_merged.to_csv(fullpath)"
   ]
  },
  {
   "cell_type": "code",
   "execution_count": 66,
   "metadata": {},
   "outputs": [
    {
     "data": {
      "text/html": [
       "<div>\n",
       "<style scoped>\n",
       "    .dataframe tbody tr th:only-of-type {\n",
       "        vertical-align: middle;\n",
       "    }\n",
       "\n",
       "    .dataframe tbody tr th {\n",
       "        vertical-align: top;\n",
       "    }\n",
       "\n",
       "    .dataframe thead th {\n",
       "        text-align: right;\n",
       "    }\n",
       "</style>\n",
       "<table border=\"1\" class=\"dataframe\">\n",
       "  <thead>\n",
       "    <tr style=\"text-align: right;\">\n",
       "      <th></th>\n",
       "      <th>A</th>\n",
       "      <th>B</th>\n",
       "      <th>C</th>\n",
       "      <th>D</th>\n",
       "      <th>Pretty Formula</th>\n",
       "      <th>sus_factor</th>\n",
       "      <th>predicted_structure</th>\n",
       "      <th>probability</th>\n",
       "      <th>Parent formula</th>\n",
       "      <th>parent_structure</th>\n",
       "    </tr>\n",
       "  </thead>\n",
       "  <tbody>\n",
       "    <tr>\n",
       "      <th>0</th>\n",
       "      <td>Mn5+</td>\n",
       "      <td>Ti3+</td>\n",
       "      <td>Li1+</td>\n",
       "      <td>O2-</td>\n",
       "      <td>Li3Ti2Mn3O12</td>\n",
       "      <td>1337.856132</td>\n",
       "      <td>Li1+ Mn5+ O2- Ti3+\\n1.0\\n-5.961372 5.961372 5....</td>\n",
       "      <td>0.003172</td>\n",
       "      <td>Li3Ti2(PO4)3</td>\n",
       "      <td>Li1+ O2- P5+ Ti3+\\n1.0\\n-5.961372 5.961372 5.9...</td>\n",
       "    </tr>\n",
       "    <tr>\n",
       "      <th>1</th>\n",
       "      <td>Mn5+</td>\n",
       "      <td>Mn3+</td>\n",
       "      <td>Li1+</td>\n",
       "      <td>O2-</td>\n",
       "      <td>Li3Mn5O12</td>\n",
       "      <td>1390.537491</td>\n",
       "      <td>Li1+ Mn5+ Mn3+ O2-\\n1.0\\n-5.919846 5.919846 5....</td>\n",
       "      <td>0.003172</td>\n",
       "      <td>Li3Mn2(PO4)3</td>\n",
       "      <td>Li1+ Mn3+ O2- P5+\\n1.0\\n-5.919846 5.919846 5.9...</td>\n",
       "    </tr>\n",
       "    <tr>\n",
       "      <th>2</th>\n",
       "      <td>Mn5+</td>\n",
       "      <td>V3+</td>\n",
       "      <td>Li1+</td>\n",
       "      <td>O2-</td>\n",
       "      <td>Li3Mn3V2O12</td>\n",
       "      <td>1723.667044</td>\n",
       "      <td>Li1+ Mn5+ O2- V3+\\n1.0\\n-5.916063 5.916063 5.9...</td>\n",
       "      <td>0.003172</td>\n",
       "      <td>Li3V2(PO4)3</td>\n",
       "      <td>Li1+ O2- P5+ V3+\\n1.0\\n-5.916063 5.916063 5.91...</td>\n",
       "    </tr>\n",
       "    <tr>\n",
       "      <th>3</th>\n",
       "      <td>Y3+</td>\n",
       "      <td>S6+</td>\n",
       "      <td>Li1+</td>\n",
       "      <td>O2-</td>\n",
       "      <td>Li3Y3(SO6)2</td>\n",
       "      <td>1730.939983</td>\n",
       "      <td>Li1+ O2- S6+ Y3+\\n1.0\\n-6.215615 6.215615 6.21...</td>\n",
       "      <td>0.006341</td>\n",
       "      <td>Li3Y3(TeO6)2</td>\n",
       "      <td>Li1+ O2- Te6+ Y3+\\n1.0\\n-6.215615 6.215615 6.2...</td>\n",
       "    </tr>\n",
       "    <tr>\n",
       "      <th>4</th>\n",
       "      <td>Fe5+</td>\n",
       "      <td>Cr3+</td>\n",
       "      <td>Li1+</td>\n",
       "      <td>O2-</td>\n",
       "      <td>Li3Cr2(FeO4)3</td>\n",
       "      <td>1743.330697</td>\n",
       "      <td>Cr3+ Fe5+ Li1+ O2-\\n1.0\\n-6.068257 6.068257 6....</td>\n",
       "      <td>0.001940</td>\n",
       "      <td>Li3Cr2(AsO4)3</td>\n",
       "      <td>As5+ Cr3+ Li1+ O2-\\n1.0\\n-6.068257 6.068257 6....</td>\n",
       "    </tr>\n",
       "  </tbody>\n",
       "</table>\n",
       "</div>"
      ],
      "text/plain": [
       "      A     B     C    D Pretty Formula   sus_factor  \\\n",
       "0  Mn5+  Ti3+  Li1+  O2-   Li3Ti2Mn3O12  1337.856132   \n",
       "1  Mn5+  Mn3+  Li1+  O2-      Li3Mn5O12  1390.537491   \n",
       "2  Mn5+   V3+  Li1+  O2-    Li3Mn3V2O12  1723.667044   \n",
       "3   Y3+   S6+  Li1+  O2-    Li3Y3(SO6)2  1730.939983   \n",
       "4  Fe5+  Cr3+  Li1+  O2-  Li3Cr2(FeO4)3  1743.330697   \n",
       "\n",
       "                                 predicted_structure  probability  \\\n",
       "0  Li1+ Mn5+ O2- Ti3+\\n1.0\\n-5.961372 5.961372 5....     0.003172   \n",
       "1  Li1+ Mn5+ Mn3+ O2-\\n1.0\\n-5.919846 5.919846 5....     0.003172   \n",
       "2  Li1+ Mn5+ O2- V3+\\n1.0\\n-5.916063 5.916063 5.9...     0.003172   \n",
       "3  Li1+ O2- S6+ Y3+\\n1.0\\n-6.215615 6.215615 6.21...     0.006341   \n",
       "4  Cr3+ Fe5+ Li1+ O2-\\n1.0\\n-6.068257 6.068257 6....     0.001940   \n",
       "\n",
       "  Parent formula                                   parent_structure  \n",
       "0   Li3Ti2(PO4)3  Li1+ O2- P5+ Ti3+\\n1.0\\n-5.961372 5.961372 5.9...  \n",
       "1   Li3Mn2(PO4)3  Li1+ Mn3+ O2- P5+\\n1.0\\n-5.919846 5.919846 5.9...  \n",
       "2    Li3V2(PO4)3  Li1+ O2- P5+ V3+\\n1.0\\n-5.916063 5.916063 5.91...  \n",
       "3   Li3Y3(TeO6)2  Li1+ O2- Te6+ Y3+\\n1.0\\n-6.215615 6.215615 6.2...  \n",
       "4  Li3Cr2(AsO4)3  As5+ Cr3+ Li1+ O2-\\n1.0\\n-6.068257 6.068257 6....  "
      ]
     },
     "execution_count": 66,
     "metadata": {},
     "output_type": "execute_result"
    }
   ],
   "source": [
    "# Filter dataframe to remove blank entries from dataframe\n",
    "results = inner_merged.dropna()\n",
    "results = results.reset_index(drop=True)\n",
    "results.head()"
   ]
  },
  {
   "cell_type": "code",
   "execution_count": 69,
   "metadata": {},
   "outputs": [],
   "source": [
    "# Check if composition exists in our local database\n",
    "\n",
    "in_db = []\n",
    "for i in results[\"predicted_structure\"]:\n",
    "    comp = SmactStructure.from_poscar(i).composition()\n",
    "    if len(DB.get_structs(comp, \"Garnets\")) != 0:\n",
    "        in_db.append(\"Yes\")\n",
    "    else:\n",
    "        in_db.append(\"No\")\n",
    "results[\"In DB?\"] = in_db"
   ]
  },
  {
   "cell_type": "code",
   "execution_count": 72,
   "metadata": {},
   "outputs": [
    {
     "name": "stdout",
     "output_type": "stream",
     "text": [
      "No     194\n",
      "Yes     14\n",
      "Name: In DB?, dtype: int64\n"
     ]
    },
    {
     "data": {
      "image/png": "[encoded data removed]",
      "text/plain": [
       "<Figure size 432x288 with 1 Axes>"
      ]
     },
     "metadata": {},
     "output_type": "display_data"
    }
   ],
   "source": [
    "print(results[\"In DB?\"].value_counts())\n",
    "\n",
    "\n",
    "# Check the ratio of In DB?:Not in DB\n",
    "in_db_count = results[\"In DB?\"].value_counts()\n",
    "import numpy as np\n",
    "from matplotlib import pyplot as plt\n",
    "\n",
    "fig = plt.figure()\n",
    "ax = fig.add_axes([0, 0, 1, 1])\n",
    "ax.axis(\"equal\")\n",
    "ax.pie(in_db_count, labels=[\"No\", \"Yes\"], autopct=\"%1.2f%%\")\n",
    "plt.savefig(f\"{outdir}/Li-Garnets_Li-In_DB_SP.png\")\n",
    "plt.show()"
   ]
  },
  {
   "cell_type": "code",
   "execution_count": 79,
   "metadata": {},
   "outputs": [
    {
     "data": {
      "image/png": "[encoded data removed]",
      "text/plain": [
       "<Figure size 576x432 with 1 Axes>"
      ]
     },
     "metadata": {
      "needs_background": "light"
     },
     "output_type": "display_data"
    }
   ],
   "source": [
    "import matplotlib.pyplot as plt\n",
    "import seaborn as sns\n",
    "\n",
    "plt.figure(figsize=(8, 6))\n",
    "ax1 = sns.histplot(data=results, x=\"probability\", hue=\"In DB?\", multiple=\"stack\")\n",
    "# ax2=sns.histplot(new_series, label=\"New Garnets\")\n",
    "# plt.savefig(\"Prediction_Probability_Distribution_pym.png\")"
   ]
  },
  {
   "cell_type": "code",
   "execution_count": 91,
   "metadata": {},
   "outputs": [
    {
     "data": {
      "image/png": "[encoded data removed]",
      "text/plain": [
       "<Figure size 864x432 with 2 Axes>"
      ]
     },
     "metadata": {
      "needs_background": "light"
     },
     "output_type": "display_data"
    }
   ],
   "source": [
    "g = sns.FacetGrid(results, col=\"In DB?\", height=6, aspect=1)\n",
    "\n",
    "g.map(sns.histplot, \"probability\")\n",
    "g.savefig(\"./Li-SP_results/Prob_dist.png\")"
   ]
  },
  {
   "cell_type": "code",
   "execution_count": 92,
   "metadata": {},
   "outputs": [
    {
     "data": {
      "text/html": [
       "<div>\n",
       "<style scoped>\n",
       "    .dataframe tbody tr th:only-of-type {\n",
       "        vertical-align: middle;\n",
       "    }\n",
       "\n",
       "    .dataframe tbody tr th {\n",
       "        vertical-align: top;\n",
       "    }\n",
       "\n",
       "    .dataframe thead th {\n",
       "        text-align: right;\n",
       "    }\n",
       "</style>\n",
       "<table border=\"1\" class=\"dataframe\">\n",
       "  <thead>\n",
       "    <tr style=\"text-align: right;\">\n",
       "      <th></th>\n",
       "      <th>A</th>\n",
       "      <th>B</th>\n",
       "      <th>C</th>\n",
       "      <th>D</th>\n",
       "      <th>Pretty Formula</th>\n",
       "      <th>sus_factor</th>\n",
       "      <th>predicted_structure</th>\n",
       "      <th>probability</th>\n",
       "      <th>Parent formula</th>\n",
       "      <th>parent_structure</th>\n",
       "      <th>In DB?</th>\n",
       "    </tr>\n",
       "  </thead>\n",
       "  <tbody>\n",
       "    <tr>\n",
       "      <th>0</th>\n",
       "      <td>Mn5+</td>\n",
       "      <td>Ti3+</td>\n",
       "      <td>Li1+</td>\n",
       "      <td>O2-</td>\n",
       "      <td>Li3Ti2Mn3O12</td>\n",
       "      <td>1337.856132</td>\n",
       "      <td>Li1+ Mn5+ O2- Ti3+\\n1.0\\n-5.961372 5.961372 5....</td>\n",
       "      <td>0.003172</td>\n",
       "      <td>Li3Ti2(PO4)3</td>\n",
       "      <td>Li1+ O2- P5+ Ti3+\\n1.0\\n-5.961372 5.961372 5.9...</td>\n",
       "      <td>No</td>\n",
       "    </tr>\n",
       "    <tr>\n",
       "      <th>1</th>\n",
       "      <td>Mn5+</td>\n",
       "      <td>Mn3+</td>\n",
       "      <td>Li1+</td>\n",
       "      <td>O2-</td>\n",
       "      <td>Li3Mn5O12</td>\n",
       "      <td>1390.537491</td>\n",
       "      <td>Li1+ Mn5+ Mn3+ O2-\\n1.0\\n-5.919846 5.919846 5....</td>\n",
       "      <td>0.003172</td>\n",
       "      <td>Li3Mn2(PO4)3</td>\n",
       "      <td>Li1+ Mn3+ O2- P5+\\n1.0\\n-5.919846 5.919846 5.9...</td>\n",
       "      <td>No</td>\n",
       "    </tr>\n",
       "    <tr>\n",
       "      <th>2</th>\n",
       "      <td>Mn5+</td>\n",
       "      <td>V3+</td>\n",
       "      <td>Li1+</td>\n",
       "      <td>O2-</td>\n",
       "      <td>Li3Mn3V2O12</td>\n",
       "      <td>1723.667044</td>\n",
       "      <td>Li1+ Mn5+ O2- V3+\\n1.0\\n-5.916063 5.916063 5.9...</td>\n",
       "      <td>0.003172</td>\n",
       "      <td>Li3V2(PO4)3</td>\n",
       "      <td>Li1+ O2- P5+ V3+\\n1.0\\n-5.916063 5.916063 5.91...</td>\n",
       "      <td>No</td>\n",
       "    </tr>\n",
       "    <tr>\n",
       "      <th>3</th>\n",
       "      <td>Y3+</td>\n",
       "      <td>S6+</td>\n",
       "      <td>Li1+</td>\n",
       "      <td>O2-</td>\n",
       "      <td>Li3Y3(SO6)2</td>\n",
       "      <td>1730.939983</td>\n",
       "      <td>Li1+ O2- S6+ Y3+\\n1.0\\n-6.215615 6.215615 6.21...</td>\n",
       "      <td>0.006341</td>\n",
       "      <td>Li3Y3(TeO6)2</td>\n",
       "      <td>Li1+ O2- Te6+ Y3+\\n1.0\\n-6.215615 6.215615 6.2...</td>\n",
       "      <td>No</td>\n",
       "    </tr>\n",
       "    <tr>\n",
       "      <th>4</th>\n",
       "      <td>Fe5+</td>\n",
       "      <td>Cr3+</td>\n",
       "      <td>Li1+</td>\n",
       "      <td>O2-</td>\n",
       "      <td>Li3Cr2(FeO4)3</td>\n",
       "      <td>1743.330697</td>\n",
       "      <td>Cr3+ Fe5+ Li1+ O2-\\n1.0\\n-6.068257 6.068257 6....</td>\n",
       "      <td>0.001940</td>\n",
       "      <td>Li3Cr2(AsO4)3</td>\n",
       "      <td>As5+ Cr3+ Li1+ O2-\\n1.0\\n-6.068257 6.068257 6....</td>\n",
       "      <td>No</td>\n",
       "    </tr>\n",
       "  </tbody>\n",
       "</table>\n",
       "</div>"
      ],
      "text/plain": [
       "      A     B     C    D Pretty Formula   sus_factor  \\\n",
       "0  Mn5+  Ti3+  Li1+  O2-   Li3Ti2Mn3O12  1337.856132   \n",
       "1  Mn5+  Mn3+  Li1+  O2-      Li3Mn5O12  1390.537491   \n",
       "2  Mn5+   V3+  Li1+  O2-    Li3Mn3V2O12  1723.667044   \n",
       "3   Y3+   S6+  Li1+  O2-    Li3Y3(SO6)2  1730.939983   \n",
       "4  Fe5+  Cr3+  Li1+  O2-  Li3Cr2(FeO4)3  1743.330697   \n",
       "\n",
       "                                 predicted_structure  probability  \\\n",
       "0  Li1+ Mn5+ O2- Ti3+\\n1.0\\n-5.961372 5.961372 5....     0.003172   \n",
       "1  Li1+ Mn5+ Mn3+ O2-\\n1.0\\n-5.919846 5.919846 5....     0.003172   \n",
       "2  Li1+ Mn5+ O2- V3+\\n1.0\\n-5.916063 5.916063 5.9...     0.003172   \n",
       "3  Li1+ O2- S6+ Y3+\\n1.0\\n-6.215615 6.215615 6.21...     0.006341   \n",
       "4  Cr3+ Fe5+ Li1+ O2-\\n1.0\\n-6.068257 6.068257 6....     0.001940   \n",
       "\n",
       "  Parent formula                                   parent_structure In DB?  \n",
       "0   Li3Ti2(PO4)3  Li1+ O2- P5+ Ti3+\\n1.0\\n-5.961372 5.961372 5.9...     No  \n",
       "1   Li3Mn2(PO4)3  Li1+ Mn3+ O2- P5+\\n1.0\\n-5.919846 5.919846 5.9...     No  \n",
       "2    Li3V2(PO4)3  Li1+ O2- P5+ V3+\\n1.0\\n-5.916063 5.916063 5.91...     No  \n",
       "3   Li3Y3(TeO6)2  Li1+ O2- Te6+ Y3+\\n1.0\\n-6.215615 6.215615 6.2...     No  \n",
       "4  Li3Cr2(AsO4)3  As5+ Cr3+ Li1+ O2-\\n1.0\\n-6.068257 6.068257 6....     No  "
      ]
     },
     "execution_count": 92,
     "metadata": {},
     "output_type": "execute_result"
    }
   ],
   "source": [
    "results.head()"
   ]
  },
  {
   "cell_type": "code",
   "execution_count": null,
   "metadata": {},
   "outputs": [],
   "source": [
    "# new_structures="
   ]
  },
  {
   "cell_type": "code",
   "execution_count": 74,
   "metadata": {},
   "outputs": [],
   "source": [
    "# pym_Li_DB=StructureDB(\"pym_Li.DB\")\n",
    "# pym_Li_DB.add_table(\"New\")\n",
    "# pym_Li_DB.add_table(\"not_new\")\n",
    "# pym_Li_DB.add_structs(new_structures,\"New\")\n",
    "# pym_Li_DB.add_structs(exist_structures,\"not_new\")"
   ]
  },
  {
   "cell_type": "code",
   "execution_count": 77,
   "metadata": {},
   "outputs": [],
   "source": [
    "# pym_Li_DB.add_table(\"not_new\")"
   ]
  },
  {
   "cell_type": "code",
   "execution_count": 79,
   "metadata": {},
   "outputs": [
    {
     "data": {
      "text/plain": [
       "14"
      ]
     },
     "execution_count": 79,
     "metadata": {},
     "output_type": "execute_result"
    }
   ],
   "source": [
    "# pym_Li_DB.add_structs(new_structures,\"New\")\n",
    "# pym_Li_DB.add_structs(exist_structures,\"not_new\")"
   ]
  },
  {
   "cell_type": "code",
   "execution_count": 94,
   "metadata": {},
   "outputs": [],
   "source": [
    "# Periodic table BS\n",
    "# Get element names\n",
    "from pymatgen.util.plotting import periodic_table_heatmap\n",
    "\n",
    "A_els = pd.Series([parse_spec(i)[0] for i in results[\"A\"]])\n",
    "B_els = pd.Series([parse_spec(i)[0] for i in results[\"B\"]])\n",
    "C_els = pd.Series([parse_spec(i)[0] for i in results[\"C\"]])\n",
    "\n",
    "# get dict of counts\n",
    "A_els_counts = A_els.value_counts().to_dict()\n",
    "B_els_counts = B_els.value_counts().to_dict()\n",
    "C_els_counts = C_els.value_counts().to_dict()"
   ]
  },
  {
   "cell_type": "code",
   "execution_count": 95,
   "metadata": {},
   "outputs": [
    {
     "name": "stderr",
     "output_type": "stream",
     "text": [
      "/rds/general/user/aoo216/home/anaconda3/envs/exploration/lib/python3.9/site-packages/pymatgen/util/plotting.py:236: MatplotlibDeprecationWarning: You are modifying the state of a globally registered colormap. In future versions, you will not be able to modify a registered colormap in-place. To remove this warning, you can make a copy of the colormap first. cmap = copy.copy(mpl.cm.get_cmap(\"YlOrRd\"))\n",
      "  cbar.cmap.set_under(blank_color)\n"
     ]
    },
    {
     "data": {
      "image/png": "[encoded data removed]",
      "text/plain": [
       "<Figure size 864x576 with 2 Axes>"
      ]
     },
     "metadata": {
      "needs_background": "light"
     },
     "output_type": "display_data"
    }
   ],
   "source": [
    "ax1 = periodic_table_heatmap(elemental_data=A_els_counts, cbar_label=\"Counts\")\n",
    "ax1.savefig(f\"{outdir}/periodic_table_A.png\")"
   ]
  },
  {
   "cell_type": "code",
   "execution_count": 96,
   "metadata": {},
   "outputs": [
    {
     "data": {
      "image/png": "[encoded data removed]",
      "text/plain": [
       "<Figure size 864x576 with 2 Axes>"
      ]
     },
     "metadata": {
      "needs_background": "light"
     },
     "output_type": "display_data"
    }
   ],
   "source": [
    "ax2 = periodic_table_heatmap(elemental_data=B_els_counts, cbar_label=\"Counts\")\n",
    "ax2.savefig(f\"{outdir}/periodic_table_B.png\")"
   ]
  },
  {
   "cell_type": "code",
   "execution_count": 97,
   "metadata": {},
   "outputs": [
    {
     "data": {
      "image/png": "[encoded data removed]",
      "text/plain": [
       "<Figure size 864x576 with 2 Axes>"
      ]
     },
     "metadata": {
      "needs_background": "light"
     },
     "output_type": "display_data"
    }
   ],
   "source": [
    "ax3 = periodic_table_heatmap(elemental_data=C_els_counts, cbar_label=\"Counts\")\n",
    "ax3.savefig(f\"{outdir}/periodic_table_C.png\")"
   ]
  },
  {
   "cell_type": "code",
   "execution_count": null,
   "metadata": {},
   "outputs": [],
   "source": []
  }
 ],
 "metadata": {
  "kernelspec": {
   "display_name": "Python 3",
   "language": "python",
   "name": "python3"
  },
  "language_info": {
   "codemirror_mode": {
    "name": "ipython",
    "version": 3
   },
   "file_extension": ".py",
   "mimetype": "text/x-python",
   "name": "python",
   "nbconvert_exporter": "python",
   "pygments_lexer": "ipython3",
   "version": "3.8.10"
  }
 },
 "nbformat": 4,
 "nbformat_minor": 4
}
