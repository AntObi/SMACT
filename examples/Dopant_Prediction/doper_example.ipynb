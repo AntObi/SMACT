{
 "cells": [
  {
   "attachments": {},
   "cell_type": "markdown",
   "id": "dc3ab04f",
   "metadata": {},
   "source": [
    "# Semiconductor dopant screening\n",
    "\n",
    "[![Open in Colab](https://colab.research.google.com/assets/colab-badge.svg)](https://colab.research.google.com/github/WMD-group/SMACT/blob/master/examples/Dopant_Prediction/doper_example.ipynb)"
   ]
  },
  {
   "attachments": {},
   "cell_type": "markdown",
   "id": "71bfdd77",
   "metadata": {},
   "source": [
    "## Application to titanium dioxide"
   ]
  },
  {
   "cell_type": "code",
   "outputs": [],
   "source": [
    "# Imports for colab\n",
    "try:\n",
    "    import google.colab\n",
    "\n",
    "    IN_COLAB = True\n",
    "except:\n",
    "    IN_COLAB = False\n",
    "\n",
    "if IN_COLAB:\n",
    "    !pip install git+https://github.com/WMD-group/SMACT.git --quiet"
   ],
   "metadata": {
    "collapsed": false,
    "is_executing": true
   },
   "id": "e9a6152fe962eb54",
   "execution_count": null
  },
  {
   "cell_type": "code",
   "execution_count": null,
   "id": "58e48522",
   "metadata": {
    "is_executing": true
   },
   "outputs": [],
   "source": [
    "from smact.dopant_prediction.doper import Doper"
   ]
  },
  {
   "attachments": {},
   "cell_type": "markdown",
   "id": "0d722cf1",
   "metadata": {},
   "source": [
    "The Doper module includes `get_dopants` function. These require an input (tuple(str)), which is formed by the ionic species of the material.\n",
    "\n",
    "By default, the top five p-type and n-type candidates are reported. Use `num_dopants` input to modify the number of outputs.\n",
    "\n",
    "The output format:\n",
    "\n",
    "(dict): Dopant suggestions, given as a dictionary with keys \"n_type_cation\", \"p_type_cation\", \"n_type_anion\", \"p_type_anion\".\n",
    "\n",
    "Each key contains a list of possible dopants in the order of probability (Highest --> Lowest).\n",
    "\n",
    "Each possible dopant is represented with tuple: ('substituted dopant', 'original specie', 'probability') "
   ]
  },
  {
   "cell_type": "code",
   "execution_count": null,
   "id": "193682c3",
   "metadata": {
    "is_executing": true
   },
   "outputs": [],
   "source": [
    "material = Doper((\"Ti4+\", \"O2-\"))\n",
    "\n",
    "# 5 possible dopants\n",
    "material.get_dopants(5)"
   ]
  },
  {
   "cell_type": "markdown",
   "source": [
    "The results can be presented in a table format using the `to_table` attribute."
   ],
   "metadata": {
    "collapsed": false
   },
   "id": "a8981931c712eb35"
  },
  {
   "cell_type": "code",
   "outputs": [],
   "source": [
    "material.to_table"
   ],
   "metadata": {
    "collapsed": false,
    "is_executing": true
   },
   "id": "85b73f0fbcedbcf9",
   "execution_count": null
  },
  {
   "attachments": {},
   "cell_type": "markdown",
   "id": "11ec5825",
   "metadata": {},
   "source": [
    "Ternary and multicomponent systems can also be tested."
   ]
  },
  {
   "cell_type": "code",
   "execution_count": null,
   "id": "df5a5dbb",
   "metadata": {
    "is_executing": true
   },
   "outputs": [],
   "source": [
    "quaternary = Doper((\"Cu1+\", \"Zn2+\", \"Ge4+\", \"S2-\"))\n",
    "quaternary.get_dopants()"
   ]
  },
  {
   "attachments": {},
   "cell_type": "markdown",
   "id": "f2524a92",
   "metadata": {},
   "source": [
    "If you want to plot the results in the form of heatmap, use `plot_dopants` method.\n",
    "\n",
    "`num_dopants` input can also be used."
   ]
  },
  {
   "cell_type": "code",
   "execution_count": 1,
   "id": "dc29d078",
   "metadata": {
    "ExecuteTime": {
     "end_time": "2024-06-04T10:25:17.175676Z",
     "start_time": "2024-06-04T10:25:16.431255Z"
    }
   },
   "outputs": [
    {
     "ename": "NameError",
     "evalue": "name 'quaternary' is not defined",
     "output_type": "error",
     "traceback": [
      "\u001B[1;31m---------------------------------------------------------------------------\u001B[0m",
      "\u001B[1;31mNameError\u001B[0m                                 Traceback (most recent call last)",
      "Cell \u001B[1;32mIn[1], line 1\u001B[0m\n\u001B[1;32m----> 1\u001B[0m \u001B[43mquaternary\u001B[49m\u001B[38;5;241m.\u001B[39mplot_dopants()\n",
      "\u001B[1;31mNameError\u001B[0m: name 'quaternary' is not defined"
     ]
    }
   ],
   "source": [
    "quaternary.plot_dopants()"
   ]
  },
  {
   "cell_type": "markdown",
   "source": [
    "## Alternative metrics\n",
    "\n",
    "The probability values for the dopants are calculated based on the algorithm presented in:\n",
    "        [Hautier, G., Fischer, C., Ehrlacher, V., Jain, A., and Ceder, G. (2011)\n",
    "        Data Mined Ionic Substitutions for the Discovery of New Compounds.\n",
    "        Inorganic Chemistry, 50(2), 656-663](https://pubs.acs.org/doi/10.1021/ic102031h)\n",
    "        \n",
    "In SMACT, we can also provide alternative ways for determing the possible dopants based on alternative probability or similarity metrics.\n",
    "\n",
    "For example, we have a similarity metric based on distributed representations of the ions, which we call `skipspecies`. This metric is based on the idea that similar ions should have similar embeddings. The similarity is calculated based on the cosine similarity of the embeddings of the ions."
   ],
   "metadata": {
    "collapsed": false
   },
   "id": "97bc99c142543c4a"
  },
  {
   "cell_type": "code",
   "execution_count": null,
   "id": "f9d9781a",
   "metadata": {},
   "outputs": [],
   "source": [
    "doper_skipspecies = Doper(\n",
    "    (\"Ti4+\", \"O2-\"), embedding=\"skipspecies\", use_probability=False\n",
    ")\n",
    "doper_skipspecies.get_dopants(5)\n",
    "# Present results in a table\n",
    "doper_skipspecies.to_table"
   ]
  },
  {
   "cell_type": "markdown",
   "source": [],
   "metadata": {
    "collapsed": false
   },
   "id": "df4ed5ade4ff40c5"
  }
 ],
 "metadata": {
  "kernelspec": {
   "display_name": "venv",
   "language": "python",
   "name": "python3"
  },
  "language_info": {
   "codemirror_mode": {
    "name": "ipython",
    "version": 3
   },
   "file_extension": ".py",
   "mimetype": "text/x-python",
   "name": "python",
   "nbconvert_exporter": "python",
   "pygments_lexer": "ipython3",
   "version": "3.9.16"
  }
 },
 "nbformat": 4,
 "nbformat_minor": 5
}
