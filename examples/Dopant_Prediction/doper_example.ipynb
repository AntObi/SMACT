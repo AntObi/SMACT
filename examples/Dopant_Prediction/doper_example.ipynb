{
 "cells": [
  {
   "attachments": {},
   "cell_type": "markdown",
   "id": "dc3ab04f",
   "metadata": {},
   "source": [
    "# Semiconductor dopant screening"
   ]
  },
  {
   "attachments": {},
   "cell_type": "markdown",
   "id": "71bfdd77",
   "metadata": {},
   "source": [
    "## Application to titanium dioxide"
   ]
  },
  {
   "cell_type": "code",
   "execution_count": 16,
   "id": "eb3f1399",
   "metadata": {},
   "outputs": [],
   "source": [
    "import sys\n",
    "sys.path.append(\"/Users/jiwoolee/Documents/smactClone/SMACT\")"
   ]
  },
  {
   "cell_type": "code",
   "execution_count": 18,
   "id": "58e48522",
   "metadata": {},
   "outputs": [],
   "source": [
    "from smact.dopant_prediction.doper import Doper"
   ]
  },
  {
   "attachments": {},
   "cell_type": "markdown",
   "id": "0d722cf1",
   "metadata": {},
   "source": [
    "The Doper module includes `get_dopants` function. These require an input (tuple(str)), which is formed by the ionic species of the material.\n",
    "\n",
    "By default, the top five p-type and n-type candidates are reported. Use `num_dopants` input to modify the number of outputs.\n",
    "\n",
    "The output format:\n",
    "\n",
    "(dict): Dopant suggestions, given as a dictionary with keys \"n_type_cation\", \"p_type_cation\", \"n_type_anion\", \"p_type_anion\".\n",
    "\n",
    "Each key contains a list of possible dopants in the order of probability (Highest --> Lowest).\n",
    "\n",
    "Each possible dopant is represented with tuple: ('substituted dopant', 'original specie', 'probability') "
   ]
  },
  {
   "cell_type": "code",
   "execution_count": 6,
   "id": "193682c3",
   "metadata": {},
   "outputs": [
    {
     "data": {
      "text/plain": [
       "{'n-type cation substitutions': [('Ta5+', 'Ti4+', 8.790371775858281e-05),\n",
       "  ('Nb5+', 'Ti4+', 7.830035204694342e-05),\n",
       "  ('Sb5+', 'Ti4+', 6.259166355036722e-05),\n",
       "  ('Ru5+', 'Ti4+', 4.904126561555437e-05),\n",
       "  ('Re5+', 'Ti4+', 4.546178573532138e-05),\n",
       "  ('Ir5+', 'Ti4+', 3.4652057352167286e-05),\n",
       "  ('W6+', 'Ti4+', 3.4638026110457894e-05),\n",
       "  ('Bi5+', 'Ti4+', 1.9582397953056897e-05),\n",
       "  ('Mo6+', 'Ti4+', 1.6924395455176864e-05),\n",
       "  ('Te6+', 'Ti4+', 1.4299724897106019e-05),\n",
       "  ('U5+', 'Ti4+', 1.4299724897106019e-05),\n",
       "  ('U6+', 'Ti4+', 1.4299724897106019e-05),\n",
       "  ('As5+', 'Ti4+', 1.1731025674408029e-05),\n",
       "  ('I5+', 'Ti4+', 9.377039539879602e-06),\n",
       "  ('P5+', 'Ti4+', 9.37392687948258e-06)],\n",
       " 'p-type cation substitutions': [('Na1+', 'Ti4+', 0.00010060400812977031),\n",
       "  ('Zn2+', 'Ti4+', 8.56373996146833e-05),\n",
       "  ('Mn2+', 'Ti4+', 8.563568688381837e-05),\n",
       "  ('Mg2+', 'Ti4+', 6.777016806765154e-05),\n",
       "  ('Fe3+', 'Ti4+', 6.259479321178562e-05),\n",
       "  ('Ca2+', 'Ti4+', 5.5340892351269824e-05),\n",
       "  ('Ni2+', 'Ti4+', 5.534033894511336e-05),\n",
       "  ('V3+', 'Ti4+', 5.312098771970144e-05),\n",
       "  ('Li1+', 'Ti4+', 4.90559802023167e-05),\n",
       "  ('Co2+', 'Ti4+', 4.3842431279341393e-05),\n",
       "  ('K1+', 'Ti4+', 4.3838924025131085e-05),\n",
       "  ('Cr3+', 'Ti4+', 4.234338028148513e-05),\n",
       "  ('Mn3+', 'Ti4+', 3.7092622638148224e-05),\n",
       "  ('Fe2+', 'Ti4+', 3.333914056567426e-05),\n",
       "  ('Al3+', 'Ti4+', 3.0368749390927986e-05)],\n",
       " 'n-type anion substitutions': [('F1-', 'O2-', 0.01508116810515677),\n",
       "  ('Cl1-', 'O2-', 0.004737202729901607),\n",
       "  ('H1-', 'O2-', 9.31310255126729e-08),\n",
       "  ('C1-', 'O2-', 9.31310255126729e-08),\n",
       "  ('N1-', 'O2-', 9.31310255126729e-08),\n",
       "  ('O1-', 'O2-', 9.31310255126729e-08),\n",
       "  ('Na1-', 'O2-', 9.31310255126729e-08),\n",
       "  ('Si1-', 'O2-', 9.31310255126729e-08),\n",
       "  ('P1-', 'O2-', 9.31310255126729e-08),\n",
       "  ('S1-', 'O2-', 9.31310255126729e-08),\n",
       "  ('K1-', 'O2-', 9.31310255126729e-08),\n",
       "  ('Ti1-', 'O2-', 9.31310255126729e-08),\n",
       "  ('V1-', 'O2-', 9.31310255126729e-08),\n",
       "  ('Cr1-', 'O2-', 9.31310255126729e-08),\n",
       "  ('Mn1-', 'O2-', 9.31310255126729e-08)],\n",
       " 'p-type anion substitutions': [('N3-', 'O2-', 0.0014663800608945628),\n",
       "  ('C4-', 'O2-', 9.31310255126729e-08),\n",
       "  ('C3-', 'O2-', 9.31310255126729e-08),\n",
       "  ('Si4-', 'O2-', 9.31310255126729e-08),\n",
       "  ('Si3-', 'O2-', 9.31310255126729e-08),\n",
       "  ('P3-', 'O2-', 9.31310255126729e-08),\n",
       "  ('Mn3-', 'O2-', 9.31310255126729e-08),\n",
       "  ('Ge4-', 'O2-', 9.31310255126729e-08),\n",
       "  ('Ge3-', 'O2-', 9.31310255126729e-08),\n",
       "  ('As3-', 'O2-', 9.31310255126729e-08),\n",
       "  ('Tc3-', 'O2-', 9.31310255126729e-08),\n",
       "  ('Sn4-', 'O2-', 9.31310255126729e-08),\n",
       "  ('Sb3-', 'O2-', 9.31310255126729e-08),\n",
       "  ('Re3-', 'O2-', 9.31310255126729e-08),\n",
       "  ('Ir3-', 'O2-', 9.31310255126729e-08)]}"
      ]
     },
     "execution_count": 6,
     "metadata": {},
     "output_type": "execute_result"
    }
   ],
   "source": [
    "material = Doper((\"Ti4+\", \"O2-\"))\n",
    "material.get_dopants()\n",
    "\n",
    "#15 possible dopants\n",
    "material.get_dopants(15)"
   ]
  },
  {
   "attachments": {},
   "cell_type": "markdown",
   "id": "11ec5825",
   "metadata": {},
   "source": [
    "Ternary and multicomponent systems can also be tested."
   ]
  },
  {
   "cell_type": "code",
   "execution_count": 19,
   "id": "df5a5dbb",
   "metadata": {},
   "outputs": [
    {
     "data": {
      "text/plain": [
       "{'n-type cation substitutions': [('Si4+', 'Ge4+', 0.0008777853600526021),\n",
       "  ('Co2+', 'Zn2+', 0.00038676299875561366),\n",
       "  ('Cd2+', 'Zn2+', 0.00034479571082730946),\n",
       "  ('Mg2+', 'Zn2+', 0.00034293540270251613),\n",
       "  ('Mn2+', 'Zn2+', 0.00033249741948425897)],\n",
       " 'p-type cation substitutions': [('Ag1+', 'Cu1+', 0.0004187742948950742),\n",
       "  ('Co2+', 'Zn2+', 0.00038676299875561366),\n",
       "  ('Cd2+', 'Zn2+', 0.00034479571082730946),\n",
       "  ('Mg2+', 'Zn2+', 0.00034293540270251613),\n",
       "  ('Mn2+', 'Zn2+', 0.00033249741948425897)],\n",
       " 'n-type anion substitutions': [('Cl1-', 'S2-', 0.000708721114826238),\n",
       "  ('F1-', 'S2-', 0.00021217514709258802),\n",
       "  ('H1-', 'S2-', 9.31310255126729e-08),\n",
       "  ('C1-', 'S2-', 9.31310255126729e-08),\n",
       "  ('N1-', 'S2-', 9.31310255126729e-08)],\n",
       " 'p-type anion substitutions': [('N3-', 'S2-', 0.0007862635952461277),\n",
       "  ('C4-', 'S2-', 9.31310255126729e-08),\n",
       "  ('C3-', 'S2-', 9.31310255126729e-08),\n",
       "  ('Si4-', 'S2-', 9.31310255126729e-08),\n",
       "  ('Si3-', 'S2-', 9.31310255126729e-08)]}"
      ]
     },
     "execution_count": 19,
     "metadata": {},
     "output_type": "execute_result"
    }
   ],
   "source": [
    "quaternary = Doper((\"Cu1+\", \"Zn2+\", \"Ge4+\", \"S2-\"))\n",
    "quaternary.get_dopants()"
   ]
  },
  {
   "attachments": {},
   "cell_type": "markdown",
   "id": "f2524a92",
   "metadata": {},
   "source": [
    "If you want to plot the results in the form of heatmap, use `plot_dopants` method.\n",
    "\n",
    "`num_dopants` input can also be used."
   ]
  },
  {
   "cell_type": "code",
   "execution_count": 20,
   "id": "dc29d078",
   "metadata": {},
   "outputs": [
    {
     "ename": "ValueError",
     "evalue": "too many values to unpack (expected 2)",
     "output_type": "error",
     "traceback": [
      "\u001b[0;31m---------------------------------------------------------------------------\u001b[0m",
      "\u001b[0;31mValueError\u001b[0m                                Traceback (most recent call last)",
      "Cell \u001b[0;32mIn[20], line 1\u001b[0m\n\u001b[0;32m----> 1\u001b[0m quaternary\u001b[39m.\u001b[39;49mplot_dopants(\u001b[39m10\u001b[39;49m)\n",
      "File \u001b[0;32m~/Documents/smactClone/SMACT/smact/dopant_prediction/doper.py:191\u001b[0m, in \u001b[0;36mDoper.plot_dopants\u001b[0;34m(self, num_dopants)\u001b[0m\n\u001b[1;32m    184\u001b[0m results \u001b[39m=\u001b[39m {\n\u001b[1;32m    185\u001b[0m     \u001b[39m\"\u001b[39m\u001b[39mn-type cation substitutions\u001b[39m\u001b[39m\"\u001b[39m: \u001b[39mself\u001b[39m\u001b[39m.\u001b[39mn_type_cat[:num_dopants],\n\u001b[1;32m    186\u001b[0m     \u001b[39m\"\u001b[39m\u001b[39mp-type cation substitutions\u001b[39m\u001b[39m\"\u001b[39m: \u001b[39mself\u001b[39m\u001b[39m.\u001b[39mp_type_cat[:num_dopants],\n\u001b[1;32m    187\u001b[0m     \u001b[39m\"\u001b[39m\u001b[39mn-type anion substitutions\u001b[39m\u001b[39m\"\u001b[39m: \u001b[39mself\u001b[39m\u001b[39m.\u001b[39mn_type_an[:num_dopants],\n\u001b[1;32m    188\u001b[0m     \u001b[39m\"\u001b[39m\u001b[39mp-type anion substitutions\u001b[39m\u001b[39m\"\u001b[39m: \u001b[39mself\u001b[39m\u001b[39m.\u001b[39mp_type_an[:num_dopants],\n\u001b[1;32m    189\u001b[0m }\n\u001b[1;32m    190\u001b[0m \u001b[39mfor\u001b[39;00m key, val \u001b[39min\u001b[39;00m results\u001b[39m.\u001b[39mitems():\n\u001b[0;32m--> 191\u001b[0m     dict_results \u001b[39m=\u001b[39m {utilities\u001b[39m.\u001b[39mparse_spec(x)[\u001b[39m0\u001b[39m]: y \u001b[39mfor\u001b[39;00m x, y \u001b[39min\u001b[39;00m val}\n\u001b[1;32m    192\u001b[0m     plotting\u001b[39m.\u001b[39mperiodic_table_heatmap(\n\u001b[1;32m    193\u001b[0m         elemental_data\u001b[39m=\u001b[39mdict_results,\n\u001b[1;32m    194\u001b[0m         cmap\u001b[39m=\u001b[39m\u001b[39m\"\u001b[39m\u001b[39mrainbow\u001b[39m\u001b[39m\"\u001b[39m,\n\u001b[0;32m   (...)\u001b[0m\n\u001b[1;32m    197\u001b[0m         show_plot\u001b[39m=\u001b[39m\u001b[39mTrue\u001b[39;00m,\n\u001b[1;32m    198\u001b[0m     )\n",
      "File \u001b[0;32m~/Documents/smactClone/SMACT/smact/dopant_prediction/doper.py:191\u001b[0m, in \u001b[0;36m<dictcomp>\u001b[0;34m(.0)\u001b[0m\n\u001b[1;32m    184\u001b[0m results \u001b[39m=\u001b[39m {\n\u001b[1;32m    185\u001b[0m     \u001b[39m\"\u001b[39m\u001b[39mn-type cation substitutions\u001b[39m\u001b[39m\"\u001b[39m: \u001b[39mself\u001b[39m\u001b[39m.\u001b[39mn_type_cat[:num_dopants],\n\u001b[1;32m    186\u001b[0m     \u001b[39m\"\u001b[39m\u001b[39mp-type cation substitutions\u001b[39m\u001b[39m\"\u001b[39m: \u001b[39mself\u001b[39m\u001b[39m.\u001b[39mp_type_cat[:num_dopants],\n\u001b[1;32m    187\u001b[0m     \u001b[39m\"\u001b[39m\u001b[39mn-type anion substitutions\u001b[39m\u001b[39m\"\u001b[39m: \u001b[39mself\u001b[39m\u001b[39m.\u001b[39mn_type_an[:num_dopants],\n\u001b[1;32m    188\u001b[0m     \u001b[39m\"\u001b[39m\u001b[39mp-type anion substitutions\u001b[39m\u001b[39m\"\u001b[39m: \u001b[39mself\u001b[39m\u001b[39m.\u001b[39mp_type_an[:num_dopants],\n\u001b[1;32m    189\u001b[0m }\n\u001b[1;32m    190\u001b[0m \u001b[39mfor\u001b[39;00m key, val \u001b[39min\u001b[39;00m results\u001b[39m.\u001b[39mitems():\n\u001b[0;32m--> 191\u001b[0m     dict_results \u001b[39m=\u001b[39m {utilities\u001b[39m.\u001b[39mparse_spec(x)[\u001b[39m0\u001b[39m]: y \u001b[39mfor\u001b[39;00m x, y \u001b[39min\u001b[39;00m val}\n\u001b[1;32m    192\u001b[0m     plotting\u001b[39m.\u001b[39mperiodic_table_heatmap(\n\u001b[1;32m    193\u001b[0m         elemental_data\u001b[39m=\u001b[39mdict_results,\n\u001b[1;32m    194\u001b[0m         cmap\u001b[39m=\u001b[39m\u001b[39m\"\u001b[39m\u001b[39mrainbow\u001b[39m\u001b[39m\"\u001b[39m,\n\u001b[0;32m   (...)\u001b[0m\n\u001b[1;32m    197\u001b[0m         show_plot\u001b[39m=\u001b[39m\u001b[39mTrue\u001b[39;00m,\n\u001b[1;32m    198\u001b[0m     )\n",
      "\u001b[0;31mValueError\u001b[0m: too many values to unpack (expected 2)"
     ]
    }
   ],
   "source": [
    "quaternary.plot_dopants(10)"
   ]
  }
 ],
 "metadata": {
  "kernelspec": {
   "display_name": "venv",
   "language": "python",
   "name": "python3"
  },
  "language_info": {
   "codemirror_mode": {
    "name": "ipython",
    "version": 3
   },
   "file_extension": ".py",
   "mimetype": "text/x-python",
   "name": "python",
   "nbconvert_exporter": "python",
   "pygments_lexer": "ipython3",
   "version": "3.9.7"
  }
 },
 "nbformat": 4,
 "nbformat_minor": 5
}
