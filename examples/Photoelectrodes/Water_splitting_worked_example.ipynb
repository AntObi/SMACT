{
 "cells": [
  {
   "cell_type": "markdown",
   "metadata": {},
   "source": [
    "# Photoelectrode chalcohalide search\n",
    "\n",
    "In this example, we use SMACT to search for possible element combinations with electron energies suitable for photochemical water splitting. \n",
    "\n",
    "* We search only through the elements which have been assinged a Solid State Energy (SSE) according to [Pelatt *et al.*](http://www.ncbi.nlm.nih.gov/pubmed/21861503)\n",
    "* We search only for ternary (A$_x$B$_y$C$_z$) materials where B = O, S, Se or Te; C = F, Cl, Br, I and 1 ≤ x,y,z ≤ 8.\n"
   ]
  },
  {
   "cell_type": "code",
   "execution_count": null,
   "metadata": {
    "collapsed": false
   },
   "outputs": [],
   "source": [
    "%load_ext autoreload\n",
    "%matplotlib inline\n",
    "import smact\n",
    "import smact.screening as screening\n",
    "import csv\n",
    "from os import path\n",
    "import itertools\n",
    "from operator import itemgetter\n",
    "import numpy as np\n",
    "import matplotlib.pyplot as plt\n",
    "import cubehelix\n",
    "import matplotlib.colors as colors\n",
    "import matplotlib.cm as cm\n",
    "import matplotlib\n",
    "import matplotlib.transforms as mtransforms\n",
    "import matplotlib.patches as patches\n",
    "matplotlib.rcParams['figure.figsize'] = (15, 9)\n",
    "label_size = 18\n",
    "matplotlib.rcParams['xtick.labelsize'] = label_size\n",
    "matplotlib.rcParams['ytick.labelsize'] = label_size"
   ]
  },
  {
   "cell_type": "markdown",
   "metadata": {},
   "source": [
    "## Setting up the chemical space for the search\n",
    "Initially we define all the A elements to consider as those which have an SSE value"
   ]
  },
  {
   "cell_type": "code",
   "execution_count": null,
   "metadata": {
    "collapsed": true
   },
   "outputs": [],
   "source": [
    "considered_elements = []\n",
    "with open(path.join(smact.data_directory, 'SSE.csv'), 'rU') as f:\n",
    "    reader = csv.reader(f)\n",
    "    for row in reader:\n",
    "        considered_elements.append(row[0])"
   ]
  },
  {
   "cell_type": "markdown",
   "metadata": {},
   "source": [
    "We define a minimum SSE that the A element must have in order that it lies above the reduction potential for water splitting"
   ]
  },
  {
   "cell_type": "code",
   "execution_count": null,
   "metadata": {
    "collapsed": true
   },
   "outputs": [],
   "source": [
    "SSE_min = -4.5\n",
    "A_elements = []\n",
    "for cation in considered_elements:\n",
    "    A_SSE = smact.Element(cation).SSE\n",
    "    if A_SSE >= SSE_min:\n",
    "        A_elements.append(cation)"
   ]
  },
  {
   "cell_type": "markdown",
   "metadata": {},
   "source": [
    "We define our B and C elements"
   ]
  },
  {
   "cell_type": "code",
   "execution_count": null,
   "metadata": {
    "collapsed": false
   },
   "outputs": [],
   "source": [
    "B_elements = ['O','S','Se','Te']\n",
    "C_elements = ['F','Cl','Br','I']"
   ]
  },
  {
   "cell_type": "markdown",
   "metadata": {},
   "source": [
    "## Iterative search\n",
    "We now screen for possible element combinations and apply various levels of screening:\n",
    "\n",
    "1. There must exist a charge neutral combination for some stoichiometry where 1 ≤ x,y,z ≤ 8\n",
    "2. The combination must not contravene the electronegativity rule\n",
    "3. The predicted band gap must be between 1.5 and 2.5 eV\n",
    "4. Environmental screening based on HHI$_R$"
   ]
  },
  {
   "cell_type": "code",
   "execution_count": null,
   "metadata": {
    "collapsed": false
   },
   "outputs": [],
   "source": [
    "stoichiometry_limit = 8\n",
    "BG_max = 2.5\n",
    "BG_min = 1.5\n",
    "\n",
    "raw_ion_count = 0\n",
    "charge_balanced_count = 0\n",
    "electroneg_OK_count = 0\n",
    "BG_OK_count = 0\n",
    "\n",
    "unique_ABCs = []\n",
    "\n",
    "for i, ele_A in enumerate(A_elements):\n",
    "    paul_A = smact.Element(ele_A).pauling_eneg\n",
    "    for ox_A in smact.Element(ele_A).oxidation_states:\n",
    "        for j, ele_B in enumerate(B_elements):\n",
    "            paul_B = smact.Element(ele_B).pauling_eneg\n",
    "            for ox_B in smact.Element(ele_B).oxidation_states:     \n",
    "                for k, ele_C in enumerate(C_elements):\n",
    "                    paul_C = smact.Element(ele_C).pauling_eneg\n",
    "                    for ox_C in smact.Element(ele_C).oxidation_states:\n",
    "                        \n",
    "                        raw_ion_count = raw_ion_count + 1\n",
    "                        elements = [ele_A, ele_B, ele_C]\n",
    "                        ox_states = [ox_A, ox_B, ox_C]\n",
    "                        electronegativities = [paul_A, paul_B, paul_C]\n",
    "\n",
    "                        # Test for charge balance\n",
    "                        cn_e, cn_r = smact.neutral_ratios(ox_states,threshold = stoichiometry_limit)\n",
    "                        if cn_e:\n",
    "                            charge_balanced_count = charge_balanced_count + len(cn_r)\n",
    "                            \n",
    "                            # Electronegativity test\n",
    "                            electroneg_OK = screening.pauling_test(ox_states, electronegativities, elements, threshold = 0.0)\n",
    "                            if electroneg_OK:\n",
    "                                electroneg_OK_count = electroneg_OK_count + len(cn_r)\n",
    "                                \n",
    "                                # Band gap test\n",
    "                                SSE_A = smact.Element(ele_A).SSE\n",
    "                                SSE_B = smact.Element(ele_B).SSE\n",
    "                                SSE_C = smact.Element(ele_C).SSE\n",
    "                                BG_1 = abs(SSE_A - SSE_B)\n",
    "                                BG_2 = abs(SSE_A - SSE_C)\n",
    "                                if (BG_1 <= BG_max) and (BG_1 >= BG_min):\n",
    "                                    BG_OK_count = BG_OK_count + len(cn_r)\n",
    "                                    entry = [elements, SSE_A, SSE_B, BG_1]\n",
    "                                    if entry not in unique_ABCs:\n",
    "                                        unique_ABCs.append(entry)\n",
    "                                elif (BG_2 <= BG_max) and (BG_2 >= BG_min):\n",
    "                                    BG_OK_count = BG_OK_count + len(cn_r)\n",
    "                                    entry = [elements, SSE_A, SSE_C, BG_2]\n",
    "                                    if entry not in unique_ABCs:\n",
    "                                        unique_ABCs.append(entry)"
   ]
  },
  {
   "cell_type": "markdown",
   "metadata": {},
   "source": [
    "## View results"
   ]
  },
  {
   "cell_type": "code",
   "execution_count": null,
   "metadata": {
    "collapsed": false
   },
   "outputs": [],
   "source": [
    "print \"Total number of ion combinations: \\t\\t\\t\\t\\t{0:8d}\".format(raw_ion_count)\n",
    "print \"Total number of charge neutral combinations: \\t\\t\\t\\t{0:8d}\".format(charge_balanced_count)\n",
    "print \"Total number after electronegativity criterion applied: \\t\\t{0:8d}\".format(electroneg_OK_count)\n",
    "print \"Total number after band gap criteria applied: \\t\\t\\t\\t{0:8d}\".format(BG_OK_count)\n",
    "print \"Total number of unique ABC compositions: \\t\\t\\t\\t{0:8d}\".format(len(unique_ABCs))"
   ]
  },
  {
   "cell_type": "markdown",
   "metadata": {
    "collapsed": true
   },
   "source": [
    "## Remove boron containing compounds\n",
    "As these are known to form discrete molecular units e.g. BClSe"
   ]
  },
  {
   "cell_type": "code",
   "execution_count": null,
   "metadata": {
    "collapsed": false
   },
   "outputs": [],
   "source": [
    "boron_free = []\n",
    "for entry in unique_ABCs:\n",
    "    if entry[0][0] != 'B':\n",
    "        boron_free.append(entry)\n",
    "print \"Total number of unique ABC compositions without B: \\t\\t\\t{0:8d}\".format(len(boron_free))"
   ]
  },
  {
   "cell_type": "markdown",
   "metadata": {},
   "source": [
    "## Apply HHI_R screening criteria\n",
    "Finally we assign HHI$_R$ scores to each composition and plot the top 20"
   ]
  },
  {
   "cell_type": "code",
   "execution_count": null,
   "metadata": {
    "collapsed": false
   },
   "outputs": [],
   "source": [
    "for entry in boron_free:\n",
    "    HHI_r = (smact.Element(entry[0][0]).HHI_R\n",
    "    + smact.Element(entry[0][1]).HHI_R\n",
    "    + smact.Element(entry[0][2]).HHI_R)/3\n",
    "    entry.append(HHI_r)"
   ]
  },
  {
   "cell_type": "code",
   "execution_count": null,
   "metadata": {
    "collapsed": false
   },
   "outputs": [],
   "source": [
    "final_list = []\n",
    "sorted_list = sorted(boron_free, key=itemgetter(4))\n",
    "for i in range(0,20):\n",
    "    final_list.append(sorted_list[i])"
   ]
  },
  {
   "cell_type": "markdown",
   "metadata": {},
   "source": [
    "## Plot graphs"
   ]
  },
  {
   "cell_type": "code",
   "execution_count": null,
   "metadata": {
    "collapsed": false
   },
   "outputs": [],
   "source": [
    "# Labels\n",
    "labels = []\n",
    "for i in range(len(final_list)):\n",
    "    label = r'$\\mathrm{\\mathsf{%s_x %s_y %s_z}}$' %(final_list[i][0][0],final_list[i][0][1],final_list[i][0][2])\n",
    "    labels.append(label)\n",
    "    \n",
    "# Whole fill bar\n",
    "fill = []\n",
    "for i in range(len(final_list)):\n",
    "    fill.append(-10)\n",
    "\n",
    "# Lists\n",
    "HHI_list = []\n",
    "for i in range(len(final_list)):\n",
    "    HHI = final_list[i][4]\n",
    "    HHI_list.append(HHI)\n",
    "\n",
    "VBM_list = []\n",
    "for i in range(len(final_list)):\n",
    "    VBM = final_list[i][2]\n",
    "    VBM_list.append(VBM)\n",
    "\n",
    "CBM_list = []\n",
    "for i in range(len(final_list)):\n",
    "    CBM = final_list[i][1]\n",
    "    CBM_list.append(CBM)\n",
    "    \n",
    "# Colour\n",
    "theme_colours = []\n",
    "with open('colormaps/colormap', 'r') as f:\n",
    "    for line in f:\n",
    "        c = line.split()\n",
    "        theme_colours.append([float(c[0])/256,float(c[1])/256,float(c[2])/256])\n",
    "\n",
    "col = colors.ListedColormap(theme_colours,name='test')\n",
    "norm = colors.Normalize(vmin=min(HHI_list), vmax=max(HHI_list), clip = True)\n",
    "mapper = cm.ScalarMappable(norm=norm, cmap=col)\n",
    "mapper.set_array(HHI_list)\n",
    "my_colours = []\n",
    "for v in HHI_list:\n",
    "    my_colours.append(mapper.to_rgba(v))    \n",
    "    \n",
    "# Horizontal lines\n",
    "plt.plot([0.,len(final_list)], [-4.5, -4.5], \"k--\", linewidth = 1.5, color = 'b')\n",
    "plt.plot([0.,len(final_list)], [-5.6, -5.6], \"k--\", linewidth = 1.5, color = 'b')\n",
    "\n",
    "x_pos=np.arange(len(final_list))\n",
    "plt.bar(x_pos,fill,width=1.0,color=my_colours)\n",
    "plt.bar(x_pos,VBM_list,width=1.0,color='w')\n",
    "plt.bar(x_pos,CBM_list,width=1.0,color=my_colours)\n",
    "plt.xticks(x_pos+0.5, labels, rotation=45)\n",
    "plt.ylabel('Energy (eV)', size = label_size)\n",
    "\n",
    "cb = plt.colorbar(mapper)\n",
    "cb.set_label(r'$\\mathrm{\\mathsf{HHI_R}}$', size = label_size, labelpad=15)\n",
    "plt.show()"
   ]
  },
  {
   "cell_type": "code",
   "execution_count": null,
   "metadata": {
    "collapsed": true
   },
   "outputs": [],
   "source": []
  }
 ],
 "metadata": {
  "kernelspec": {
   "display_name": "Python 2",
   "language": "python",
   "name": "python2"
  },
  "language_info": {
   "codemirror_mode": {
    "name": "ipython",
    "version": 2
   },
   "file_extension": ".py",
   "mimetype": "text/x-python",
   "name": "python",
   "nbconvert_exporter": "python",
   "pygments_lexer": "ipython2",
   "version": "2.7.11"
  }
 },
 "nbformat": 4,
 "nbformat_minor": 0
}
