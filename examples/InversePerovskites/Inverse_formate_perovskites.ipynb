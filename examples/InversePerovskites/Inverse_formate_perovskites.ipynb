{
 "cells": [
  {
   "cell_type": "markdown",
   "metadata": {},
   "source": [
    "# Formate perovskites\n",
    "Here, we search for inverse perovskite structures, which include the formate anion. The result could be achieved using many fewer lines of codes + inbuilt `smact` functions, but the methodology is written out explicitly here for transparency. "
   ]
  },
  {
   "cell_type": "code",
   "execution_count": 15,
   "metadata": {},
   "outputs": [],
   "source": [
    "get_ipython().magic(u'matplotlib inline')\n",
    "import smact\n",
    "import smact.lattice as lattice\n",
    "import smact.builder as builder\n",
    "import smact.screening as screening\n",
    "import copy\n",
    "import os\n",
    "import csv\n",
    "import numpy as np\n",
    "import matplotlib.pyplot as plt\n",
    "import matplotlib\n",
    "from smact import data_directory as data_directory"
   ]
  },
  {
   "cell_type": "markdown",
   "metadata": {},
   "source": [
    "We define the positions and allowed oxidation states at each lattice site"
   ]
  },
  {
   "cell_type": "code",
   "execution_count": 7,
   "metadata": {},
   "outputs": [],
   "source": [
    "site_A = lattice.Site([0,0,0],[-1])\n",
    "site_B = lattice.Site([0.5,0.5,0.5],[+5,+4])\n",
    "site_C = lattice.Site([0.5,0.5,0.5],[-2,-1])\n",
    "perovskite = lattice.Lattice([site_A,site_B,site_C],space_group=221)"
   ]
  },
  {
   "cell_type": "markdown",
   "metadata": {},
   "source": [
    "We search through the elements of interest and find those that are allowed on each site. In this example, we use the F- anion with an increased Shannon radius to simulate the formate anion."
   ]
  },
  {
   "cell_type": "code",
   "execution_count": 28,
   "metadata": {},
   "outputs": [],
   "source": [
    "search = smact.ordered_elements(3,87)\n",
    "\n",
    "A_list = []\n",
    "B_list = []\n",
    "C_list = [['F',-1,4.47]]\n",
    "for element in search:\n",
    "    with open(os.path.join(data_directory, 'shannon_radii.csv'),'r') as f:\n",
    "        reader = csv.reader(f)\n",
    "        r_shannon=False\n",
    "        for row in reader:\n",
    "            if row[0]==element and int(row[1]) in site_A.oxidation_states:\n",
    "                A_list.append([row[0],int(row[1]),float(row[4])])\n",
    "            if row[2]==\"6_n\" and row[0]==element and int(row[1]) in site_B.oxidation_states:\n",
    "                B_list.append([row[0],int(row[1]),float(row[4])])"
   ]
  },
  {
   "cell_type": "markdown",
   "metadata": {},
   "source": [
    "We go through and apply the electronegativity order test (pauling_test) to each combo. Then, we use Goldschmidt tolernace factor to group into crystal structure types."
   ]
  },
  {
   "cell_type": "code",
   "execution_count": 31,
   "metadata": {},
   "outputs": [],
   "source": [
    "charge_balanced = []\n",
    "goldschmidt_cubic = []\n",
    "goldschmidt_ortho = []\n",
    "a_too_large = []\n",
    "A_B_similar = []\n",
    "pauling_perov = []\n",
    "anion_stats = []\n",
    "for C in C_list:\n",
    "    anion_hex = 0\n",
    "    anion_cub = 0\n",
    "    anion_ort = 0\n",
    "    for B in B_list:\n",
    "        for A in A_list:\n",
    "            if B[0] != A[0]:        \n",
    "                if C[0] != A[0] and C[0] != B[0]:\n",
    "                    if int(A[1])+int(B[1])+3*int(C[1]) == 0:\n",
    "                        charge_balanced.append([A[0],B[0],C[0]])\n",
    "                        paul_a = smact.Element(A[0]).pauling_eneg\n",
    "                        paul_b = smact.Element(B[0]).pauling_eneg\n",
    "                        paul_c = smact.Element(C[0]).pauling_eneg\n",
    "                        electroneg_makes_sense = screening.pauling_test([A[1],B[1],C[1]], [paul_a,paul_b,paul_c])\n",
    "                        if electroneg_makes_sense:\n",
    "                            pauling_perov.append([A[0],B[0],C[0]])\n",
    "                            tol = (float(A[2]) + C[2])/(np.sqrt(2)*(float(B[2])+C[2]))\n",
    "                            if tol > 1.0:\n",
    "                                a_too_large.append([A[0],B[0],C[0]])\n",
    "                                anion_hex = anion_hex+1\n",
    "                            if tol > 0.9 and tol <= 1.0:\n",
    "                                goldschmidt_cubic.append([A[0],B[0],C[0]])\n",
    "                                anion_cub = anion_cub + 1\n",
    "                            if tol >= 0.71 and tol < 0.9:\n",
    "                                goldschmidt_ortho.append([A[0],B[0],C[0]])\n",
    "                                anion_ort = anion_ort + 1\n",
    "                            if tol < 0.71:\n",
    "                                A_B_similar.append([A[0],B[0],C[0]])\n",
    "    anion_stats.append([anion_hex,anion_cub,anion_ort])"
   ]
  },
  {
   "cell_type": "code",
   "execution_count": 33,
   "metadata": {},
   "outputs": [
    {
     "name": "stdout",
     "output_type": "stream",
     "text": [
      "[[1, 40, 58]]\n",
      "Number of possible charge neutral perovskites from Li to Fr = 99\n",
      "Number of Pauling senseibe perovskites from Li to Fr = 99\n",
      "Number of possible cubic perovskites from Li to Fr = 40\n",
      "Number of possible ortho perovskites from Li to Fr = 58\n",
      "Number of possible hexagonal perovskites from Li to Fr = 1\n",
      "Number of possible non-perovskites from Li to Fr = 0\n",
      "----------------------------------------------------------------\n",
      "Structures identified with cubic tolerance factor 0.9 < t < 1.0 \n",
      "----------------------------------------------------------------\n",
      "Cl C (HCOO)3\n",
      "Br C (HCOO)3\n",
      "Cl Si (HCOO)3\n",
      "Br Si (HCOO)3\n",
      "I Si (HCOO)3\n",
      "Cl S (HCOO)3\n",
      "Br S (HCOO)3\n",
      "I S (HCOO)3\n",
      "I Ti (HCOO)3\n",
      "Br V (HCOO)3\n",
      "I V (HCOO)3\n",
      "Br Cr (HCOO)3\n",
      "I Cr (HCOO)3\n",
      "Br Mn (HCOO)3\n",
      "I Mn (HCOO)3\n",
      "I Fe (HCOO)3\n",
      "Br Co (HCOO)3\n",
      "I Co (HCOO)3\n",
      "Br Ni (HCOO)3\n",
      "I Ni (HCOO)3\n",
      "Br Ge (HCOO)3\n",
      "I Ge (HCOO)3\n",
      "Br Se (HCOO)3\n",
      "I Se (HCOO)3\n",
      "I Zr (HCOO)3\n",
      "I Nb (HCOO)3\n",
      "I Mo (HCOO)3\n",
      "I Tc (HCOO)3\n",
      "I Ru (HCOO)3\n",
      "I Rh (HCOO)3\n",
      "I Pd (HCOO)3\n",
      "I Sn (HCOO)3\n",
      "I Tb (HCOO)3\n",
      "I Hf (HCOO)3\n",
      "I Ta (HCOO)3\n",
      "I W (HCOO)3\n",
      "I Re (HCOO)3\n",
      "I Os (HCOO)3\n",
      "I Ir (HCOO)3\n",
      "I Pt (HCOO)3\n"
     ]
    },
    {
     "data": {
      "image/png": "[encoded data removed]",
      "text/plain": [
       "<Figure size 432x288 with 1 Axes>"
      ]
     },
     "metadata": {},
     "output_type": "display_data"
    }
   ],
   "source": [
    "print (anion_stats)\n",
    "colours=['#991D1D','#8D6608','#857070']\n",
    "matplotlib.rcParams.update({'font.size': 22})\n",
    "plt.pie(anion_stats[0],labels=['Hex','Cubic','Ortho']\n",
    "        ,startangle=90,autopct='%1.1f%%',colors=colours)\n",
    "plt.axis('equal')\n",
    "plt.savefig('Form-perovskites.png')\n",
    "\n",
    "print ('Number of possible charge neutral perovskites from', search[0], 'to', search[len(search)-1], '=', len(charge_balanced))\n",
    "print ('Number of Pauling senseibe perovskites from', search[0], 'to', search[len(search)-1], '=', len(pauling_perov))\n",
    "print ('Number of possible cubic perovskites from', search[0], 'to', search[len(search)-1], '=', len(goldschmidt_cubic))\n",
    "print ('Number of possible ortho perovskites from', search[0], 'to', search[len(search)-1], '=', len(goldschmidt_ortho))\n",
    "print ('Number of possible hexagonal perovskites from', search[0], 'to', search[len(search)-1], '=', len(a_too_large))\n",
    "print ('Number of possible non-perovskites from', search[0], 'to', search[len(search)-1], '=', len(A_B_similar))\n",
    "\n",
    "\n",
    "#print goldschmidt_cubic\n",
    "print( \"----------------------------------------------------------------\")\n",
    "print( \"Structures identified with cubic tolerance factor 0.9 < t < 1.0 \")\n",
    "print( \"----------------------------------------------------------------\")\n",
    "for structure in goldschmidt_cubic:\n",
    "    print( structure[0],structure[1],'(HCOO)3')\n"
   ]
  },
  {
   "cell_type": "code",
   "execution_count": null,
   "metadata": {},
   "outputs": [],
   "source": []
  }
 ],
 "metadata": {
  "kernelspec": {
   "display_name": "Python 3",
   "language": "python",
   "name": "python3"
  },
  "language_info": {
   "codemirror_mode": {
    "name": "ipython",
    "version": 3
   },
   "file_extension": ".py",
   "mimetype": "text/x-python",
   "name": "python",
   "nbconvert_exporter": "python",
   "pygments_lexer": "ipython3",
   "version": "3.6.8"
  }
 },
 "nbformat": 4,
 "nbformat_minor": 2
}
